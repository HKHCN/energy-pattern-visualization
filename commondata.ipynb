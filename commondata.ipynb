{
 "cells": [
  {
   "cell_type": "code",
   "execution_count": 92,
   "outputs": [],
   "source": [
    "import numpy as np\n",
    "import pandas as pd\n",
    "import matplotlib.pyplot as plt\n",
    "import seaborn as sns\n",
    "import plotly\n",
    "import plotly.express as px"
   ],
   "metadata": {
    "collapsed": false,
    "pycharm": {
     "name": "#%%\n"
    }
   }
  },
  {
   "cell_type": "code",
   "execution_count": 93,
   "outputs": [
    {
     "name": "stderr",
     "output_type": "stream",
     "text": [
      "/var/folders/lw/cbxh4d5n6nj91c7dnbv6yy740000gn/T/ipykernel_13408/2668219060.py:1: DtypeWarning:\n",
      "\n",
      "Columns (5) have mixed types. Specify dtype option on import or set low_memory=False.\n",
      "\n"
     ]
    }
   ],
   "source": [
    "dataset = pd.read_csv('dataset/serl_energy_use_in_GB_domestic_buildings_2021_aggregated_statistics_v01.csv')"
   ],
   "metadata": {
    "collapsed": false,
    "pycharm": {
     "name": "#%%\n"
    }
   }
  },
  {
   "cell_type": "code",
   "execution_count": 94,
   "outputs": [],
   "source": [
    "dataset['time_period'].replace(2020, '2020', inplace=True)\n",
    "dataset['time_period'].replace(2021, '2021', inplace=True)"
   ],
   "metadata": {
    "collapsed": false,
    "pycharm": {
     "name": "#%%\n"
    }
   }
  },
  {
   "cell_type": "code",
   "execution_count": 95,
   "outputs": [
    {
     "data": {
      "text/plain": "              fuel unit        summary_stat subsample summary_time  \\\n0  Net Electricity  kWh                mean       all         2021   \n1  Net Electricity  kWh  standard deviation       all         2021   \n2  Net Electricity  kWh              median       all         2021   \n3  Net Electricity  kWh     75th percentile       all         2021   \n4  Net Electricity  kWh     25th percentile       all         2021   \n\n  time_period segmentation_variable_1 segment_1_value   value  n_sample  ...  \\\n0        2021                    None            None   9.823   10764.0  ...   \n1        2021                    None            None   7.700   10764.0  ...   \n2        2021                    None            None   8.168   10764.0  ...   \n3        2021                    None            None  12.212   10764.0  ...   \n4        2021                    None            None   5.415   10764.0  ...   \n\n   mean_temp  mean_hdd  decimal_places  weekday_weekend mean_floor_area  \\\n0     10.378      5.74             3.0             both       95.551547   \n1     10.378      5.74             3.0             both       95.551547   \n2     10.378      5.74             3.0             both       95.551547   \n3     10.378      5.74             3.0             both       95.551547   \n4     10.378      5.74             3.0             both       95.551547   \n\n   n_mean_floor_area  mean_bedrooms  n_mean_bedrooms  mean_occupants  \\\n0             7617.0       2.918951          12659.0        2.277386   \n1             7617.0       2.918951          12659.0        2.277386   \n2             7617.0       2.918951          12659.0        2.277386   \n3             7617.0       2.918951          12659.0        2.277386   \n4             7617.0       2.918951          12659.0        2.277386   \n\n   n_mean_occupants  \n0           12625.0  \n1           12625.0  \n2           12625.0  \n3           12625.0  \n4           12625.0  \n\n[5 rows x 21 columns]",
      "text/html": "<div>\n<style scoped>\n    .dataframe tbody tr th:only-of-type {\n        vertical-align: middle;\n    }\n\n    .dataframe tbody tr th {\n        vertical-align: top;\n    }\n\n    .dataframe thead th {\n        text-align: right;\n    }\n</style>\n<table border=\"1\" class=\"dataframe\">\n  <thead>\n    <tr style=\"text-align: right;\">\n      <th></th>\n      <th>fuel</th>\n      <th>unit</th>\n      <th>summary_stat</th>\n      <th>subsample</th>\n      <th>summary_time</th>\n      <th>time_period</th>\n      <th>segmentation_variable_1</th>\n      <th>segment_1_value</th>\n      <th>value</th>\n      <th>n_sample</th>\n      <th>...</th>\n      <th>mean_temp</th>\n      <th>mean_hdd</th>\n      <th>decimal_places</th>\n      <th>weekday_weekend</th>\n      <th>mean_floor_area</th>\n      <th>n_mean_floor_area</th>\n      <th>mean_bedrooms</th>\n      <th>n_mean_bedrooms</th>\n      <th>mean_occupants</th>\n      <th>n_mean_occupants</th>\n    </tr>\n  </thead>\n  <tbody>\n    <tr>\n      <th>0</th>\n      <td>Net Electricity</td>\n      <td>kWh</td>\n      <td>mean</td>\n      <td>all</td>\n      <td>2021</td>\n      <td>2021</td>\n      <td>None</td>\n      <td>None</td>\n      <td>9.823</td>\n      <td>10764.0</td>\n      <td>...</td>\n      <td>10.378</td>\n      <td>5.74</td>\n      <td>3.0</td>\n      <td>both</td>\n      <td>95.551547</td>\n      <td>7617.0</td>\n      <td>2.918951</td>\n      <td>12659.0</td>\n      <td>2.277386</td>\n      <td>12625.0</td>\n    </tr>\n    <tr>\n      <th>1</th>\n      <td>Net Electricity</td>\n      <td>kWh</td>\n      <td>standard deviation</td>\n      <td>all</td>\n      <td>2021</td>\n      <td>2021</td>\n      <td>None</td>\n      <td>None</td>\n      <td>7.700</td>\n      <td>10764.0</td>\n      <td>...</td>\n      <td>10.378</td>\n      <td>5.74</td>\n      <td>3.0</td>\n      <td>both</td>\n      <td>95.551547</td>\n      <td>7617.0</td>\n      <td>2.918951</td>\n      <td>12659.0</td>\n      <td>2.277386</td>\n      <td>12625.0</td>\n    </tr>\n    <tr>\n      <th>2</th>\n      <td>Net Electricity</td>\n      <td>kWh</td>\n      <td>median</td>\n      <td>all</td>\n      <td>2021</td>\n      <td>2021</td>\n      <td>None</td>\n      <td>None</td>\n      <td>8.168</td>\n      <td>10764.0</td>\n      <td>...</td>\n      <td>10.378</td>\n      <td>5.74</td>\n      <td>3.0</td>\n      <td>both</td>\n      <td>95.551547</td>\n      <td>7617.0</td>\n      <td>2.918951</td>\n      <td>12659.0</td>\n      <td>2.277386</td>\n      <td>12625.0</td>\n    </tr>\n    <tr>\n      <th>3</th>\n      <td>Net Electricity</td>\n      <td>kWh</td>\n      <td>75th percentile</td>\n      <td>all</td>\n      <td>2021</td>\n      <td>2021</td>\n      <td>None</td>\n      <td>None</td>\n      <td>12.212</td>\n      <td>10764.0</td>\n      <td>...</td>\n      <td>10.378</td>\n      <td>5.74</td>\n      <td>3.0</td>\n      <td>both</td>\n      <td>95.551547</td>\n      <td>7617.0</td>\n      <td>2.918951</td>\n      <td>12659.0</td>\n      <td>2.277386</td>\n      <td>12625.0</td>\n    </tr>\n    <tr>\n      <th>4</th>\n      <td>Net Electricity</td>\n      <td>kWh</td>\n      <td>25th percentile</td>\n      <td>all</td>\n      <td>2021</td>\n      <td>2021</td>\n      <td>None</td>\n      <td>None</td>\n      <td>5.415</td>\n      <td>10764.0</td>\n      <td>...</td>\n      <td>10.378</td>\n      <td>5.74</td>\n      <td>3.0</td>\n      <td>both</td>\n      <td>95.551547</td>\n      <td>7617.0</td>\n      <td>2.918951</td>\n      <td>12659.0</td>\n      <td>2.277386</td>\n      <td>12625.0</td>\n    </tr>\n  </tbody>\n</table>\n<p>5 rows × 21 columns</p>\n</div>"
     },
     "execution_count": 95,
     "metadata": {},
     "output_type": "execute_result"
    }
   ],
   "source": [
    "origin_dataset = dataset\n",
    "dataset.head()"
   ],
   "metadata": {
    "collapsed": false,
    "pycharm": {
     "name": "#%%\n"
    }
   }
  },
  {
   "cell_type": "code",
   "execution_count": 96,
   "outputs": [
    {
     "data": {
      "text/plain": "                 fuel unit summary_stat subsample summary_time time_period  \\\n20    Net Electricity  kWh         mean       all       Jan-21        2021   \n25                Gas  kWh         mean       all       Jan-21        2021   \n30    Net Electricity  kWh         mean       all       Feb-21        2021   \n35                Gas  kWh         mean       all       Feb-21        2021   \n40    Net Electricity  kWh         mean       all       Mar-21        2021   \n45                Gas  kWh         mean       all       Mar-21        2021   \n50    Net Electricity  kWh         mean       all       Apr-21        2021   \n55                Gas  kWh         mean       all       Apr-21        2021   \n60    Net Electricity  kWh         mean       all       May-21        2021   \n65                Gas  kWh         mean       all       May-21        2021   \n70    Net Electricity  kWh         mean       all       Jun-21        2021   \n75                Gas  kWh         mean       all       Jun-21        2021   \n80    Net Electricity  kWh         mean       all       Jul-21        2021   \n85                Gas  kWh         mean       all       Jul-21        2021   \n90    Net Electricity  kWh         mean       all       Aug-21        2021   \n95                Gas  kWh         mean       all       Aug-21        2021   \n100   Net Electricity  kWh         mean       all       Sep-21        2021   \n105               Gas  kWh         mean       all       Sep-21        2021   \n110   Net Electricity  kWh         mean       all       Oct-21        2021   \n115               Gas  kWh         mean       all       Oct-21        2021   \n120   Net Electricity  kWh         mean       all       Nov-21        2021   \n125               Gas  kWh         mean       all       Nov-21        2021   \n130   Net Electricity  kWh         mean       all       Dec-21        2021   \n135               Gas  kWh         mean       all       Dec-21        2021   \n1120  Net Electricity  kWh         mean       all       Jan-20        2020   \n1125              Gas  kWh         mean       all       Jan-20        2020   \n1130  Net Electricity  kWh         mean       all       Feb-20        2020   \n1135              Gas  kWh         mean       all       Feb-20        2020   \n1140  Net Electricity  kWh         mean       all       Mar-20        2020   \n1145              Gas  kWh         mean       all       Mar-20        2020   \n1150  Net Electricity  kWh         mean       all       Apr-20        2020   \n1155              Gas  kWh         mean       all       Apr-20        2020   \n1160  Net Electricity  kWh         mean       all       May-20        2020   \n1165              Gas  kWh         mean       all       May-20        2020   \n1170  Net Electricity  kWh         mean       all       Jun-20        2020   \n1175              Gas  kWh         mean       all       Jun-20        2020   \n1180  Net Electricity  kWh         mean       all       Jul-20        2020   \n1185              Gas  kWh         mean       all       Jul-20        2020   \n1190  Net Electricity  kWh         mean       all       Aug-20        2020   \n1195              Gas  kWh         mean       all       Aug-20        2020   \n1200  Net Electricity  kWh         mean       all       Sep-20        2020   \n1205              Gas  kWh         mean       all       Sep-20        2020   \n1210  Net Electricity  kWh         mean       all       Oct-20        2020   \n1215              Gas  kWh         mean       all       Oct-20        2020   \n1220  Net Electricity  kWh         mean       all       Nov-20        2020   \n1225              Gas  kWh         mean       all       Nov-20        2020   \n1230  Net Electricity  kWh         mean       all       Dec-20        2020   \n1235              Gas  kWh         mean       all       Dec-20        2020   \n\n     segmentation_variable_1 segment_1_value   value  n_sample  ...  \\\n20                      None            None  13.862   11979.0  ...   \n25                      None            None  80.868    9021.0  ...   \n30                      None            None  12.987   12037.0  ...   \n35                      None            None  71.698    9095.0  ...   \n40                      None            None  11.484   11951.0  ...   \n45                      None            None  56.175    9053.0  ...   \n50                      None            None  10.110   11840.0  ...   \n55                      None            None  45.041    8985.0  ...   \n60                      None            None   9.129   11797.0  ...   \n65                      None            None  31.743    8885.0  ...   \n70                      None            None   7.512   11803.0  ...   \n75                      None            None  10.038    8854.0  ...   \n80                      None            None   7.451   11825.0  ...   \n85                      None            None   8.086    8830.0  ...   \n90                      None            None   7.575   11605.0  ...   \n95                      None            None   9.047    8646.0  ...   \n100                     None            None   7.692   11663.0  ...   \n105                     None            None  10.926    8704.0  ...   \n110                     None            None   8.903   11774.0  ...   \n115                     None            None  27.360    8774.0  ...   \n120                     None            None  10.396   11547.0  ...   \n125                     None            None  51.732    8597.0  ...   \n130                     None            None  11.540   11683.0  ...   \n135                     None            None  62.051    8661.0  ...   \n1120                    None            None  12.227    4050.0  ...   \n1125                    None            None  63.801    3323.0  ...   \n1130                    None            None  11.858    7324.0  ...   \n1135                    None            None  64.320    5423.0  ...   \n1140                    None            None  11.438    8627.0  ...   \n1145                    None            None  55.973    6297.0  ...   \n1150                    None            None  10.141    8744.0  ...   \n1155                    None            None  28.611    6461.0  ...   \n1160                    None            None   9.192    9459.0  ...   \n1165                    None            None  18.513    7143.0  ...   \n1170                    None            None   8.920    9528.0  ...   \n1175                    None            None  12.397    7214.0  ...   \n1180                    None            None   8.577    9790.0  ...   \n1185                    None            None  10.292    7408.0  ...   \n1190                    None            None   8.468   10235.0  ...   \n1195                    None            None   9.199    7729.0  ...   \n1200                    None            None   8.809   10769.0  ...   \n1205                    None            None  15.543    8100.0  ...   \n1210                    None            None  10.517   11164.0  ...   \n1215                    None            None  38.252    8479.0  ...   \n1220                    None            None  11.718   11419.0  ...   \n1225                    None            None  49.848    8842.0  ...   \n1230                    None            None  13.231   11871.0  ...   \n1235                    None            None  69.736    8998.0  ...   \n\n      mean_temp  mean_hdd  decimal_places  weekday_weekend mean_floor_area  \\\n20        3.583    12.037             3.0             both       95.551547   \n25        3.598    12.020             3.0             both       95.551547   \n30        5.185    10.376             3.0             both       95.551547   \n35        5.208    10.351             3.0             both       95.551547   \n40        7.048     8.466             3.0             both       95.551547   \n45        7.073     8.441             3.0             both       95.551547   \n50        6.515     9.120             3.0             both       95.551547   \n55        6.542     9.095             3.0             both       95.551547   \n60       10.080     5.633             3.0             both       95.551547   \n65       10.119     5.594             3.0             both       95.551547   \n70       15.538     1.412             3.0             both       95.551547   \n75       15.593     1.380             3.0             both       95.551547   \n80       17.414     0.484             3.0             both       95.551547   \n85       17.468     0.466             3.0             both       95.551547   \n90       15.880     0.802             3.0             both       95.551547   \n95       15.920     0.779             3.0             both       95.551547   \n100      15.811     1.146             3.0             both       95.551547   \n105      15.863     1.117             3.0             both       95.551547   \n110      12.237     3.478             3.0             both       95.551547   \n115      12.271     3.443             3.0             both       95.551547   \n120       7.920     7.624             3.0             both       95.551547   \n125       7.928     7.614             3.0             both       95.551547   \n130       6.806     8.761             3.0             both       95.551547   \n135       6.827     8.738             3.0             both       95.551547   \n1120      6.707     8.738             3.0             both       95.551547   \n1125      6.711     8.728             3.0             both       95.551547   \n1130      6.705     8.754             3.0             both       95.551547   \n1135      6.767     8.690             3.0             both       95.551547   \n1140      6.699     8.730             3.0             both       95.551547   \n1145      6.743     8.683             3.0             both       95.551547   \n1150     10.261     5.499             3.0             both       95.551547   \n1155     10.349     5.421             3.0             both       95.551547   \n1160     12.689     3.853             3.0             both       95.551547   \n1165     12.734     3.820             3.0             both       95.551547   \n1170     15.060     1.804             3.0             both       95.551547   \n1175     15.108     1.775             3.0             both       95.551547   \n1180     15.866     1.140             3.0             both       95.551547   \n1185     15.898     1.116             3.0             both       95.551547   \n1190     17.369     0.756             3.0             both       95.551547   \n1195     17.408     0.739             3.0             both       95.551547   \n1200     14.238     2.274             3.0             both       95.551547   \n1205     14.262     2.257             3.0             both       95.551547   \n1210     10.686     4.813             3.0             both       95.551547   \n1215     10.702     4.796             3.0             both       95.551547   \n1220      9.018     6.585             3.0             both       95.551547   \n1225      9.029     6.574             3.0             both       95.551547   \n1230      5.576     9.984             3.0             both       95.551547   \n1235      5.573     9.985             3.0             both       95.551547   \n\n      n_mean_floor_area  mean_bedrooms  n_mean_bedrooms  mean_occupants  \\\n20               7617.0       2.918951          12659.0        2.277386   \n25               7617.0       2.918951          12659.0        2.277386   \n30               7617.0       2.918951          12659.0        2.277386   \n35               7617.0       2.918951          12659.0        2.277386   \n40               7617.0       2.918951          12659.0        2.277386   \n45               7617.0       2.918951          12659.0        2.277386   \n50               7617.0       2.918951          12659.0        2.277386   \n55               7617.0       2.918951          12659.0        2.277386   \n60               7617.0       2.918951          12659.0        2.277386   \n65               7617.0       2.918951          12659.0        2.277386   \n70               7617.0       2.918951          12659.0        2.277386   \n75               7617.0       2.918951          12659.0        2.277386   \n80               7617.0       2.918951          12659.0        2.277386   \n85               7617.0       2.918951          12659.0        2.277386   \n90               7617.0       2.918951          12659.0        2.277386   \n95               7617.0       2.918951          12659.0        2.277386   \n100              7617.0       2.918951          12659.0        2.277386   \n105              7617.0       2.918951          12659.0        2.277386   \n110              7617.0       2.918951          12659.0        2.277386   \n115              7617.0       2.918951          12659.0        2.277386   \n120              7617.0       2.918951          12659.0        2.277386   \n125              7617.0       2.918951          12659.0        2.277386   \n130              7617.0       2.918951          12659.0        2.277386   \n135              7617.0       2.918951          12659.0        2.277386   \n1120             7617.0       2.918951          12659.0        2.277386   \n1125             7617.0       2.918951          12659.0        2.277386   \n1130             7617.0       2.918951          12659.0        2.277386   \n1135             7617.0       2.918951          12659.0        2.277386   \n1140             7617.0       2.918951          12659.0        2.277386   \n1145             7617.0       2.918951          12659.0        2.277386   \n1150             7617.0       2.918951          12659.0        2.277386   \n1155             7617.0       2.918951          12659.0        2.277386   \n1160             7617.0       2.918951          12659.0        2.277386   \n1165             7617.0       2.918951          12659.0        2.277386   \n1170             7617.0       2.918951          12659.0        2.277386   \n1175             7617.0       2.918951          12659.0        2.277386   \n1180             7617.0       2.918951          12659.0        2.277386   \n1185             7617.0       2.918951          12659.0        2.277386   \n1190             7617.0       2.918951          12659.0        2.277386   \n1195             7617.0       2.918951          12659.0        2.277386   \n1200             7617.0       2.918951          12659.0        2.277386   \n1205             7617.0       2.918951          12659.0        2.277386   \n1210             7617.0       2.918951          12659.0        2.277386   \n1215             7617.0       2.918951          12659.0        2.277386   \n1220             7617.0       2.918951          12659.0        2.277386   \n1225             7617.0       2.918951          12659.0        2.277386   \n1230             7617.0       2.918951          12659.0        2.277386   \n1235             7617.0       2.918951          12659.0        2.277386   \n\n      n_mean_occupants  \n20             12625.0  \n25             12625.0  \n30             12625.0  \n35             12625.0  \n40             12625.0  \n45             12625.0  \n50             12625.0  \n55             12625.0  \n60             12625.0  \n65             12625.0  \n70             12625.0  \n75             12625.0  \n80             12625.0  \n85             12625.0  \n90             12625.0  \n95             12625.0  \n100            12625.0  \n105            12625.0  \n110            12625.0  \n115            12625.0  \n120            12625.0  \n125            12625.0  \n130            12625.0  \n135            12625.0  \n1120           12625.0  \n1125           12625.0  \n1130           12625.0  \n1135           12625.0  \n1140           12625.0  \n1145           12625.0  \n1150           12625.0  \n1155           12625.0  \n1160           12625.0  \n1165           12625.0  \n1170           12625.0  \n1175           12625.0  \n1180           12625.0  \n1185           12625.0  \n1190           12625.0  \n1195           12625.0  \n1200           12625.0  \n1205           12625.0  \n1210           12625.0  \n1215           12625.0  \n1220           12625.0  \n1225           12625.0  \n1230           12625.0  \n1235           12625.0  \n\n[48 rows x 21 columns]",
      "text/html": "<div>\n<style scoped>\n    .dataframe tbody tr th:only-of-type {\n        vertical-align: middle;\n    }\n\n    .dataframe tbody tr th {\n        vertical-align: top;\n    }\n\n    .dataframe thead th {\n        text-align: right;\n    }\n</style>\n<table border=\"1\" class=\"dataframe\">\n  <thead>\n    <tr style=\"text-align: right;\">\n      <th></th>\n      <th>fuel</th>\n      <th>unit</th>\n      <th>summary_stat</th>\n      <th>subsample</th>\n      <th>summary_time</th>\n      <th>time_period</th>\n      <th>segmentation_variable_1</th>\n      <th>segment_1_value</th>\n      <th>value</th>\n      <th>n_sample</th>\n      <th>...</th>\n      <th>mean_temp</th>\n      <th>mean_hdd</th>\n      <th>decimal_places</th>\n      <th>weekday_weekend</th>\n      <th>mean_floor_area</th>\n      <th>n_mean_floor_area</th>\n      <th>mean_bedrooms</th>\n      <th>n_mean_bedrooms</th>\n      <th>mean_occupants</th>\n      <th>n_mean_occupants</th>\n    </tr>\n  </thead>\n  <tbody>\n    <tr>\n      <th>20</th>\n      <td>Net Electricity</td>\n      <td>kWh</td>\n      <td>mean</td>\n      <td>all</td>\n      <td>Jan-21</td>\n      <td>2021</td>\n      <td>None</td>\n      <td>None</td>\n      <td>13.862</td>\n      <td>11979.0</td>\n      <td>...</td>\n      <td>3.583</td>\n      <td>12.037</td>\n      <td>3.0</td>\n      <td>both</td>\n      <td>95.551547</td>\n      <td>7617.0</td>\n      <td>2.918951</td>\n      <td>12659.0</td>\n      <td>2.277386</td>\n      <td>12625.0</td>\n    </tr>\n    <tr>\n      <th>25</th>\n      <td>Gas</td>\n      <td>kWh</td>\n      <td>mean</td>\n      <td>all</td>\n      <td>Jan-21</td>\n      <td>2021</td>\n      <td>None</td>\n      <td>None</td>\n      <td>80.868</td>\n      <td>9021.0</td>\n      <td>...</td>\n      <td>3.598</td>\n      <td>12.020</td>\n      <td>3.0</td>\n      <td>both</td>\n      <td>95.551547</td>\n      <td>7617.0</td>\n      <td>2.918951</td>\n      <td>12659.0</td>\n      <td>2.277386</td>\n      <td>12625.0</td>\n    </tr>\n    <tr>\n      <th>30</th>\n      <td>Net Electricity</td>\n      <td>kWh</td>\n      <td>mean</td>\n      <td>all</td>\n      <td>Feb-21</td>\n      <td>2021</td>\n      <td>None</td>\n      <td>None</td>\n      <td>12.987</td>\n      <td>12037.0</td>\n      <td>...</td>\n      <td>5.185</td>\n      <td>10.376</td>\n      <td>3.0</td>\n      <td>both</td>\n      <td>95.551547</td>\n      <td>7617.0</td>\n      <td>2.918951</td>\n      <td>12659.0</td>\n      <td>2.277386</td>\n      <td>12625.0</td>\n    </tr>\n    <tr>\n      <th>35</th>\n      <td>Gas</td>\n      <td>kWh</td>\n      <td>mean</td>\n      <td>all</td>\n      <td>Feb-21</td>\n      <td>2021</td>\n      <td>None</td>\n      <td>None</td>\n      <td>71.698</td>\n      <td>9095.0</td>\n      <td>...</td>\n      <td>5.208</td>\n      <td>10.351</td>\n      <td>3.0</td>\n      <td>both</td>\n      <td>95.551547</td>\n      <td>7617.0</td>\n      <td>2.918951</td>\n      <td>12659.0</td>\n      <td>2.277386</td>\n      <td>12625.0</td>\n    </tr>\n    <tr>\n      <th>40</th>\n      <td>Net Electricity</td>\n      <td>kWh</td>\n      <td>mean</td>\n      <td>all</td>\n      <td>Mar-21</td>\n      <td>2021</td>\n      <td>None</td>\n      <td>None</td>\n      <td>11.484</td>\n      <td>11951.0</td>\n      <td>...</td>\n      <td>7.048</td>\n      <td>8.466</td>\n      <td>3.0</td>\n      <td>both</td>\n      <td>95.551547</td>\n      <td>7617.0</td>\n      <td>2.918951</td>\n      <td>12659.0</td>\n      <td>2.277386</td>\n      <td>12625.0</td>\n    </tr>\n    <tr>\n      <th>45</th>\n      <td>Gas</td>\n      <td>kWh</td>\n      <td>mean</td>\n      <td>all</td>\n      <td>Mar-21</td>\n      <td>2021</td>\n      <td>None</td>\n      <td>None</td>\n      <td>56.175</td>\n      <td>9053.0</td>\n      <td>...</td>\n      <td>7.073</td>\n      <td>8.441</td>\n      <td>3.0</td>\n      <td>both</td>\n      <td>95.551547</td>\n      <td>7617.0</td>\n      <td>2.918951</td>\n      <td>12659.0</td>\n      <td>2.277386</td>\n      <td>12625.0</td>\n    </tr>\n    <tr>\n      <th>50</th>\n      <td>Net Electricity</td>\n      <td>kWh</td>\n      <td>mean</td>\n      <td>all</td>\n      <td>Apr-21</td>\n      <td>2021</td>\n      <td>None</td>\n      <td>None</td>\n      <td>10.110</td>\n      <td>11840.0</td>\n      <td>...</td>\n      <td>6.515</td>\n      <td>9.120</td>\n      <td>3.0</td>\n      <td>both</td>\n      <td>95.551547</td>\n      <td>7617.0</td>\n      <td>2.918951</td>\n      <td>12659.0</td>\n      <td>2.277386</td>\n      <td>12625.0</td>\n    </tr>\n    <tr>\n      <th>55</th>\n      <td>Gas</td>\n      <td>kWh</td>\n      <td>mean</td>\n      <td>all</td>\n      <td>Apr-21</td>\n      <td>2021</td>\n      <td>None</td>\n      <td>None</td>\n      <td>45.041</td>\n      <td>8985.0</td>\n      <td>...</td>\n      <td>6.542</td>\n      <td>9.095</td>\n      <td>3.0</td>\n      <td>both</td>\n      <td>95.551547</td>\n      <td>7617.0</td>\n      <td>2.918951</td>\n      <td>12659.0</td>\n      <td>2.277386</td>\n      <td>12625.0</td>\n    </tr>\n    <tr>\n      <th>60</th>\n      <td>Net Electricity</td>\n      <td>kWh</td>\n      <td>mean</td>\n      <td>all</td>\n      <td>May-21</td>\n      <td>2021</td>\n      <td>None</td>\n      <td>None</td>\n      <td>9.129</td>\n      <td>11797.0</td>\n      <td>...</td>\n      <td>10.080</td>\n      <td>5.633</td>\n      <td>3.0</td>\n      <td>both</td>\n      <td>95.551547</td>\n      <td>7617.0</td>\n      <td>2.918951</td>\n      <td>12659.0</td>\n      <td>2.277386</td>\n      <td>12625.0</td>\n    </tr>\n    <tr>\n      <th>65</th>\n      <td>Gas</td>\n      <td>kWh</td>\n      <td>mean</td>\n      <td>all</td>\n      <td>May-21</td>\n      <td>2021</td>\n      <td>None</td>\n      <td>None</td>\n      <td>31.743</td>\n      <td>8885.0</td>\n      <td>...</td>\n      <td>10.119</td>\n      <td>5.594</td>\n      <td>3.0</td>\n      <td>both</td>\n      <td>95.551547</td>\n      <td>7617.0</td>\n      <td>2.918951</td>\n      <td>12659.0</td>\n      <td>2.277386</td>\n      <td>12625.0</td>\n    </tr>\n    <tr>\n      <th>70</th>\n      <td>Net Electricity</td>\n      <td>kWh</td>\n      <td>mean</td>\n      <td>all</td>\n      <td>Jun-21</td>\n      <td>2021</td>\n      <td>None</td>\n      <td>None</td>\n      <td>7.512</td>\n      <td>11803.0</td>\n      <td>...</td>\n      <td>15.538</td>\n      <td>1.412</td>\n      <td>3.0</td>\n      <td>both</td>\n      <td>95.551547</td>\n      <td>7617.0</td>\n      <td>2.918951</td>\n      <td>12659.0</td>\n      <td>2.277386</td>\n      <td>12625.0</td>\n    </tr>\n    <tr>\n      <th>75</th>\n      <td>Gas</td>\n      <td>kWh</td>\n      <td>mean</td>\n      <td>all</td>\n      <td>Jun-21</td>\n      <td>2021</td>\n      <td>None</td>\n      <td>None</td>\n      <td>10.038</td>\n      <td>8854.0</td>\n      <td>...</td>\n      <td>15.593</td>\n      <td>1.380</td>\n      <td>3.0</td>\n      <td>both</td>\n      <td>95.551547</td>\n      <td>7617.0</td>\n      <td>2.918951</td>\n      <td>12659.0</td>\n      <td>2.277386</td>\n      <td>12625.0</td>\n    </tr>\n    <tr>\n      <th>80</th>\n      <td>Net Electricity</td>\n      <td>kWh</td>\n      <td>mean</td>\n      <td>all</td>\n      <td>Jul-21</td>\n      <td>2021</td>\n      <td>None</td>\n      <td>None</td>\n      <td>7.451</td>\n      <td>11825.0</td>\n      <td>...</td>\n      <td>17.414</td>\n      <td>0.484</td>\n      <td>3.0</td>\n      <td>both</td>\n      <td>95.551547</td>\n      <td>7617.0</td>\n      <td>2.918951</td>\n      <td>12659.0</td>\n      <td>2.277386</td>\n      <td>12625.0</td>\n    </tr>\n    <tr>\n      <th>85</th>\n      <td>Gas</td>\n      <td>kWh</td>\n      <td>mean</td>\n      <td>all</td>\n      <td>Jul-21</td>\n      <td>2021</td>\n      <td>None</td>\n      <td>None</td>\n      <td>8.086</td>\n      <td>8830.0</td>\n      <td>...</td>\n      <td>17.468</td>\n      <td>0.466</td>\n      <td>3.0</td>\n      <td>both</td>\n      <td>95.551547</td>\n      <td>7617.0</td>\n      <td>2.918951</td>\n      <td>12659.0</td>\n      <td>2.277386</td>\n      <td>12625.0</td>\n    </tr>\n    <tr>\n      <th>90</th>\n      <td>Net Electricity</td>\n      <td>kWh</td>\n      <td>mean</td>\n      <td>all</td>\n      <td>Aug-21</td>\n      <td>2021</td>\n      <td>None</td>\n      <td>None</td>\n      <td>7.575</td>\n      <td>11605.0</td>\n      <td>...</td>\n      <td>15.880</td>\n      <td>0.802</td>\n      <td>3.0</td>\n      <td>both</td>\n      <td>95.551547</td>\n      <td>7617.0</td>\n      <td>2.918951</td>\n      <td>12659.0</td>\n      <td>2.277386</td>\n      <td>12625.0</td>\n    </tr>\n    <tr>\n      <th>95</th>\n      <td>Gas</td>\n      <td>kWh</td>\n      <td>mean</td>\n      <td>all</td>\n      <td>Aug-21</td>\n      <td>2021</td>\n      <td>None</td>\n      <td>None</td>\n      <td>9.047</td>\n      <td>8646.0</td>\n      <td>...</td>\n      <td>15.920</td>\n      <td>0.779</td>\n      <td>3.0</td>\n      <td>both</td>\n      <td>95.551547</td>\n      <td>7617.0</td>\n      <td>2.918951</td>\n      <td>12659.0</td>\n      <td>2.277386</td>\n      <td>12625.0</td>\n    </tr>\n    <tr>\n      <th>100</th>\n      <td>Net Electricity</td>\n      <td>kWh</td>\n      <td>mean</td>\n      <td>all</td>\n      <td>Sep-21</td>\n      <td>2021</td>\n      <td>None</td>\n      <td>None</td>\n      <td>7.692</td>\n      <td>11663.0</td>\n      <td>...</td>\n      <td>15.811</td>\n      <td>1.146</td>\n      <td>3.0</td>\n      <td>both</td>\n      <td>95.551547</td>\n      <td>7617.0</td>\n      <td>2.918951</td>\n      <td>12659.0</td>\n      <td>2.277386</td>\n      <td>12625.0</td>\n    </tr>\n    <tr>\n      <th>105</th>\n      <td>Gas</td>\n      <td>kWh</td>\n      <td>mean</td>\n      <td>all</td>\n      <td>Sep-21</td>\n      <td>2021</td>\n      <td>None</td>\n      <td>None</td>\n      <td>10.926</td>\n      <td>8704.0</td>\n      <td>...</td>\n      <td>15.863</td>\n      <td>1.117</td>\n      <td>3.0</td>\n      <td>both</td>\n      <td>95.551547</td>\n      <td>7617.0</td>\n      <td>2.918951</td>\n      <td>12659.0</td>\n      <td>2.277386</td>\n      <td>12625.0</td>\n    </tr>\n    <tr>\n      <th>110</th>\n      <td>Net Electricity</td>\n      <td>kWh</td>\n      <td>mean</td>\n      <td>all</td>\n      <td>Oct-21</td>\n      <td>2021</td>\n      <td>None</td>\n      <td>None</td>\n      <td>8.903</td>\n      <td>11774.0</td>\n      <td>...</td>\n      <td>12.237</td>\n      <td>3.478</td>\n      <td>3.0</td>\n      <td>both</td>\n      <td>95.551547</td>\n      <td>7617.0</td>\n      <td>2.918951</td>\n      <td>12659.0</td>\n      <td>2.277386</td>\n      <td>12625.0</td>\n    </tr>\n    <tr>\n      <th>115</th>\n      <td>Gas</td>\n      <td>kWh</td>\n      <td>mean</td>\n      <td>all</td>\n      <td>Oct-21</td>\n      <td>2021</td>\n      <td>None</td>\n      <td>None</td>\n      <td>27.360</td>\n      <td>8774.0</td>\n      <td>...</td>\n      <td>12.271</td>\n      <td>3.443</td>\n      <td>3.0</td>\n      <td>both</td>\n      <td>95.551547</td>\n      <td>7617.0</td>\n      <td>2.918951</td>\n      <td>12659.0</td>\n      <td>2.277386</td>\n      <td>12625.0</td>\n    </tr>\n    <tr>\n      <th>120</th>\n      <td>Net Electricity</td>\n      <td>kWh</td>\n      <td>mean</td>\n      <td>all</td>\n      <td>Nov-21</td>\n      <td>2021</td>\n      <td>None</td>\n      <td>None</td>\n      <td>10.396</td>\n      <td>11547.0</td>\n      <td>...</td>\n      <td>7.920</td>\n      <td>7.624</td>\n      <td>3.0</td>\n      <td>both</td>\n      <td>95.551547</td>\n      <td>7617.0</td>\n      <td>2.918951</td>\n      <td>12659.0</td>\n      <td>2.277386</td>\n      <td>12625.0</td>\n    </tr>\n    <tr>\n      <th>125</th>\n      <td>Gas</td>\n      <td>kWh</td>\n      <td>mean</td>\n      <td>all</td>\n      <td>Nov-21</td>\n      <td>2021</td>\n      <td>None</td>\n      <td>None</td>\n      <td>51.732</td>\n      <td>8597.0</td>\n      <td>...</td>\n      <td>7.928</td>\n      <td>7.614</td>\n      <td>3.0</td>\n      <td>both</td>\n      <td>95.551547</td>\n      <td>7617.0</td>\n      <td>2.918951</td>\n      <td>12659.0</td>\n      <td>2.277386</td>\n      <td>12625.0</td>\n    </tr>\n    <tr>\n      <th>130</th>\n      <td>Net Electricity</td>\n      <td>kWh</td>\n      <td>mean</td>\n      <td>all</td>\n      <td>Dec-21</td>\n      <td>2021</td>\n      <td>None</td>\n      <td>None</td>\n      <td>11.540</td>\n      <td>11683.0</td>\n      <td>...</td>\n      <td>6.806</td>\n      <td>8.761</td>\n      <td>3.0</td>\n      <td>both</td>\n      <td>95.551547</td>\n      <td>7617.0</td>\n      <td>2.918951</td>\n      <td>12659.0</td>\n      <td>2.277386</td>\n      <td>12625.0</td>\n    </tr>\n    <tr>\n      <th>135</th>\n      <td>Gas</td>\n      <td>kWh</td>\n      <td>mean</td>\n      <td>all</td>\n      <td>Dec-21</td>\n      <td>2021</td>\n      <td>None</td>\n      <td>None</td>\n      <td>62.051</td>\n      <td>8661.0</td>\n      <td>...</td>\n      <td>6.827</td>\n      <td>8.738</td>\n      <td>3.0</td>\n      <td>both</td>\n      <td>95.551547</td>\n      <td>7617.0</td>\n      <td>2.918951</td>\n      <td>12659.0</td>\n      <td>2.277386</td>\n      <td>12625.0</td>\n    </tr>\n    <tr>\n      <th>1120</th>\n      <td>Net Electricity</td>\n      <td>kWh</td>\n      <td>mean</td>\n      <td>all</td>\n      <td>Jan-20</td>\n      <td>2020</td>\n      <td>None</td>\n      <td>None</td>\n      <td>12.227</td>\n      <td>4050.0</td>\n      <td>...</td>\n      <td>6.707</td>\n      <td>8.738</td>\n      <td>3.0</td>\n      <td>both</td>\n      <td>95.551547</td>\n      <td>7617.0</td>\n      <td>2.918951</td>\n      <td>12659.0</td>\n      <td>2.277386</td>\n      <td>12625.0</td>\n    </tr>\n    <tr>\n      <th>1125</th>\n      <td>Gas</td>\n      <td>kWh</td>\n      <td>mean</td>\n      <td>all</td>\n      <td>Jan-20</td>\n      <td>2020</td>\n      <td>None</td>\n      <td>None</td>\n      <td>63.801</td>\n      <td>3323.0</td>\n      <td>...</td>\n      <td>6.711</td>\n      <td>8.728</td>\n      <td>3.0</td>\n      <td>both</td>\n      <td>95.551547</td>\n      <td>7617.0</td>\n      <td>2.918951</td>\n      <td>12659.0</td>\n      <td>2.277386</td>\n      <td>12625.0</td>\n    </tr>\n    <tr>\n      <th>1130</th>\n      <td>Net Electricity</td>\n      <td>kWh</td>\n      <td>mean</td>\n      <td>all</td>\n      <td>Feb-20</td>\n      <td>2020</td>\n      <td>None</td>\n      <td>None</td>\n      <td>11.858</td>\n      <td>7324.0</td>\n      <td>...</td>\n      <td>6.705</td>\n      <td>8.754</td>\n      <td>3.0</td>\n      <td>both</td>\n      <td>95.551547</td>\n      <td>7617.0</td>\n      <td>2.918951</td>\n      <td>12659.0</td>\n      <td>2.277386</td>\n      <td>12625.0</td>\n    </tr>\n    <tr>\n      <th>1135</th>\n      <td>Gas</td>\n      <td>kWh</td>\n      <td>mean</td>\n      <td>all</td>\n      <td>Feb-20</td>\n      <td>2020</td>\n      <td>None</td>\n      <td>None</td>\n      <td>64.320</td>\n      <td>5423.0</td>\n      <td>...</td>\n      <td>6.767</td>\n      <td>8.690</td>\n      <td>3.0</td>\n      <td>both</td>\n      <td>95.551547</td>\n      <td>7617.0</td>\n      <td>2.918951</td>\n      <td>12659.0</td>\n      <td>2.277386</td>\n      <td>12625.0</td>\n    </tr>\n    <tr>\n      <th>1140</th>\n      <td>Net Electricity</td>\n      <td>kWh</td>\n      <td>mean</td>\n      <td>all</td>\n      <td>Mar-20</td>\n      <td>2020</td>\n      <td>None</td>\n      <td>None</td>\n      <td>11.438</td>\n      <td>8627.0</td>\n      <td>...</td>\n      <td>6.699</td>\n      <td>8.730</td>\n      <td>3.0</td>\n      <td>both</td>\n      <td>95.551547</td>\n      <td>7617.0</td>\n      <td>2.918951</td>\n      <td>12659.0</td>\n      <td>2.277386</td>\n      <td>12625.0</td>\n    </tr>\n    <tr>\n      <th>1145</th>\n      <td>Gas</td>\n      <td>kWh</td>\n      <td>mean</td>\n      <td>all</td>\n      <td>Mar-20</td>\n      <td>2020</td>\n      <td>None</td>\n      <td>None</td>\n      <td>55.973</td>\n      <td>6297.0</td>\n      <td>...</td>\n      <td>6.743</td>\n      <td>8.683</td>\n      <td>3.0</td>\n      <td>both</td>\n      <td>95.551547</td>\n      <td>7617.0</td>\n      <td>2.918951</td>\n      <td>12659.0</td>\n      <td>2.277386</td>\n      <td>12625.0</td>\n    </tr>\n    <tr>\n      <th>1150</th>\n      <td>Net Electricity</td>\n      <td>kWh</td>\n      <td>mean</td>\n      <td>all</td>\n      <td>Apr-20</td>\n      <td>2020</td>\n      <td>None</td>\n      <td>None</td>\n      <td>10.141</td>\n      <td>8744.0</td>\n      <td>...</td>\n      <td>10.261</td>\n      <td>5.499</td>\n      <td>3.0</td>\n      <td>both</td>\n      <td>95.551547</td>\n      <td>7617.0</td>\n      <td>2.918951</td>\n      <td>12659.0</td>\n      <td>2.277386</td>\n      <td>12625.0</td>\n    </tr>\n    <tr>\n      <th>1155</th>\n      <td>Gas</td>\n      <td>kWh</td>\n      <td>mean</td>\n      <td>all</td>\n      <td>Apr-20</td>\n      <td>2020</td>\n      <td>None</td>\n      <td>None</td>\n      <td>28.611</td>\n      <td>6461.0</td>\n      <td>...</td>\n      <td>10.349</td>\n      <td>5.421</td>\n      <td>3.0</td>\n      <td>both</td>\n      <td>95.551547</td>\n      <td>7617.0</td>\n      <td>2.918951</td>\n      <td>12659.0</td>\n      <td>2.277386</td>\n      <td>12625.0</td>\n    </tr>\n    <tr>\n      <th>1160</th>\n      <td>Net Electricity</td>\n      <td>kWh</td>\n      <td>mean</td>\n      <td>all</td>\n      <td>May-20</td>\n      <td>2020</td>\n      <td>None</td>\n      <td>None</td>\n      <td>9.192</td>\n      <td>9459.0</td>\n      <td>...</td>\n      <td>12.689</td>\n      <td>3.853</td>\n      <td>3.0</td>\n      <td>both</td>\n      <td>95.551547</td>\n      <td>7617.0</td>\n      <td>2.918951</td>\n      <td>12659.0</td>\n      <td>2.277386</td>\n      <td>12625.0</td>\n    </tr>\n    <tr>\n      <th>1165</th>\n      <td>Gas</td>\n      <td>kWh</td>\n      <td>mean</td>\n      <td>all</td>\n      <td>May-20</td>\n      <td>2020</td>\n      <td>None</td>\n      <td>None</td>\n      <td>18.513</td>\n      <td>7143.0</td>\n      <td>...</td>\n      <td>12.734</td>\n      <td>3.820</td>\n      <td>3.0</td>\n      <td>both</td>\n      <td>95.551547</td>\n      <td>7617.0</td>\n      <td>2.918951</td>\n      <td>12659.0</td>\n      <td>2.277386</td>\n      <td>12625.0</td>\n    </tr>\n    <tr>\n      <th>1170</th>\n      <td>Net Electricity</td>\n      <td>kWh</td>\n      <td>mean</td>\n      <td>all</td>\n      <td>Jun-20</td>\n      <td>2020</td>\n      <td>None</td>\n      <td>None</td>\n      <td>8.920</td>\n      <td>9528.0</td>\n      <td>...</td>\n      <td>15.060</td>\n      <td>1.804</td>\n      <td>3.0</td>\n      <td>both</td>\n      <td>95.551547</td>\n      <td>7617.0</td>\n      <td>2.918951</td>\n      <td>12659.0</td>\n      <td>2.277386</td>\n      <td>12625.0</td>\n    </tr>\n    <tr>\n      <th>1175</th>\n      <td>Gas</td>\n      <td>kWh</td>\n      <td>mean</td>\n      <td>all</td>\n      <td>Jun-20</td>\n      <td>2020</td>\n      <td>None</td>\n      <td>None</td>\n      <td>12.397</td>\n      <td>7214.0</td>\n      <td>...</td>\n      <td>15.108</td>\n      <td>1.775</td>\n      <td>3.0</td>\n      <td>both</td>\n      <td>95.551547</td>\n      <td>7617.0</td>\n      <td>2.918951</td>\n      <td>12659.0</td>\n      <td>2.277386</td>\n      <td>12625.0</td>\n    </tr>\n    <tr>\n      <th>1180</th>\n      <td>Net Electricity</td>\n      <td>kWh</td>\n      <td>mean</td>\n      <td>all</td>\n      <td>Jul-20</td>\n      <td>2020</td>\n      <td>None</td>\n      <td>None</td>\n      <td>8.577</td>\n      <td>9790.0</td>\n      <td>...</td>\n      <td>15.866</td>\n      <td>1.140</td>\n      <td>3.0</td>\n      <td>both</td>\n      <td>95.551547</td>\n      <td>7617.0</td>\n      <td>2.918951</td>\n      <td>12659.0</td>\n      <td>2.277386</td>\n      <td>12625.0</td>\n    </tr>\n    <tr>\n      <th>1185</th>\n      <td>Gas</td>\n      <td>kWh</td>\n      <td>mean</td>\n      <td>all</td>\n      <td>Jul-20</td>\n      <td>2020</td>\n      <td>None</td>\n      <td>None</td>\n      <td>10.292</td>\n      <td>7408.0</td>\n      <td>...</td>\n      <td>15.898</td>\n      <td>1.116</td>\n      <td>3.0</td>\n      <td>both</td>\n      <td>95.551547</td>\n      <td>7617.0</td>\n      <td>2.918951</td>\n      <td>12659.0</td>\n      <td>2.277386</td>\n      <td>12625.0</td>\n    </tr>\n    <tr>\n      <th>1190</th>\n      <td>Net Electricity</td>\n      <td>kWh</td>\n      <td>mean</td>\n      <td>all</td>\n      <td>Aug-20</td>\n      <td>2020</td>\n      <td>None</td>\n      <td>None</td>\n      <td>8.468</td>\n      <td>10235.0</td>\n      <td>...</td>\n      <td>17.369</td>\n      <td>0.756</td>\n      <td>3.0</td>\n      <td>both</td>\n      <td>95.551547</td>\n      <td>7617.0</td>\n      <td>2.918951</td>\n      <td>12659.0</td>\n      <td>2.277386</td>\n      <td>12625.0</td>\n    </tr>\n    <tr>\n      <th>1195</th>\n      <td>Gas</td>\n      <td>kWh</td>\n      <td>mean</td>\n      <td>all</td>\n      <td>Aug-20</td>\n      <td>2020</td>\n      <td>None</td>\n      <td>None</td>\n      <td>9.199</td>\n      <td>7729.0</td>\n      <td>...</td>\n      <td>17.408</td>\n      <td>0.739</td>\n      <td>3.0</td>\n      <td>both</td>\n      <td>95.551547</td>\n      <td>7617.0</td>\n      <td>2.918951</td>\n      <td>12659.0</td>\n      <td>2.277386</td>\n      <td>12625.0</td>\n    </tr>\n    <tr>\n      <th>1200</th>\n      <td>Net Electricity</td>\n      <td>kWh</td>\n      <td>mean</td>\n      <td>all</td>\n      <td>Sep-20</td>\n      <td>2020</td>\n      <td>None</td>\n      <td>None</td>\n      <td>8.809</td>\n      <td>10769.0</td>\n      <td>...</td>\n      <td>14.238</td>\n      <td>2.274</td>\n      <td>3.0</td>\n      <td>both</td>\n      <td>95.551547</td>\n      <td>7617.0</td>\n      <td>2.918951</td>\n      <td>12659.0</td>\n      <td>2.277386</td>\n      <td>12625.0</td>\n    </tr>\n    <tr>\n      <th>1205</th>\n      <td>Gas</td>\n      <td>kWh</td>\n      <td>mean</td>\n      <td>all</td>\n      <td>Sep-20</td>\n      <td>2020</td>\n      <td>None</td>\n      <td>None</td>\n      <td>15.543</td>\n      <td>8100.0</td>\n      <td>...</td>\n      <td>14.262</td>\n      <td>2.257</td>\n      <td>3.0</td>\n      <td>both</td>\n      <td>95.551547</td>\n      <td>7617.0</td>\n      <td>2.918951</td>\n      <td>12659.0</td>\n      <td>2.277386</td>\n      <td>12625.0</td>\n    </tr>\n    <tr>\n      <th>1210</th>\n      <td>Net Electricity</td>\n      <td>kWh</td>\n      <td>mean</td>\n      <td>all</td>\n      <td>Oct-20</td>\n      <td>2020</td>\n      <td>None</td>\n      <td>None</td>\n      <td>10.517</td>\n      <td>11164.0</td>\n      <td>...</td>\n      <td>10.686</td>\n      <td>4.813</td>\n      <td>3.0</td>\n      <td>both</td>\n      <td>95.551547</td>\n      <td>7617.0</td>\n      <td>2.918951</td>\n      <td>12659.0</td>\n      <td>2.277386</td>\n      <td>12625.0</td>\n    </tr>\n    <tr>\n      <th>1215</th>\n      <td>Gas</td>\n      <td>kWh</td>\n      <td>mean</td>\n      <td>all</td>\n      <td>Oct-20</td>\n      <td>2020</td>\n      <td>None</td>\n      <td>None</td>\n      <td>38.252</td>\n      <td>8479.0</td>\n      <td>...</td>\n      <td>10.702</td>\n      <td>4.796</td>\n      <td>3.0</td>\n      <td>both</td>\n      <td>95.551547</td>\n      <td>7617.0</td>\n      <td>2.918951</td>\n      <td>12659.0</td>\n      <td>2.277386</td>\n      <td>12625.0</td>\n    </tr>\n    <tr>\n      <th>1220</th>\n      <td>Net Electricity</td>\n      <td>kWh</td>\n      <td>mean</td>\n      <td>all</td>\n      <td>Nov-20</td>\n      <td>2020</td>\n      <td>None</td>\n      <td>None</td>\n      <td>11.718</td>\n      <td>11419.0</td>\n      <td>...</td>\n      <td>9.018</td>\n      <td>6.585</td>\n      <td>3.0</td>\n      <td>both</td>\n      <td>95.551547</td>\n      <td>7617.0</td>\n      <td>2.918951</td>\n      <td>12659.0</td>\n      <td>2.277386</td>\n      <td>12625.0</td>\n    </tr>\n    <tr>\n      <th>1225</th>\n      <td>Gas</td>\n      <td>kWh</td>\n      <td>mean</td>\n      <td>all</td>\n      <td>Nov-20</td>\n      <td>2020</td>\n      <td>None</td>\n      <td>None</td>\n      <td>49.848</td>\n      <td>8842.0</td>\n      <td>...</td>\n      <td>9.029</td>\n      <td>6.574</td>\n      <td>3.0</td>\n      <td>both</td>\n      <td>95.551547</td>\n      <td>7617.0</td>\n      <td>2.918951</td>\n      <td>12659.0</td>\n      <td>2.277386</td>\n      <td>12625.0</td>\n    </tr>\n    <tr>\n      <th>1230</th>\n      <td>Net Electricity</td>\n      <td>kWh</td>\n      <td>mean</td>\n      <td>all</td>\n      <td>Dec-20</td>\n      <td>2020</td>\n      <td>None</td>\n      <td>None</td>\n      <td>13.231</td>\n      <td>11871.0</td>\n      <td>...</td>\n      <td>5.576</td>\n      <td>9.984</td>\n      <td>3.0</td>\n      <td>both</td>\n      <td>95.551547</td>\n      <td>7617.0</td>\n      <td>2.918951</td>\n      <td>12659.0</td>\n      <td>2.277386</td>\n      <td>12625.0</td>\n    </tr>\n    <tr>\n      <th>1235</th>\n      <td>Gas</td>\n      <td>kWh</td>\n      <td>mean</td>\n      <td>all</td>\n      <td>Dec-20</td>\n      <td>2020</td>\n      <td>None</td>\n      <td>None</td>\n      <td>69.736</td>\n      <td>8998.0</td>\n      <td>...</td>\n      <td>5.573</td>\n      <td>9.985</td>\n      <td>3.0</td>\n      <td>both</td>\n      <td>95.551547</td>\n      <td>7617.0</td>\n      <td>2.918951</td>\n      <td>12659.0</td>\n      <td>2.277386</td>\n      <td>12625.0</td>\n    </tr>\n  </tbody>\n</table>\n<p>48 rows × 21 columns</p>\n</div>"
     },
     "execution_count": 96,
     "metadata": {},
     "output_type": "execute_result"
    }
   ],
   "source": [
    "def monthly_common_data(dataframe, summary_stat):\n",
    "    return dataframe.loc[(dataframe['summary_stat'] == summary_stat)\n",
    "                       & (dataframe['segmentation_variable_1'] == 'None')\n",
    "                       & (dataframe['summary_time'] != '2021')\n",
    "                       & (dataframe['summary_time'] != '2020')\n",
    "                       & (dataframe['summary_time'] != 'heating_season_2019_2020')\n",
    "                       & (dataframe['summary_time'] != 'heating_season_2020_2021')\n",
    "                       & (dataframe['mean_hdd'])      # a little bit trick here to remove the every 30mins summary time.\n",
    "    ]\n",
    "\n",
    "temp = monthly_common_data(dataset, 'mean')\n",
    "temp"
   ],
   "metadata": {
    "collapsed": false,
    "pycharm": {
     "name": "#%%\n"
    }
   }
  },
  {
   "cell_type": "code",
   "execution_count": 97,
   "outputs": [
    {
     "data": {
      "text/plain": "                 fuel unit summary_stat subsample summary_time time_period  \\\n20    Net Electricity  kWh         mean       all          Jan        2021   \n25                Gas  kWh         mean       all          Jan        2021   \n30    Net Electricity  kWh         mean       all          Feb        2021   \n35                Gas  kWh         mean       all          Feb        2021   \n40    Net Electricity  kWh         mean       all          Mar        2021   \n45                Gas  kWh         mean       all          Mar        2021   \n50    Net Electricity  kWh         mean       all          Apr        2021   \n55                Gas  kWh         mean       all          Apr        2021   \n60    Net Electricity  kWh         mean       all          May        2021   \n65                Gas  kWh         mean       all          May        2021   \n70    Net Electricity  kWh         mean       all          Jun        2021   \n75                Gas  kWh         mean       all          Jun        2021   \n80    Net Electricity  kWh         mean       all          Jul        2021   \n85                Gas  kWh         mean       all          Jul        2021   \n90    Net Electricity  kWh         mean       all          Aug        2021   \n95                Gas  kWh         mean       all          Aug        2021   \n100   Net Electricity  kWh         mean       all          Sep        2021   \n105               Gas  kWh         mean       all          Sep        2021   \n110   Net Electricity  kWh         mean       all          Oct        2021   \n115               Gas  kWh         mean       all          Oct        2021   \n120   Net Electricity  kWh         mean       all          Nov        2021   \n125               Gas  kWh         mean       all          Nov        2021   \n130   Net Electricity  kWh         mean       all          Dec        2021   \n135               Gas  kWh         mean       all          Dec        2021   \n1120  Net Electricity  kWh         mean       all          Jan        2020   \n1125              Gas  kWh         mean       all          Jan        2020   \n1130  Net Electricity  kWh         mean       all          Feb        2020   \n1135              Gas  kWh         mean       all          Feb        2020   \n1140  Net Electricity  kWh         mean       all          Mar        2020   \n1145              Gas  kWh         mean       all          Mar        2020   \n1150  Net Electricity  kWh         mean       all          Apr        2020   \n1155              Gas  kWh         mean       all          Apr        2020   \n1160  Net Electricity  kWh         mean       all          May        2020   \n1165              Gas  kWh         mean       all          May        2020   \n1170  Net Electricity  kWh         mean       all          Jun        2020   \n1175              Gas  kWh         mean       all          Jun        2020   \n1180  Net Electricity  kWh         mean       all          Jul        2020   \n1185              Gas  kWh         mean       all          Jul        2020   \n1190  Net Electricity  kWh         mean       all          Aug        2020   \n1195              Gas  kWh         mean       all          Aug        2020   \n1200  Net Electricity  kWh         mean       all          Sep        2020   \n1205              Gas  kWh         mean       all          Sep        2020   \n1210  Net Electricity  kWh         mean       all          Oct        2020   \n1215              Gas  kWh         mean       all          Oct        2020   \n1220  Net Electricity  kWh         mean       all          Nov        2020   \n1225              Gas  kWh         mean       all          Nov        2020   \n1230  Net Electricity  kWh         mean       all          Dec        2020   \n1235              Gas  kWh         mean       all          Dec        2020   \n\n     segmentation_variable_1 segment_1_value   value  n_sample  ...  \\\n20                      None            None  13.862   11979.0  ...   \n25                      None            None  80.868    9021.0  ...   \n30                      None            None  12.987   12037.0  ...   \n35                      None            None  71.698    9095.0  ...   \n40                      None            None  11.484   11951.0  ...   \n45                      None            None  56.175    9053.0  ...   \n50                      None            None  10.110   11840.0  ...   \n55                      None            None  45.041    8985.0  ...   \n60                      None            None   9.129   11797.0  ...   \n65                      None            None  31.743    8885.0  ...   \n70                      None            None   7.512   11803.0  ...   \n75                      None            None  10.038    8854.0  ...   \n80                      None            None   7.451   11825.0  ...   \n85                      None            None   8.086    8830.0  ...   \n90                      None            None   7.575   11605.0  ...   \n95                      None            None   9.047    8646.0  ...   \n100                     None            None   7.692   11663.0  ...   \n105                     None            None  10.926    8704.0  ...   \n110                     None            None   8.903   11774.0  ...   \n115                     None            None  27.360    8774.0  ...   \n120                     None            None  10.396   11547.0  ...   \n125                     None            None  51.732    8597.0  ...   \n130                     None            None  11.540   11683.0  ...   \n135                     None            None  62.051    8661.0  ...   \n1120                    None            None  12.227    4050.0  ...   \n1125                    None            None  63.801    3323.0  ...   \n1130                    None            None  11.858    7324.0  ...   \n1135                    None            None  64.320    5423.0  ...   \n1140                    None            None  11.438    8627.0  ...   \n1145                    None            None  55.973    6297.0  ...   \n1150                    None            None  10.141    8744.0  ...   \n1155                    None            None  28.611    6461.0  ...   \n1160                    None            None   9.192    9459.0  ...   \n1165                    None            None  18.513    7143.0  ...   \n1170                    None            None   8.920    9528.0  ...   \n1175                    None            None  12.397    7214.0  ...   \n1180                    None            None   8.577    9790.0  ...   \n1185                    None            None  10.292    7408.0  ...   \n1190                    None            None   8.468   10235.0  ...   \n1195                    None            None   9.199    7729.0  ...   \n1200                    None            None   8.809   10769.0  ...   \n1205                    None            None  15.543    8100.0  ...   \n1210                    None            None  10.517   11164.0  ...   \n1215                    None            None  38.252    8479.0  ...   \n1220                    None            None  11.718   11419.0  ...   \n1225                    None            None  49.848    8842.0  ...   \n1230                    None            None  13.231   11871.0  ...   \n1235                    None            None  69.736    8998.0  ...   \n\n      mean_temp  mean_hdd  decimal_places  weekday_weekend mean_floor_area  \\\n20        3.583    12.037             3.0             both       95.551547   \n25        3.598    12.020             3.0             both       95.551547   \n30        5.185    10.376             3.0             both       95.551547   \n35        5.208    10.351             3.0             both       95.551547   \n40        7.048     8.466             3.0             both       95.551547   \n45        7.073     8.441             3.0             both       95.551547   \n50        6.515     9.120             3.0             both       95.551547   \n55        6.542     9.095             3.0             both       95.551547   \n60       10.080     5.633             3.0             both       95.551547   \n65       10.119     5.594             3.0             both       95.551547   \n70       15.538     1.412             3.0             both       95.551547   \n75       15.593     1.380             3.0             both       95.551547   \n80       17.414     0.484             3.0             both       95.551547   \n85       17.468     0.466             3.0             both       95.551547   \n90       15.880     0.802             3.0             both       95.551547   \n95       15.920     0.779             3.0             both       95.551547   \n100      15.811     1.146             3.0             both       95.551547   \n105      15.863     1.117             3.0             both       95.551547   \n110      12.237     3.478             3.0             both       95.551547   \n115      12.271     3.443             3.0             both       95.551547   \n120       7.920     7.624             3.0             both       95.551547   \n125       7.928     7.614             3.0             both       95.551547   \n130       6.806     8.761             3.0             both       95.551547   \n135       6.827     8.738             3.0             both       95.551547   \n1120      6.707     8.738             3.0             both       95.551547   \n1125      6.711     8.728             3.0             both       95.551547   \n1130      6.705     8.754             3.0             both       95.551547   \n1135      6.767     8.690             3.0             both       95.551547   \n1140      6.699     8.730             3.0             both       95.551547   \n1145      6.743     8.683             3.0             both       95.551547   \n1150     10.261     5.499             3.0             both       95.551547   \n1155     10.349     5.421             3.0             both       95.551547   \n1160     12.689     3.853             3.0             both       95.551547   \n1165     12.734     3.820             3.0             both       95.551547   \n1170     15.060     1.804             3.0             both       95.551547   \n1175     15.108     1.775             3.0             both       95.551547   \n1180     15.866     1.140             3.0             both       95.551547   \n1185     15.898     1.116             3.0             both       95.551547   \n1190     17.369     0.756             3.0             both       95.551547   \n1195     17.408     0.739             3.0             both       95.551547   \n1200     14.238     2.274             3.0             both       95.551547   \n1205     14.262     2.257             3.0             both       95.551547   \n1210     10.686     4.813             3.0             both       95.551547   \n1215     10.702     4.796             3.0             both       95.551547   \n1220      9.018     6.585             3.0             both       95.551547   \n1225      9.029     6.574             3.0             both       95.551547   \n1230      5.576     9.984             3.0             both       95.551547   \n1235      5.573     9.985             3.0             both       95.551547   \n\n      n_mean_floor_area  mean_bedrooms  n_mean_bedrooms  mean_occupants  \\\n20               7617.0       2.918951          12659.0        2.277386   \n25               7617.0       2.918951          12659.0        2.277386   \n30               7617.0       2.918951          12659.0        2.277386   \n35               7617.0       2.918951          12659.0        2.277386   \n40               7617.0       2.918951          12659.0        2.277386   \n45               7617.0       2.918951          12659.0        2.277386   \n50               7617.0       2.918951          12659.0        2.277386   \n55               7617.0       2.918951          12659.0        2.277386   \n60               7617.0       2.918951          12659.0        2.277386   \n65               7617.0       2.918951          12659.0        2.277386   \n70               7617.0       2.918951          12659.0        2.277386   \n75               7617.0       2.918951          12659.0        2.277386   \n80               7617.0       2.918951          12659.0        2.277386   \n85               7617.0       2.918951          12659.0        2.277386   \n90               7617.0       2.918951          12659.0        2.277386   \n95               7617.0       2.918951          12659.0        2.277386   \n100              7617.0       2.918951          12659.0        2.277386   \n105              7617.0       2.918951          12659.0        2.277386   \n110              7617.0       2.918951          12659.0        2.277386   \n115              7617.0       2.918951          12659.0        2.277386   \n120              7617.0       2.918951          12659.0        2.277386   \n125              7617.0       2.918951          12659.0        2.277386   \n130              7617.0       2.918951          12659.0        2.277386   \n135              7617.0       2.918951          12659.0        2.277386   \n1120             7617.0       2.918951          12659.0        2.277386   \n1125             7617.0       2.918951          12659.0        2.277386   \n1130             7617.0       2.918951          12659.0        2.277386   \n1135             7617.0       2.918951          12659.0        2.277386   \n1140             7617.0       2.918951          12659.0        2.277386   \n1145             7617.0       2.918951          12659.0        2.277386   \n1150             7617.0       2.918951          12659.0        2.277386   \n1155             7617.0       2.918951          12659.0        2.277386   \n1160             7617.0       2.918951          12659.0        2.277386   \n1165             7617.0       2.918951          12659.0        2.277386   \n1170             7617.0       2.918951          12659.0        2.277386   \n1175             7617.0       2.918951          12659.0        2.277386   \n1180             7617.0       2.918951          12659.0        2.277386   \n1185             7617.0       2.918951          12659.0        2.277386   \n1190             7617.0       2.918951          12659.0        2.277386   \n1195             7617.0       2.918951          12659.0        2.277386   \n1200             7617.0       2.918951          12659.0        2.277386   \n1205             7617.0       2.918951          12659.0        2.277386   \n1210             7617.0       2.918951          12659.0        2.277386   \n1215             7617.0       2.918951          12659.0        2.277386   \n1220             7617.0       2.918951          12659.0        2.277386   \n1225             7617.0       2.918951          12659.0        2.277386   \n1230             7617.0       2.918951          12659.0        2.277386   \n1235             7617.0       2.918951          12659.0        2.277386   \n\n      n_mean_occupants  \n20             12625.0  \n25             12625.0  \n30             12625.0  \n35             12625.0  \n40             12625.0  \n45             12625.0  \n50             12625.0  \n55             12625.0  \n60             12625.0  \n65             12625.0  \n70             12625.0  \n75             12625.0  \n80             12625.0  \n85             12625.0  \n90             12625.0  \n95             12625.0  \n100            12625.0  \n105            12625.0  \n110            12625.0  \n115            12625.0  \n120            12625.0  \n125            12625.0  \n130            12625.0  \n135            12625.0  \n1120           12625.0  \n1125           12625.0  \n1130           12625.0  \n1135           12625.0  \n1140           12625.0  \n1145           12625.0  \n1150           12625.0  \n1155           12625.0  \n1160           12625.0  \n1165           12625.0  \n1170           12625.0  \n1175           12625.0  \n1180           12625.0  \n1185           12625.0  \n1190           12625.0  \n1195           12625.0  \n1200           12625.0  \n1205           12625.0  \n1210           12625.0  \n1215           12625.0  \n1220           12625.0  \n1225           12625.0  \n1230           12625.0  \n1235           12625.0  \n\n[48 rows x 21 columns]",
      "text/html": "<div>\n<style scoped>\n    .dataframe tbody tr th:only-of-type {\n        vertical-align: middle;\n    }\n\n    .dataframe tbody tr th {\n        vertical-align: top;\n    }\n\n    .dataframe thead th {\n        text-align: right;\n    }\n</style>\n<table border=\"1\" class=\"dataframe\">\n  <thead>\n    <tr style=\"text-align: right;\">\n      <th></th>\n      <th>fuel</th>\n      <th>unit</th>\n      <th>summary_stat</th>\n      <th>subsample</th>\n      <th>summary_time</th>\n      <th>time_period</th>\n      <th>segmentation_variable_1</th>\n      <th>segment_1_value</th>\n      <th>value</th>\n      <th>n_sample</th>\n      <th>...</th>\n      <th>mean_temp</th>\n      <th>mean_hdd</th>\n      <th>decimal_places</th>\n      <th>weekday_weekend</th>\n      <th>mean_floor_area</th>\n      <th>n_mean_floor_area</th>\n      <th>mean_bedrooms</th>\n      <th>n_mean_bedrooms</th>\n      <th>mean_occupants</th>\n      <th>n_mean_occupants</th>\n    </tr>\n  </thead>\n  <tbody>\n    <tr>\n      <th>20</th>\n      <td>Net Electricity</td>\n      <td>kWh</td>\n      <td>mean</td>\n      <td>all</td>\n      <td>Jan</td>\n      <td>2021</td>\n      <td>None</td>\n      <td>None</td>\n      <td>13.862</td>\n      <td>11979.0</td>\n      <td>...</td>\n      <td>3.583</td>\n      <td>12.037</td>\n      <td>3.0</td>\n      <td>both</td>\n      <td>95.551547</td>\n      <td>7617.0</td>\n      <td>2.918951</td>\n      <td>12659.0</td>\n      <td>2.277386</td>\n      <td>12625.0</td>\n    </tr>\n    <tr>\n      <th>25</th>\n      <td>Gas</td>\n      <td>kWh</td>\n      <td>mean</td>\n      <td>all</td>\n      <td>Jan</td>\n      <td>2021</td>\n      <td>None</td>\n      <td>None</td>\n      <td>80.868</td>\n      <td>9021.0</td>\n      <td>...</td>\n      <td>3.598</td>\n      <td>12.020</td>\n      <td>3.0</td>\n      <td>both</td>\n      <td>95.551547</td>\n      <td>7617.0</td>\n      <td>2.918951</td>\n      <td>12659.0</td>\n      <td>2.277386</td>\n      <td>12625.0</td>\n    </tr>\n    <tr>\n      <th>30</th>\n      <td>Net Electricity</td>\n      <td>kWh</td>\n      <td>mean</td>\n      <td>all</td>\n      <td>Feb</td>\n      <td>2021</td>\n      <td>None</td>\n      <td>None</td>\n      <td>12.987</td>\n      <td>12037.0</td>\n      <td>...</td>\n      <td>5.185</td>\n      <td>10.376</td>\n      <td>3.0</td>\n      <td>both</td>\n      <td>95.551547</td>\n      <td>7617.0</td>\n      <td>2.918951</td>\n      <td>12659.0</td>\n      <td>2.277386</td>\n      <td>12625.0</td>\n    </tr>\n    <tr>\n      <th>35</th>\n      <td>Gas</td>\n      <td>kWh</td>\n      <td>mean</td>\n      <td>all</td>\n      <td>Feb</td>\n      <td>2021</td>\n      <td>None</td>\n      <td>None</td>\n      <td>71.698</td>\n      <td>9095.0</td>\n      <td>...</td>\n      <td>5.208</td>\n      <td>10.351</td>\n      <td>3.0</td>\n      <td>both</td>\n      <td>95.551547</td>\n      <td>7617.0</td>\n      <td>2.918951</td>\n      <td>12659.0</td>\n      <td>2.277386</td>\n      <td>12625.0</td>\n    </tr>\n    <tr>\n      <th>40</th>\n      <td>Net Electricity</td>\n      <td>kWh</td>\n      <td>mean</td>\n      <td>all</td>\n      <td>Mar</td>\n      <td>2021</td>\n      <td>None</td>\n      <td>None</td>\n      <td>11.484</td>\n      <td>11951.0</td>\n      <td>...</td>\n      <td>7.048</td>\n      <td>8.466</td>\n      <td>3.0</td>\n      <td>both</td>\n      <td>95.551547</td>\n      <td>7617.0</td>\n      <td>2.918951</td>\n      <td>12659.0</td>\n      <td>2.277386</td>\n      <td>12625.0</td>\n    </tr>\n    <tr>\n      <th>45</th>\n      <td>Gas</td>\n      <td>kWh</td>\n      <td>mean</td>\n      <td>all</td>\n      <td>Mar</td>\n      <td>2021</td>\n      <td>None</td>\n      <td>None</td>\n      <td>56.175</td>\n      <td>9053.0</td>\n      <td>...</td>\n      <td>7.073</td>\n      <td>8.441</td>\n      <td>3.0</td>\n      <td>both</td>\n      <td>95.551547</td>\n      <td>7617.0</td>\n      <td>2.918951</td>\n      <td>12659.0</td>\n      <td>2.277386</td>\n      <td>12625.0</td>\n    </tr>\n    <tr>\n      <th>50</th>\n      <td>Net Electricity</td>\n      <td>kWh</td>\n      <td>mean</td>\n      <td>all</td>\n      <td>Apr</td>\n      <td>2021</td>\n      <td>None</td>\n      <td>None</td>\n      <td>10.110</td>\n      <td>11840.0</td>\n      <td>...</td>\n      <td>6.515</td>\n      <td>9.120</td>\n      <td>3.0</td>\n      <td>both</td>\n      <td>95.551547</td>\n      <td>7617.0</td>\n      <td>2.918951</td>\n      <td>12659.0</td>\n      <td>2.277386</td>\n      <td>12625.0</td>\n    </tr>\n    <tr>\n      <th>55</th>\n      <td>Gas</td>\n      <td>kWh</td>\n      <td>mean</td>\n      <td>all</td>\n      <td>Apr</td>\n      <td>2021</td>\n      <td>None</td>\n      <td>None</td>\n      <td>45.041</td>\n      <td>8985.0</td>\n      <td>...</td>\n      <td>6.542</td>\n      <td>9.095</td>\n      <td>3.0</td>\n      <td>both</td>\n      <td>95.551547</td>\n      <td>7617.0</td>\n      <td>2.918951</td>\n      <td>12659.0</td>\n      <td>2.277386</td>\n      <td>12625.0</td>\n    </tr>\n    <tr>\n      <th>60</th>\n      <td>Net Electricity</td>\n      <td>kWh</td>\n      <td>mean</td>\n      <td>all</td>\n      <td>May</td>\n      <td>2021</td>\n      <td>None</td>\n      <td>None</td>\n      <td>9.129</td>\n      <td>11797.0</td>\n      <td>...</td>\n      <td>10.080</td>\n      <td>5.633</td>\n      <td>3.0</td>\n      <td>both</td>\n      <td>95.551547</td>\n      <td>7617.0</td>\n      <td>2.918951</td>\n      <td>12659.0</td>\n      <td>2.277386</td>\n      <td>12625.0</td>\n    </tr>\n    <tr>\n      <th>65</th>\n      <td>Gas</td>\n      <td>kWh</td>\n      <td>mean</td>\n      <td>all</td>\n      <td>May</td>\n      <td>2021</td>\n      <td>None</td>\n      <td>None</td>\n      <td>31.743</td>\n      <td>8885.0</td>\n      <td>...</td>\n      <td>10.119</td>\n      <td>5.594</td>\n      <td>3.0</td>\n      <td>both</td>\n      <td>95.551547</td>\n      <td>7617.0</td>\n      <td>2.918951</td>\n      <td>12659.0</td>\n      <td>2.277386</td>\n      <td>12625.0</td>\n    </tr>\n    <tr>\n      <th>70</th>\n      <td>Net Electricity</td>\n      <td>kWh</td>\n      <td>mean</td>\n      <td>all</td>\n      <td>Jun</td>\n      <td>2021</td>\n      <td>None</td>\n      <td>None</td>\n      <td>7.512</td>\n      <td>11803.0</td>\n      <td>...</td>\n      <td>15.538</td>\n      <td>1.412</td>\n      <td>3.0</td>\n      <td>both</td>\n      <td>95.551547</td>\n      <td>7617.0</td>\n      <td>2.918951</td>\n      <td>12659.0</td>\n      <td>2.277386</td>\n      <td>12625.0</td>\n    </tr>\n    <tr>\n      <th>75</th>\n      <td>Gas</td>\n      <td>kWh</td>\n      <td>mean</td>\n      <td>all</td>\n      <td>Jun</td>\n      <td>2021</td>\n      <td>None</td>\n      <td>None</td>\n      <td>10.038</td>\n      <td>8854.0</td>\n      <td>...</td>\n      <td>15.593</td>\n      <td>1.380</td>\n      <td>3.0</td>\n      <td>both</td>\n      <td>95.551547</td>\n      <td>7617.0</td>\n      <td>2.918951</td>\n      <td>12659.0</td>\n      <td>2.277386</td>\n      <td>12625.0</td>\n    </tr>\n    <tr>\n      <th>80</th>\n      <td>Net Electricity</td>\n      <td>kWh</td>\n      <td>mean</td>\n      <td>all</td>\n      <td>Jul</td>\n      <td>2021</td>\n      <td>None</td>\n      <td>None</td>\n      <td>7.451</td>\n      <td>11825.0</td>\n      <td>...</td>\n      <td>17.414</td>\n      <td>0.484</td>\n      <td>3.0</td>\n      <td>both</td>\n      <td>95.551547</td>\n      <td>7617.0</td>\n      <td>2.918951</td>\n      <td>12659.0</td>\n      <td>2.277386</td>\n      <td>12625.0</td>\n    </tr>\n    <tr>\n      <th>85</th>\n      <td>Gas</td>\n      <td>kWh</td>\n      <td>mean</td>\n      <td>all</td>\n      <td>Jul</td>\n      <td>2021</td>\n      <td>None</td>\n      <td>None</td>\n      <td>8.086</td>\n      <td>8830.0</td>\n      <td>...</td>\n      <td>17.468</td>\n      <td>0.466</td>\n      <td>3.0</td>\n      <td>both</td>\n      <td>95.551547</td>\n      <td>7617.0</td>\n      <td>2.918951</td>\n      <td>12659.0</td>\n      <td>2.277386</td>\n      <td>12625.0</td>\n    </tr>\n    <tr>\n      <th>90</th>\n      <td>Net Electricity</td>\n      <td>kWh</td>\n      <td>mean</td>\n      <td>all</td>\n      <td>Aug</td>\n      <td>2021</td>\n      <td>None</td>\n      <td>None</td>\n      <td>7.575</td>\n      <td>11605.0</td>\n      <td>...</td>\n      <td>15.880</td>\n      <td>0.802</td>\n      <td>3.0</td>\n      <td>both</td>\n      <td>95.551547</td>\n      <td>7617.0</td>\n      <td>2.918951</td>\n      <td>12659.0</td>\n      <td>2.277386</td>\n      <td>12625.0</td>\n    </tr>\n    <tr>\n      <th>95</th>\n      <td>Gas</td>\n      <td>kWh</td>\n      <td>mean</td>\n      <td>all</td>\n      <td>Aug</td>\n      <td>2021</td>\n      <td>None</td>\n      <td>None</td>\n      <td>9.047</td>\n      <td>8646.0</td>\n      <td>...</td>\n      <td>15.920</td>\n      <td>0.779</td>\n      <td>3.0</td>\n      <td>both</td>\n      <td>95.551547</td>\n      <td>7617.0</td>\n      <td>2.918951</td>\n      <td>12659.0</td>\n      <td>2.277386</td>\n      <td>12625.0</td>\n    </tr>\n    <tr>\n      <th>100</th>\n      <td>Net Electricity</td>\n      <td>kWh</td>\n      <td>mean</td>\n      <td>all</td>\n      <td>Sep</td>\n      <td>2021</td>\n      <td>None</td>\n      <td>None</td>\n      <td>7.692</td>\n      <td>11663.0</td>\n      <td>...</td>\n      <td>15.811</td>\n      <td>1.146</td>\n      <td>3.0</td>\n      <td>both</td>\n      <td>95.551547</td>\n      <td>7617.0</td>\n      <td>2.918951</td>\n      <td>12659.0</td>\n      <td>2.277386</td>\n      <td>12625.0</td>\n    </tr>\n    <tr>\n      <th>105</th>\n      <td>Gas</td>\n      <td>kWh</td>\n      <td>mean</td>\n      <td>all</td>\n      <td>Sep</td>\n      <td>2021</td>\n      <td>None</td>\n      <td>None</td>\n      <td>10.926</td>\n      <td>8704.0</td>\n      <td>...</td>\n      <td>15.863</td>\n      <td>1.117</td>\n      <td>3.0</td>\n      <td>both</td>\n      <td>95.551547</td>\n      <td>7617.0</td>\n      <td>2.918951</td>\n      <td>12659.0</td>\n      <td>2.277386</td>\n      <td>12625.0</td>\n    </tr>\n    <tr>\n      <th>110</th>\n      <td>Net Electricity</td>\n      <td>kWh</td>\n      <td>mean</td>\n      <td>all</td>\n      <td>Oct</td>\n      <td>2021</td>\n      <td>None</td>\n      <td>None</td>\n      <td>8.903</td>\n      <td>11774.0</td>\n      <td>...</td>\n      <td>12.237</td>\n      <td>3.478</td>\n      <td>3.0</td>\n      <td>both</td>\n      <td>95.551547</td>\n      <td>7617.0</td>\n      <td>2.918951</td>\n      <td>12659.0</td>\n      <td>2.277386</td>\n      <td>12625.0</td>\n    </tr>\n    <tr>\n      <th>115</th>\n      <td>Gas</td>\n      <td>kWh</td>\n      <td>mean</td>\n      <td>all</td>\n      <td>Oct</td>\n      <td>2021</td>\n      <td>None</td>\n      <td>None</td>\n      <td>27.360</td>\n      <td>8774.0</td>\n      <td>...</td>\n      <td>12.271</td>\n      <td>3.443</td>\n      <td>3.0</td>\n      <td>both</td>\n      <td>95.551547</td>\n      <td>7617.0</td>\n      <td>2.918951</td>\n      <td>12659.0</td>\n      <td>2.277386</td>\n      <td>12625.0</td>\n    </tr>\n    <tr>\n      <th>120</th>\n      <td>Net Electricity</td>\n      <td>kWh</td>\n      <td>mean</td>\n      <td>all</td>\n      <td>Nov</td>\n      <td>2021</td>\n      <td>None</td>\n      <td>None</td>\n      <td>10.396</td>\n      <td>11547.0</td>\n      <td>...</td>\n      <td>7.920</td>\n      <td>7.624</td>\n      <td>3.0</td>\n      <td>both</td>\n      <td>95.551547</td>\n      <td>7617.0</td>\n      <td>2.918951</td>\n      <td>12659.0</td>\n      <td>2.277386</td>\n      <td>12625.0</td>\n    </tr>\n    <tr>\n      <th>125</th>\n      <td>Gas</td>\n      <td>kWh</td>\n      <td>mean</td>\n      <td>all</td>\n      <td>Nov</td>\n      <td>2021</td>\n      <td>None</td>\n      <td>None</td>\n      <td>51.732</td>\n      <td>8597.0</td>\n      <td>...</td>\n      <td>7.928</td>\n      <td>7.614</td>\n      <td>3.0</td>\n      <td>both</td>\n      <td>95.551547</td>\n      <td>7617.0</td>\n      <td>2.918951</td>\n      <td>12659.0</td>\n      <td>2.277386</td>\n      <td>12625.0</td>\n    </tr>\n    <tr>\n      <th>130</th>\n      <td>Net Electricity</td>\n      <td>kWh</td>\n      <td>mean</td>\n      <td>all</td>\n      <td>Dec</td>\n      <td>2021</td>\n      <td>None</td>\n      <td>None</td>\n      <td>11.540</td>\n      <td>11683.0</td>\n      <td>...</td>\n      <td>6.806</td>\n      <td>8.761</td>\n      <td>3.0</td>\n      <td>both</td>\n      <td>95.551547</td>\n      <td>7617.0</td>\n      <td>2.918951</td>\n      <td>12659.0</td>\n      <td>2.277386</td>\n      <td>12625.0</td>\n    </tr>\n    <tr>\n      <th>135</th>\n      <td>Gas</td>\n      <td>kWh</td>\n      <td>mean</td>\n      <td>all</td>\n      <td>Dec</td>\n      <td>2021</td>\n      <td>None</td>\n      <td>None</td>\n      <td>62.051</td>\n      <td>8661.0</td>\n      <td>...</td>\n      <td>6.827</td>\n      <td>8.738</td>\n      <td>3.0</td>\n      <td>both</td>\n      <td>95.551547</td>\n      <td>7617.0</td>\n      <td>2.918951</td>\n      <td>12659.0</td>\n      <td>2.277386</td>\n      <td>12625.0</td>\n    </tr>\n    <tr>\n      <th>1120</th>\n      <td>Net Electricity</td>\n      <td>kWh</td>\n      <td>mean</td>\n      <td>all</td>\n      <td>Jan</td>\n      <td>2020</td>\n      <td>None</td>\n      <td>None</td>\n      <td>12.227</td>\n      <td>4050.0</td>\n      <td>...</td>\n      <td>6.707</td>\n      <td>8.738</td>\n      <td>3.0</td>\n      <td>both</td>\n      <td>95.551547</td>\n      <td>7617.0</td>\n      <td>2.918951</td>\n      <td>12659.0</td>\n      <td>2.277386</td>\n      <td>12625.0</td>\n    </tr>\n    <tr>\n      <th>1125</th>\n      <td>Gas</td>\n      <td>kWh</td>\n      <td>mean</td>\n      <td>all</td>\n      <td>Jan</td>\n      <td>2020</td>\n      <td>None</td>\n      <td>None</td>\n      <td>63.801</td>\n      <td>3323.0</td>\n      <td>...</td>\n      <td>6.711</td>\n      <td>8.728</td>\n      <td>3.0</td>\n      <td>both</td>\n      <td>95.551547</td>\n      <td>7617.0</td>\n      <td>2.918951</td>\n      <td>12659.0</td>\n      <td>2.277386</td>\n      <td>12625.0</td>\n    </tr>\n    <tr>\n      <th>1130</th>\n      <td>Net Electricity</td>\n      <td>kWh</td>\n      <td>mean</td>\n      <td>all</td>\n      <td>Feb</td>\n      <td>2020</td>\n      <td>None</td>\n      <td>None</td>\n      <td>11.858</td>\n      <td>7324.0</td>\n      <td>...</td>\n      <td>6.705</td>\n      <td>8.754</td>\n      <td>3.0</td>\n      <td>both</td>\n      <td>95.551547</td>\n      <td>7617.0</td>\n      <td>2.918951</td>\n      <td>12659.0</td>\n      <td>2.277386</td>\n      <td>12625.0</td>\n    </tr>\n    <tr>\n      <th>1135</th>\n      <td>Gas</td>\n      <td>kWh</td>\n      <td>mean</td>\n      <td>all</td>\n      <td>Feb</td>\n      <td>2020</td>\n      <td>None</td>\n      <td>None</td>\n      <td>64.320</td>\n      <td>5423.0</td>\n      <td>...</td>\n      <td>6.767</td>\n      <td>8.690</td>\n      <td>3.0</td>\n      <td>both</td>\n      <td>95.551547</td>\n      <td>7617.0</td>\n      <td>2.918951</td>\n      <td>12659.0</td>\n      <td>2.277386</td>\n      <td>12625.0</td>\n    </tr>\n    <tr>\n      <th>1140</th>\n      <td>Net Electricity</td>\n      <td>kWh</td>\n      <td>mean</td>\n      <td>all</td>\n      <td>Mar</td>\n      <td>2020</td>\n      <td>None</td>\n      <td>None</td>\n      <td>11.438</td>\n      <td>8627.0</td>\n      <td>...</td>\n      <td>6.699</td>\n      <td>8.730</td>\n      <td>3.0</td>\n      <td>both</td>\n      <td>95.551547</td>\n      <td>7617.0</td>\n      <td>2.918951</td>\n      <td>12659.0</td>\n      <td>2.277386</td>\n      <td>12625.0</td>\n    </tr>\n    <tr>\n      <th>1145</th>\n      <td>Gas</td>\n      <td>kWh</td>\n      <td>mean</td>\n      <td>all</td>\n      <td>Mar</td>\n      <td>2020</td>\n      <td>None</td>\n      <td>None</td>\n      <td>55.973</td>\n      <td>6297.0</td>\n      <td>...</td>\n      <td>6.743</td>\n      <td>8.683</td>\n      <td>3.0</td>\n      <td>both</td>\n      <td>95.551547</td>\n      <td>7617.0</td>\n      <td>2.918951</td>\n      <td>12659.0</td>\n      <td>2.277386</td>\n      <td>12625.0</td>\n    </tr>\n    <tr>\n      <th>1150</th>\n      <td>Net Electricity</td>\n      <td>kWh</td>\n      <td>mean</td>\n      <td>all</td>\n      <td>Apr</td>\n      <td>2020</td>\n      <td>None</td>\n      <td>None</td>\n      <td>10.141</td>\n      <td>8744.0</td>\n      <td>...</td>\n      <td>10.261</td>\n      <td>5.499</td>\n      <td>3.0</td>\n      <td>both</td>\n      <td>95.551547</td>\n      <td>7617.0</td>\n      <td>2.918951</td>\n      <td>12659.0</td>\n      <td>2.277386</td>\n      <td>12625.0</td>\n    </tr>\n    <tr>\n      <th>1155</th>\n      <td>Gas</td>\n      <td>kWh</td>\n      <td>mean</td>\n      <td>all</td>\n      <td>Apr</td>\n      <td>2020</td>\n      <td>None</td>\n      <td>None</td>\n      <td>28.611</td>\n      <td>6461.0</td>\n      <td>...</td>\n      <td>10.349</td>\n      <td>5.421</td>\n      <td>3.0</td>\n      <td>both</td>\n      <td>95.551547</td>\n      <td>7617.0</td>\n      <td>2.918951</td>\n      <td>12659.0</td>\n      <td>2.277386</td>\n      <td>12625.0</td>\n    </tr>\n    <tr>\n      <th>1160</th>\n      <td>Net Electricity</td>\n      <td>kWh</td>\n      <td>mean</td>\n      <td>all</td>\n      <td>May</td>\n      <td>2020</td>\n      <td>None</td>\n      <td>None</td>\n      <td>9.192</td>\n      <td>9459.0</td>\n      <td>...</td>\n      <td>12.689</td>\n      <td>3.853</td>\n      <td>3.0</td>\n      <td>both</td>\n      <td>95.551547</td>\n      <td>7617.0</td>\n      <td>2.918951</td>\n      <td>12659.0</td>\n      <td>2.277386</td>\n      <td>12625.0</td>\n    </tr>\n    <tr>\n      <th>1165</th>\n      <td>Gas</td>\n      <td>kWh</td>\n      <td>mean</td>\n      <td>all</td>\n      <td>May</td>\n      <td>2020</td>\n      <td>None</td>\n      <td>None</td>\n      <td>18.513</td>\n      <td>7143.0</td>\n      <td>...</td>\n      <td>12.734</td>\n      <td>3.820</td>\n      <td>3.0</td>\n      <td>both</td>\n      <td>95.551547</td>\n      <td>7617.0</td>\n      <td>2.918951</td>\n      <td>12659.0</td>\n      <td>2.277386</td>\n      <td>12625.0</td>\n    </tr>\n    <tr>\n      <th>1170</th>\n      <td>Net Electricity</td>\n      <td>kWh</td>\n      <td>mean</td>\n      <td>all</td>\n      <td>Jun</td>\n      <td>2020</td>\n      <td>None</td>\n      <td>None</td>\n      <td>8.920</td>\n      <td>9528.0</td>\n      <td>...</td>\n      <td>15.060</td>\n      <td>1.804</td>\n      <td>3.0</td>\n      <td>both</td>\n      <td>95.551547</td>\n      <td>7617.0</td>\n      <td>2.918951</td>\n      <td>12659.0</td>\n      <td>2.277386</td>\n      <td>12625.0</td>\n    </tr>\n    <tr>\n      <th>1175</th>\n      <td>Gas</td>\n      <td>kWh</td>\n      <td>mean</td>\n      <td>all</td>\n      <td>Jun</td>\n      <td>2020</td>\n      <td>None</td>\n      <td>None</td>\n      <td>12.397</td>\n      <td>7214.0</td>\n      <td>...</td>\n      <td>15.108</td>\n      <td>1.775</td>\n      <td>3.0</td>\n      <td>both</td>\n      <td>95.551547</td>\n      <td>7617.0</td>\n      <td>2.918951</td>\n      <td>12659.0</td>\n      <td>2.277386</td>\n      <td>12625.0</td>\n    </tr>\n    <tr>\n      <th>1180</th>\n      <td>Net Electricity</td>\n      <td>kWh</td>\n      <td>mean</td>\n      <td>all</td>\n      <td>Jul</td>\n      <td>2020</td>\n      <td>None</td>\n      <td>None</td>\n      <td>8.577</td>\n      <td>9790.0</td>\n      <td>...</td>\n      <td>15.866</td>\n      <td>1.140</td>\n      <td>3.0</td>\n      <td>both</td>\n      <td>95.551547</td>\n      <td>7617.0</td>\n      <td>2.918951</td>\n      <td>12659.0</td>\n      <td>2.277386</td>\n      <td>12625.0</td>\n    </tr>\n    <tr>\n      <th>1185</th>\n      <td>Gas</td>\n      <td>kWh</td>\n      <td>mean</td>\n      <td>all</td>\n      <td>Jul</td>\n      <td>2020</td>\n      <td>None</td>\n      <td>None</td>\n      <td>10.292</td>\n      <td>7408.0</td>\n      <td>...</td>\n      <td>15.898</td>\n      <td>1.116</td>\n      <td>3.0</td>\n      <td>both</td>\n      <td>95.551547</td>\n      <td>7617.0</td>\n      <td>2.918951</td>\n      <td>12659.0</td>\n      <td>2.277386</td>\n      <td>12625.0</td>\n    </tr>\n    <tr>\n      <th>1190</th>\n      <td>Net Electricity</td>\n      <td>kWh</td>\n      <td>mean</td>\n      <td>all</td>\n      <td>Aug</td>\n      <td>2020</td>\n      <td>None</td>\n      <td>None</td>\n      <td>8.468</td>\n      <td>10235.0</td>\n      <td>...</td>\n      <td>17.369</td>\n      <td>0.756</td>\n      <td>3.0</td>\n      <td>both</td>\n      <td>95.551547</td>\n      <td>7617.0</td>\n      <td>2.918951</td>\n      <td>12659.0</td>\n      <td>2.277386</td>\n      <td>12625.0</td>\n    </tr>\n    <tr>\n      <th>1195</th>\n      <td>Gas</td>\n      <td>kWh</td>\n      <td>mean</td>\n      <td>all</td>\n      <td>Aug</td>\n      <td>2020</td>\n      <td>None</td>\n      <td>None</td>\n      <td>9.199</td>\n      <td>7729.0</td>\n      <td>...</td>\n      <td>17.408</td>\n      <td>0.739</td>\n      <td>3.0</td>\n      <td>both</td>\n      <td>95.551547</td>\n      <td>7617.0</td>\n      <td>2.918951</td>\n      <td>12659.0</td>\n      <td>2.277386</td>\n      <td>12625.0</td>\n    </tr>\n    <tr>\n      <th>1200</th>\n      <td>Net Electricity</td>\n      <td>kWh</td>\n      <td>mean</td>\n      <td>all</td>\n      <td>Sep</td>\n      <td>2020</td>\n      <td>None</td>\n      <td>None</td>\n      <td>8.809</td>\n      <td>10769.0</td>\n      <td>...</td>\n      <td>14.238</td>\n      <td>2.274</td>\n      <td>3.0</td>\n      <td>both</td>\n      <td>95.551547</td>\n      <td>7617.0</td>\n      <td>2.918951</td>\n      <td>12659.0</td>\n      <td>2.277386</td>\n      <td>12625.0</td>\n    </tr>\n    <tr>\n      <th>1205</th>\n      <td>Gas</td>\n      <td>kWh</td>\n      <td>mean</td>\n      <td>all</td>\n      <td>Sep</td>\n      <td>2020</td>\n      <td>None</td>\n      <td>None</td>\n      <td>15.543</td>\n      <td>8100.0</td>\n      <td>...</td>\n      <td>14.262</td>\n      <td>2.257</td>\n      <td>3.0</td>\n      <td>both</td>\n      <td>95.551547</td>\n      <td>7617.0</td>\n      <td>2.918951</td>\n      <td>12659.0</td>\n      <td>2.277386</td>\n      <td>12625.0</td>\n    </tr>\n    <tr>\n      <th>1210</th>\n      <td>Net Electricity</td>\n      <td>kWh</td>\n      <td>mean</td>\n      <td>all</td>\n      <td>Oct</td>\n      <td>2020</td>\n      <td>None</td>\n      <td>None</td>\n      <td>10.517</td>\n      <td>11164.0</td>\n      <td>...</td>\n      <td>10.686</td>\n      <td>4.813</td>\n      <td>3.0</td>\n      <td>both</td>\n      <td>95.551547</td>\n      <td>7617.0</td>\n      <td>2.918951</td>\n      <td>12659.0</td>\n      <td>2.277386</td>\n      <td>12625.0</td>\n    </tr>\n    <tr>\n      <th>1215</th>\n      <td>Gas</td>\n      <td>kWh</td>\n      <td>mean</td>\n      <td>all</td>\n      <td>Oct</td>\n      <td>2020</td>\n      <td>None</td>\n      <td>None</td>\n      <td>38.252</td>\n      <td>8479.0</td>\n      <td>...</td>\n      <td>10.702</td>\n      <td>4.796</td>\n      <td>3.0</td>\n      <td>both</td>\n      <td>95.551547</td>\n      <td>7617.0</td>\n      <td>2.918951</td>\n      <td>12659.0</td>\n      <td>2.277386</td>\n      <td>12625.0</td>\n    </tr>\n    <tr>\n      <th>1220</th>\n      <td>Net Electricity</td>\n      <td>kWh</td>\n      <td>mean</td>\n      <td>all</td>\n      <td>Nov</td>\n      <td>2020</td>\n      <td>None</td>\n      <td>None</td>\n      <td>11.718</td>\n      <td>11419.0</td>\n      <td>...</td>\n      <td>9.018</td>\n      <td>6.585</td>\n      <td>3.0</td>\n      <td>both</td>\n      <td>95.551547</td>\n      <td>7617.0</td>\n      <td>2.918951</td>\n      <td>12659.0</td>\n      <td>2.277386</td>\n      <td>12625.0</td>\n    </tr>\n    <tr>\n      <th>1225</th>\n      <td>Gas</td>\n      <td>kWh</td>\n      <td>mean</td>\n      <td>all</td>\n      <td>Nov</td>\n      <td>2020</td>\n      <td>None</td>\n      <td>None</td>\n      <td>49.848</td>\n      <td>8842.0</td>\n      <td>...</td>\n      <td>9.029</td>\n      <td>6.574</td>\n      <td>3.0</td>\n      <td>both</td>\n      <td>95.551547</td>\n      <td>7617.0</td>\n      <td>2.918951</td>\n      <td>12659.0</td>\n      <td>2.277386</td>\n      <td>12625.0</td>\n    </tr>\n    <tr>\n      <th>1230</th>\n      <td>Net Electricity</td>\n      <td>kWh</td>\n      <td>mean</td>\n      <td>all</td>\n      <td>Dec</td>\n      <td>2020</td>\n      <td>None</td>\n      <td>None</td>\n      <td>13.231</td>\n      <td>11871.0</td>\n      <td>...</td>\n      <td>5.576</td>\n      <td>9.984</td>\n      <td>3.0</td>\n      <td>both</td>\n      <td>95.551547</td>\n      <td>7617.0</td>\n      <td>2.918951</td>\n      <td>12659.0</td>\n      <td>2.277386</td>\n      <td>12625.0</td>\n    </tr>\n    <tr>\n      <th>1235</th>\n      <td>Gas</td>\n      <td>kWh</td>\n      <td>mean</td>\n      <td>all</td>\n      <td>Dec</td>\n      <td>2020</td>\n      <td>None</td>\n      <td>None</td>\n      <td>69.736</td>\n      <td>8998.0</td>\n      <td>...</td>\n      <td>5.573</td>\n      <td>9.985</td>\n      <td>3.0</td>\n      <td>both</td>\n      <td>95.551547</td>\n      <td>7617.0</td>\n      <td>2.918951</td>\n      <td>12659.0</td>\n      <td>2.277386</td>\n      <td>12625.0</td>\n    </tr>\n  </tbody>\n</table>\n<p>48 rows × 21 columns</p>\n</div>"
     },
     "execution_count": 97,
     "metadata": {},
     "output_type": "execute_result"
    }
   ],
   "source": [
    "def summary_time_year_remove(dataframe):\n",
    "    for i in range(dataframe.shape[0]):\n",
    "        dataframe.iloc[i,4] = dataframe.iloc[i,4][:-3]\n",
    "    return dataframe\n",
    "\n",
    "summary_time_year_remove(temp)"
   ],
   "metadata": {
    "collapsed": false,
    "pycharm": {
     "name": "#%%\n"
    }
   }
  },
  {
   "cell_type": "code",
   "execution_count": 98,
   "outputs": [
    {
     "data": {
      "text/plain": "                 fuel unit summary_stat subsample summary_time time_period  \\\n20    Net Electricity  kWh         mean       all          Jan        2021   \n30    Net Electricity  kWh         mean       all          Feb        2021   \n40    Net Electricity  kWh         mean       all          Mar        2021   \n50    Net Electricity  kWh         mean       all          Apr        2021   \n60    Net Electricity  kWh         mean       all          May        2021   \n70    Net Electricity  kWh         mean       all          Jun        2021   \n80    Net Electricity  kWh         mean       all          Jul        2021   \n90    Net Electricity  kWh         mean       all          Aug        2021   \n100   Net Electricity  kWh         mean       all          Sep        2021   \n110   Net Electricity  kWh         mean       all          Oct        2021   \n120   Net Electricity  kWh         mean       all          Nov        2021   \n130   Net Electricity  kWh         mean       all          Dec        2021   \n1120  Net Electricity  kWh         mean       all          Jan        2020   \n1130  Net Electricity  kWh         mean       all          Feb        2020   \n1140  Net Electricity  kWh         mean       all          Mar        2020   \n1150  Net Electricity  kWh         mean       all          Apr        2020   \n1160  Net Electricity  kWh         mean       all          May        2020   \n1170  Net Electricity  kWh         mean       all          Jun        2020   \n1180  Net Electricity  kWh         mean       all          Jul        2020   \n1190  Net Electricity  kWh         mean       all          Aug        2020   \n1200  Net Electricity  kWh         mean       all          Sep        2020   \n1210  Net Electricity  kWh         mean       all          Oct        2020   \n1220  Net Electricity  kWh         mean       all          Nov        2020   \n1230  Net Electricity  kWh         mean       all          Dec        2020   \n\n     segmentation_variable_1 segment_1_value   value  n_sample  ...  \\\n20                      None            None  13.862   11979.0  ...   \n30                      None            None  12.987   12037.0  ...   \n40                      None            None  11.484   11951.0  ...   \n50                      None            None  10.110   11840.0  ...   \n60                      None            None   9.129   11797.0  ...   \n70                      None            None   7.512   11803.0  ...   \n80                      None            None   7.451   11825.0  ...   \n90                      None            None   7.575   11605.0  ...   \n100                     None            None   7.692   11663.0  ...   \n110                     None            None   8.903   11774.0  ...   \n120                     None            None  10.396   11547.0  ...   \n130                     None            None  11.540   11683.0  ...   \n1120                    None            None  12.227    4050.0  ...   \n1130                    None            None  11.858    7324.0  ...   \n1140                    None            None  11.438    8627.0  ...   \n1150                    None            None  10.141    8744.0  ...   \n1160                    None            None   9.192    9459.0  ...   \n1170                    None            None   8.920    9528.0  ...   \n1180                    None            None   8.577    9790.0  ...   \n1190                    None            None   8.468   10235.0  ...   \n1200                    None            None   8.809   10769.0  ...   \n1210                    None            None  10.517   11164.0  ...   \n1220                    None            None  11.718   11419.0  ...   \n1230                    None            None  13.231   11871.0  ...   \n\n      mean_temp  mean_hdd  decimal_places  weekday_weekend mean_floor_area  \\\n20        3.583    12.037             3.0             both       95.551547   \n30        5.185    10.376             3.0             both       95.551547   \n40        7.048     8.466             3.0             both       95.551547   \n50        6.515     9.120             3.0             both       95.551547   \n60       10.080     5.633             3.0             both       95.551547   \n70       15.538     1.412             3.0             both       95.551547   \n80       17.414     0.484             3.0             both       95.551547   \n90       15.880     0.802             3.0             both       95.551547   \n100      15.811     1.146             3.0             both       95.551547   \n110      12.237     3.478             3.0             both       95.551547   \n120       7.920     7.624             3.0             both       95.551547   \n130       6.806     8.761             3.0             both       95.551547   \n1120      6.707     8.738             3.0             both       95.551547   \n1130      6.705     8.754             3.0             both       95.551547   \n1140      6.699     8.730             3.0             both       95.551547   \n1150     10.261     5.499             3.0             both       95.551547   \n1160     12.689     3.853             3.0             both       95.551547   \n1170     15.060     1.804             3.0             both       95.551547   \n1180     15.866     1.140             3.0             both       95.551547   \n1190     17.369     0.756             3.0             both       95.551547   \n1200     14.238     2.274             3.0             both       95.551547   \n1210     10.686     4.813             3.0             both       95.551547   \n1220      9.018     6.585             3.0             both       95.551547   \n1230      5.576     9.984             3.0             both       95.551547   \n\n      n_mean_floor_area  mean_bedrooms  n_mean_bedrooms  mean_occupants  \\\n20               7617.0       2.918951          12659.0        2.277386   \n30               7617.0       2.918951          12659.0        2.277386   \n40               7617.0       2.918951          12659.0        2.277386   \n50               7617.0       2.918951          12659.0        2.277386   \n60               7617.0       2.918951          12659.0        2.277386   \n70               7617.0       2.918951          12659.0        2.277386   \n80               7617.0       2.918951          12659.0        2.277386   \n90               7617.0       2.918951          12659.0        2.277386   \n100              7617.0       2.918951          12659.0        2.277386   \n110              7617.0       2.918951          12659.0        2.277386   \n120              7617.0       2.918951          12659.0        2.277386   \n130              7617.0       2.918951          12659.0        2.277386   \n1120             7617.0       2.918951          12659.0        2.277386   \n1130             7617.0       2.918951          12659.0        2.277386   \n1140             7617.0       2.918951          12659.0        2.277386   \n1150             7617.0       2.918951          12659.0        2.277386   \n1160             7617.0       2.918951          12659.0        2.277386   \n1170             7617.0       2.918951          12659.0        2.277386   \n1180             7617.0       2.918951          12659.0        2.277386   \n1190             7617.0       2.918951          12659.0        2.277386   \n1200             7617.0       2.918951          12659.0        2.277386   \n1210             7617.0       2.918951          12659.0        2.277386   \n1220             7617.0       2.918951          12659.0        2.277386   \n1230             7617.0       2.918951          12659.0        2.277386   \n\n      n_mean_occupants  \n20             12625.0  \n30             12625.0  \n40             12625.0  \n50             12625.0  \n60             12625.0  \n70             12625.0  \n80             12625.0  \n90             12625.0  \n100            12625.0  \n110            12625.0  \n120            12625.0  \n130            12625.0  \n1120           12625.0  \n1130           12625.0  \n1140           12625.0  \n1150           12625.0  \n1160           12625.0  \n1170           12625.0  \n1180           12625.0  \n1190           12625.0  \n1200           12625.0  \n1210           12625.0  \n1220           12625.0  \n1230           12625.0  \n\n[24 rows x 21 columns]",
      "text/html": "<div>\n<style scoped>\n    .dataframe tbody tr th:only-of-type {\n        vertical-align: middle;\n    }\n\n    .dataframe tbody tr th {\n        vertical-align: top;\n    }\n\n    .dataframe thead th {\n        text-align: right;\n    }\n</style>\n<table border=\"1\" class=\"dataframe\">\n  <thead>\n    <tr style=\"text-align: right;\">\n      <th></th>\n      <th>fuel</th>\n      <th>unit</th>\n      <th>summary_stat</th>\n      <th>subsample</th>\n      <th>summary_time</th>\n      <th>time_period</th>\n      <th>segmentation_variable_1</th>\n      <th>segment_1_value</th>\n      <th>value</th>\n      <th>n_sample</th>\n      <th>...</th>\n      <th>mean_temp</th>\n      <th>mean_hdd</th>\n      <th>decimal_places</th>\n      <th>weekday_weekend</th>\n      <th>mean_floor_area</th>\n      <th>n_mean_floor_area</th>\n      <th>mean_bedrooms</th>\n      <th>n_mean_bedrooms</th>\n      <th>mean_occupants</th>\n      <th>n_mean_occupants</th>\n    </tr>\n  </thead>\n  <tbody>\n    <tr>\n      <th>20</th>\n      <td>Net Electricity</td>\n      <td>kWh</td>\n      <td>mean</td>\n      <td>all</td>\n      <td>Jan</td>\n      <td>2021</td>\n      <td>None</td>\n      <td>None</td>\n      <td>13.862</td>\n      <td>11979.0</td>\n      <td>...</td>\n      <td>3.583</td>\n      <td>12.037</td>\n      <td>3.0</td>\n      <td>both</td>\n      <td>95.551547</td>\n      <td>7617.0</td>\n      <td>2.918951</td>\n      <td>12659.0</td>\n      <td>2.277386</td>\n      <td>12625.0</td>\n    </tr>\n    <tr>\n      <th>30</th>\n      <td>Net Electricity</td>\n      <td>kWh</td>\n      <td>mean</td>\n      <td>all</td>\n      <td>Feb</td>\n      <td>2021</td>\n      <td>None</td>\n      <td>None</td>\n      <td>12.987</td>\n      <td>12037.0</td>\n      <td>...</td>\n      <td>5.185</td>\n      <td>10.376</td>\n      <td>3.0</td>\n      <td>both</td>\n      <td>95.551547</td>\n      <td>7617.0</td>\n      <td>2.918951</td>\n      <td>12659.0</td>\n      <td>2.277386</td>\n      <td>12625.0</td>\n    </tr>\n    <tr>\n      <th>40</th>\n      <td>Net Electricity</td>\n      <td>kWh</td>\n      <td>mean</td>\n      <td>all</td>\n      <td>Mar</td>\n      <td>2021</td>\n      <td>None</td>\n      <td>None</td>\n      <td>11.484</td>\n      <td>11951.0</td>\n      <td>...</td>\n      <td>7.048</td>\n      <td>8.466</td>\n      <td>3.0</td>\n      <td>both</td>\n      <td>95.551547</td>\n      <td>7617.0</td>\n      <td>2.918951</td>\n      <td>12659.0</td>\n      <td>2.277386</td>\n      <td>12625.0</td>\n    </tr>\n    <tr>\n      <th>50</th>\n      <td>Net Electricity</td>\n      <td>kWh</td>\n      <td>mean</td>\n      <td>all</td>\n      <td>Apr</td>\n      <td>2021</td>\n      <td>None</td>\n      <td>None</td>\n      <td>10.110</td>\n      <td>11840.0</td>\n      <td>...</td>\n      <td>6.515</td>\n      <td>9.120</td>\n      <td>3.0</td>\n      <td>both</td>\n      <td>95.551547</td>\n      <td>7617.0</td>\n      <td>2.918951</td>\n      <td>12659.0</td>\n      <td>2.277386</td>\n      <td>12625.0</td>\n    </tr>\n    <tr>\n      <th>60</th>\n      <td>Net Electricity</td>\n      <td>kWh</td>\n      <td>mean</td>\n      <td>all</td>\n      <td>May</td>\n      <td>2021</td>\n      <td>None</td>\n      <td>None</td>\n      <td>9.129</td>\n      <td>11797.0</td>\n      <td>...</td>\n      <td>10.080</td>\n      <td>5.633</td>\n      <td>3.0</td>\n      <td>both</td>\n      <td>95.551547</td>\n      <td>7617.0</td>\n      <td>2.918951</td>\n      <td>12659.0</td>\n      <td>2.277386</td>\n      <td>12625.0</td>\n    </tr>\n    <tr>\n      <th>70</th>\n      <td>Net Electricity</td>\n      <td>kWh</td>\n      <td>mean</td>\n      <td>all</td>\n      <td>Jun</td>\n      <td>2021</td>\n      <td>None</td>\n      <td>None</td>\n      <td>7.512</td>\n      <td>11803.0</td>\n      <td>...</td>\n      <td>15.538</td>\n      <td>1.412</td>\n      <td>3.0</td>\n      <td>both</td>\n      <td>95.551547</td>\n      <td>7617.0</td>\n      <td>2.918951</td>\n      <td>12659.0</td>\n      <td>2.277386</td>\n      <td>12625.0</td>\n    </tr>\n    <tr>\n      <th>80</th>\n      <td>Net Electricity</td>\n      <td>kWh</td>\n      <td>mean</td>\n      <td>all</td>\n      <td>Jul</td>\n      <td>2021</td>\n      <td>None</td>\n      <td>None</td>\n      <td>7.451</td>\n      <td>11825.0</td>\n      <td>...</td>\n      <td>17.414</td>\n      <td>0.484</td>\n      <td>3.0</td>\n      <td>both</td>\n      <td>95.551547</td>\n      <td>7617.0</td>\n      <td>2.918951</td>\n      <td>12659.0</td>\n      <td>2.277386</td>\n      <td>12625.0</td>\n    </tr>\n    <tr>\n      <th>90</th>\n      <td>Net Electricity</td>\n      <td>kWh</td>\n      <td>mean</td>\n      <td>all</td>\n      <td>Aug</td>\n      <td>2021</td>\n      <td>None</td>\n      <td>None</td>\n      <td>7.575</td>\n      <td>11605.0</td>\n      <td>...</td>\n      <td>15.880</td>\n      <td>0.802</td>\n      <td>3.0</td>\n      <td>both</td>\n      <td>95.551547</td>\n      <td>7617.0</td>\n      <td>2.918951</td>\n      <td>12659.0</td>\n      <td>2.277386</td>\n      <td>12625.0</td>\n    </tr>\n    <tr>\n      <th>100</th>\n      <td>Net Electricity</td>\n      <td>kWh</td>\n      <td>mean</td>\n      <td>all</td>\n      <td>Sep</td>\n      <td>2021</td>\n      <td>None</td>\n      <td>None</td>\n      <td>7.692</td>\n      <td>11663.0</td>\n      <td>...</td>\n      <td>15.811</td>\n      <td>1.146</td>\n      <td>3.0</td>\n      <td>both</td>\n      <td>95.551547</td>\n      <td>7617.0</td>\n      <td>2.918951</td>\n      <td>12659.0</td>\n      <td>2.277386</td>\n      <td>12625.0</td>\n    </tr>\n    <tr>\n      <th>110</th>\n      <td>Net Electricity</td>\n      <td>kWh</td>\n      <td>mean</td>\n      <td>all</td>\n      <td>Oct</td>\n      <td>2021</td>\n      <td>None</td>\n      <td>None</td>\n      <td>8.903</td>\n      <td>11774.0</td>\n      <td>...</td>\n      <td>12.237</td>\n      <td>3.478</td>\n      <td>3.0</td>\n      <td>both</td>\n      <td>95.551547</td>\n      <td>7617.0</td>\n      <td>2.918951</td>\n      <td>12659.0</td>\n      <td>2.277386</td>\n      <td>12625.0</td>\n    </tr>\n    <tr>\n      <th>120</th>\n      <td>Net Electricity</td>\n      <td>kWh</td>\n      <td>mean</td>\n      <td>all</td>\n      <td>Nov</td>\n      <td>2021</td>\n      <td>None</td>\n      <td>None</td>\n      <td>10.396</td>\n      <td>11547.0</td>\n      <td>...</td>\n      <td>7.920</td>\n      <td>7.624</td>\n      <td>3.0</td>\n      <td>both</td>\n      <td>95.551547</td>\n      <td>7617.0</td>\n      <td>2.918951</td>\n      <td>12659.0</td>\n      <td>2.277386</td>\n      <td>12625.0</td>\n    </tr>\n    <tr>\n      <th>130</th>\n      <td>Net Electricity</td>\n      <td>kWh</td>\n      <td>mean</td>\n      <td>all</td>\n      <td>Dec</td>\n      <td>2021</td>\n      <td>None</td>\n      <td>None</td>\n      <td>11.540</td>\n      <td>11683.0</td>\n      <td>...</td>\n      <td>6.806</td>\n      <td>8.761</td>\n      <td>3.0</td>\n      <td>both</td>\n      <td>95.551547</td>\n      <td>7617.0</td>\n      <td>2.918951</td>\n      <td>12659.0</td>\n      <td>2.277386</td>\n      <td>12625.0</td>\n    </tr>\n    <tr>\n      <th>1120</th>\n      <td>Net Electricity</td>\n      <td>kWh</td>\n      <td>mean</td>\n      <td>all</td>\n      <td>Jan</td>\n      <td>2020</td>\n      <td>None</td>\n      <td>None</td>\n      <td>12.227</td>\n      <td>4050.0</td>\n      <td>...</td>\n      <td>6.707</td>\n      <td>8.738</td>\n      <td>3.0</td>\n      <td>both</td>\n      <td>95.551547</td>\n      <td>7617.0</td>\n      <td>2.918951</td>\n      <td>12659.0</td>\n      <td>2.277386</td>\n      <td>12625.0</td>\n    </tr>\n    <tr>\n      <th>1130</th>\n      <td>Net Electricity</td>\n      <td>kWh</td>\n      <td>mean</td>\n      <td>all</td>\n      <td>Feb</td>\n      <td>2020</td>\n      <td>None</td>\n      <td>None</td>\n      <td>11.858</td>\n      <td>7324.0</td>\n      <td>...</td>\n      <td>6.705</td>\n      <td>8.754</td>\n      <td>3.0</td>\n      <td>both</td>\n      <td>95.551547</td>\n      <td>7617.0</td>\n      <td>2.918951</td>\n      <td>12659.0</td>\n      <td>2.277386</td>\n      <td>12625.0</td>\n    </tr>\n    <tr>\n      <th>1140</th>\n      <td>Net Electricity</td>\n      <td>kWh</td>\n      <td>mean</td>\n      <td>all</td>\n      <td>Mar</td>\n      <td>2020</td>\n      <td>None</td>\n      <td>None</td>\n      <td>11.438</td>\n      <td>8627.0</td>\n      <td>...</td>\n      <td>6.699</td>\n      <td>8.730</td>\n      <td>3.0</td>\n      <td>both</td>\n      <td>95.551547</td>\n      <td>7617.0</td>\n      <td>2.918951</td>\n      <td>12659.0</td>\n      <td>2.277386</td>\n      <td>12625.0</td>\n    </tr>\n    <tr>\n      <th>1150</th>\n      <td>Net Electricity</td>\n      <td>kWh</td>\n      <td>mean</td>\n      <td>all</td>\n      <td>Apr</td>\n      <td>2020</td>\n      <td>None</td>\n      <td>None</td>\n      <td>10.141</td>\n      <td>8744.0</td>\n      <td>...</td>\n      <td>10.261</td>\n      <td>5.499</td>\n      <td>3.0</td>\n      <td>both</td>\n      <td>95.551547</td>\n      <td>7617.0</td>\n      <td>2.918951</td>\n      <td>12659.0</td>\n      <td>2.277386</td>\n      <td>12625.0</td>\n    </tr>\n    <tr>\n      <th>1160</th>\n      <td>Net Electricity</td>\n      <td>kWh</td>\n      <td>mean</td>\n      <td>all</td>\n      <td>May</td>\n      <td>2020</td>\n      <td>None</td>\n      <td>None</td>\n      <td>9.192</td>\n      <td>9459.0</td>\n      <td>...</td>\n      <td>12.689</td>\n      <td>3.853</td>\n      <td>3.0</td>\n      <td>both</td>\n      <td>95.551547</td>\n      <td>7617.0</td>\n      <td>2.918951</td>\n      <td>12659.0</td>\n      <td>2.277386</td>\n      <td>12625.0</td>\n    </tr>\n    <tr>\n      <th>1170</th>\n      <td>Net Electricity</td>\n      <td>kWh</td>\n      <td>mean</td>\n      <td>all</td>\n      <td>Jun</td>\n      <td>2020</td>\n      <td>None</td>\n      <td>None</td>\n      <td>8.920</td>\n      <td>9528.0</td>\n      <td>...</td>\n      <td>15.060</td>\n      <td>1.804</td>\n      <td>3.0</td>\n      <td>both</td>\n      <td>95.551547</td>\n      <td>7617.0</td>\n      <td>2.918951</td>\n      <td>12659.0</td>\n      <td>2.277386</td>\n      <td>12625.0</td>\n    </tr>\n    <tr>\n      <th>1180</th>\n      <td>Net Electricity</td>\n      <td>kWh</td>\n      <td>mean</td>\n      <td>all</td>\n      <td>Jul</td>\n      <td>2020</td>\n      <td>None</td>\n      <td>None</td>\n      <td>8.577</td>\n      <td>9790.0</td>\n      <td>...</td>\n      <td>15.866</td>\n      <td>1.140</td>\n      <td>3.0</td>\n      <td>both</td>\n      <td>95.551547</td>\n      <td>7617.0</td>\n      <td>2.918951</td>\n      <td>12659.0</td>\n      <td>2.277386</td>\n      <td>12625.0</td>\n    </tr>\n    <tr>\n      <th>1190</th>\n      <td>Net Electricity</td>\n      <td>kWh</td>\n      <td>mean</td>\n      <td>all</td>\n      <td>Aug</td>\n      <td>2020</td>\n      <td>None</td>\n      <td>None</td>\n      <td>8.468</td>\n      <td>10235.0</td>\n      <td>...</td>\n      <td>17.369</td>\n      <td>0.756</td>\n      <td>3.0</td>\n      <td>both</td>\n      <td>95.551547</td>\n      <td>7617.0</td>\n      <td>2.918951</td>\n      <td>12659.0</td>\n      <td>2.277386</td>\n      <td>12625.0</td>\n    </tr>\n    <tr>\n      <th>1200</th>\n      <td>Net Electricity</td>\n      <td>kWh</td>\n      <td>mean</td>\n      <td>all</td>\n      <td>Sep</td>\n      <td>2020</td>\n      <td>None</td>\n      <td>None</td>\n      <td>8.809</td>\n      <td>10769.0</td>\n      <td>...</td>\n      <td>14.238</td>\n      <td>2.274</td>\n      <td>3.0</td>\n      <td>both</td>\n      <td>95.551547</td>\n      <td>7617.0</td>\n      <td>2.918951</td>\n      <td>12659.0</td>\n      <td>2.277386</td>\n      <td>12625.0</td>\n    </tr>\n    <tr>\n      <th>1210</th>\n      <td>Net Electricity</td>\n      <td>kWh</td>\n      <td>mean</td>\n      <td>all</td>\n      <td>Oct</td>\n      <td>2020</td>\n      <td>None</td>\n      <td>None</td>\n      <td>10.517</td>\n      <td>11164.0</td>\n      <td>...</td>\n      <td>10.686</td>\n      <td>4.813</td>\n      <td>3.0</td>\n      <td>both</td>\n      <td>95.551547</td>\n      <td>7617.0</td>\n      <td>2.918951</td>\n      <td>12659.0</td>\n      <td>2.277386</td>\n      <td>12625.0</td>\n    </tr>\n    <tr>\n      <th>1220</th>\n      <td>Net Electricity</td>\n      <td>kWh</td>\n      <td>mean</td>\n      <td>all</td>\n      <td>Nov</td>\n      <td>2020</td>\n      <td>None</td>\n      <td>None</td>\n      <td>11.718</td>\n      <td>11419.0</td>\n      <td>...</td>\n      <td>9.018</td>\n      <td>6.585</td>\n      <td>3.0</td>\n      <td>both</td>\n      <td>95.551547</td>\n      <td>7617.0</td>\n      <td>2.918951</td>\n      <td>12659.0</td>\n      <td>2.277386</td>\n      <td>12625.0</td>\n    </tr>\n    <tr>\n      <th>1230</th>\n      <td>Net Electricity</td>\n      <td>kWh</td>\n      <td>mean</td>\n      <td>all</td>\n      <td>Dec</td>\n      <td>2020</td>\n      <td>None</td>\n      <td>None</td>\n      <td>13.231</td>\n      <td>11871.0</td>\n      <td>...</td>\n      <td>5.576</td>\n      <td>9.984</td>\n      <td>3.0</td>\n      <td>both</td>\n      <td>95.551547</td>\n      <td>7617.0</td>\n      <td>2.918951</td>\n      <td>12659.0</td>\n      <td>2.277386</td>\n      <td>12625.0</td>\n    </tr>\n  </tbody>\n</table>\n<p>24 rows × 21 columns</p>\n</div>"
     },
     "execution_count": 98,
     "metadata": {},
     "output_type": "execute_result"
    }
   ],
   "source": [
    "def select_fuel(dataframe, fuel):\n",
    "    return dataframe.loc[dataframe['fuel'] == fuel]\n",
    "\n",
    "temp = select_fuel(dataframe=temp, fuel='Net Electricity')\n",
    "temp"
   ],
   "metadata": {
    "collapsed": false,
    "pycharm": {
     "name": "#%%\n"
    }
   }
  },
  {
   "cell_type": "code",
   "execution_count": 99,
   "outputs": [
    {
     "data": {
      "text/plain": "                  fuel unit summary_stat subsample summary_time time_period  \\\n76010  Net Electricity  kWh         mean       all         2021        2021   \n76015              Gas  kWh         mean       all         2021        2021   \n77230  Net Electricity  kWh         mean       all         2021        2021   \n77235              Gas  kWh         mean       all         2021        2021   \n78450  Net Electricity  kWh         mean       all         2021        2021   \n78455              Gas  kWh         mean       all         2021        2021   \n79670  Net Electricity  kWh         mean       all         2021        2021   \n79675              Gas  kWh         mean       all         2021        2021   \n80890  Net Electricity  kWh         mean       all         2021        2021   \n80895              Gas  kWh         mean       all         2021        2021   \n82110  Net Electricity  kWh         mean       all         2021        2021   \n82115              Gas  kWh         mean       all         2021        2021   \n83330  Net Electricity  kWh         mean       all         2021        2021   \n83335              Gas  kWh         mean       all         2021        2021   \n84550  Net Electricity  kWh         mean       all         2021        2021   \n84555              Gas  kWh         mean       all         2021        2021   \n85770  Net Electricity  kWh         mean       all         2021        2021   \n85775              Gas  kWh         mean       all         2021        2021   \n86990  Net Electricity  kWh         mean       all         2021        2021   \n86995              Gas  kWh         mean       all         2021        2021   \n88210  Net Electricity  kWh         mean       all         2021        2021   \n88215              Gas  kWh         mean       all         2021        2021   \n\n      segmentation_variable_1  segment_1_value   value  n_sample  ...  \\\n76010                  Region    WEST MIDLANDS   9.254     954.0  ...   \n76015                  Region    WEST MIDLANDS  38.079     771.0  ...   \n77230                  Region    EAST MIDLANDS   9.505     762.0  ...   \n77235                  Region    EAST MIDLANDS  39.779     657.0  ...   \n78450                  Region       SOUTH WEST   9.657     974.0  ...   \n78455                  Region       SOUTH WEST  33.112     692.0  ...   \n79670                  Region   GREATER LONDON  10.291    1403.0  ...   \n79675                  Region   GREATER LONDON  41.931     941.0  ...   \n80890                  Region       NORTH EAST   8.876     396.0  ...   \n80895                  Region       NORTH EAST  37.421     301.0  ...   \n82110                  Region       SOUTH EAST  10.523    1425.0  ...   \n82115                  Region       SOUTH EAST  40.572    1068.0  ...   \n83330                  Region         SCOTLAND   9.838    1010.0  ...   \n83335                  Region         SCOTLAND  38.743     574.0  ...   \n84550                  Region       NORTH WEST   9.702    1312.0  ...   \n84555                  Region       NORTH WEST  38.983    1043.0  ...   \n85770                  Region  EAST OF ENGLAND  10.351     969.0  ...   \n85775                  Region  EAST OF ENGLAND  39.377     718.0  ...   \n86990                  Region            WALES   9.223     655.0  ...   \n86995                  Region            WALES  35.432     506.0  ...   \n88210                  Region        YORKSHIRE   9.480     904.0  ...   \n88215                  Region        YORKSHIRE  38.193     691.0  ...   \n\n       mean_temp  mean_hdd  decimal_places  weekday_weekend mean_floor_area  \\\n76010     10.382     5.814             3.0             both       92.125174   \n76015     10.378     5.817             3.0             both       92.125174   \n77230     10.350     5.815             3.0             both       92.367041   \n77235     10.343     5.822             3.0             both       92.367041   \n78450     11.063     5.036             3.0             both       99.568821   \n78455     11.079     5.017             3.0             both       99.568821   \n79670     10.691     5.604             3.0             both       88.502219   \n79675     10.695     5.599             3.0             both       88.502219   \n80890      9.794     6.170             3.0             both       93.089574   \n80895      9.801     6.168             3.0             both       93.089574   \n82110     10.974     5.202             3.0             both       99.512162   \n82115     10.979     5.199             3.0             both       99.512162   \n83330      8.978     6.855             3.0             both       99.413669   \n83335      8.982     6.862             3.0             both       99.413669   \n84550     10.091     5.976             3.0             both       97.560239   \n84555     10.133     5.940             3.0             both       97.560239   \n85770     10.696     5.500             3.0             both       94.337100   \n85775     10.706     5.497             3.0             both       94.337100   \n86990     10.717     5.373             3.0             both       99.676574   \n86995     10.771     5.324             3.0             both       99.676574   \n88210      9.888     6.160             3.0             both       95.686037   \n88215      9.917     6.136             3.0             both       95.686037   \n\n       n_mean_floor_area  mean_bedrooms  n_mean_bedrooms  mean_occupants  \\\n76010              661.0       2.940860           1116.0        2.254937   \n76015              661.0       2.940860           1116.0        2.254937   \n77230              535.0       2.937430            895.0        2.181411   \n77235              535.0       2.937430            895.0        2.181411   \n78450              704.0       3.022422           1115.0        2.296396   \n78455              704.0       3.022422           1115.0        2.296396   \n79670             1056.0       2.702638           1668.0        2.503280   \n79675             1056.0       2.702638           1668.0        2.503280   \n80890              298.0       2.891892            481.0        2.075000   \n80895              298.0       2.891892            481.0        2.075000   \n82110             1009.0       3.019394           1650.0        2.289731   \n82115             1009.0       3.019394           1650.0        2.289731   \n83330              556.0       2.762021           1227.0        2.127555   \n83335              556.0       2.762021           1227.0        2.127555   \n84550              927.0       2.967953           1529.0        2.267717   \n84555              927.0       2.967953           1529.0        2.267717   \n85770              672.0       2.937843           1094.0        2.303003   \n85775              672.0       2.937843           1094.0        2.303003   \n86990              493.0       3.033875            738.0        2.293716   \n86995              493.0       3.033875            738.0        2.293716   \n88210              706.0       2.974695           1146.0        2.229551   \n88215              706.0       2.974695           1146.0        2.229551   \n\n       n_mean_occupants  \n76010            1114.0  \n76015            1114.0  \n77230             893.0  \n77235             893.0  \n78450            1110.0  \n78455            1110.0  \n79670            1677.0  \n79675            1677.0  \n80890             480.0  \n80895             480.0  \n82110            1636.0  \n82115            1636.0  \n83330            1223.0  \n83335            1223.0  \n84550            1524.0  \n84555            1524.0  \n85770            1099.0  \n85775            1099.0  \n86990             732.0  \n86995             732.0  \n88210            1137.0  \n88215            1137.0  \n\n[22 rows x 21 columns]",
      "text/html": "<div>\n<style scoped>\n    .dataframe tbody tr th:only-of-type {\n        vertical-align: middle;\n    }\n\n    .dataframe tbody tr th {\n        vertical-align: top;\n    }\n\n    .dataframe thead th {\n        text-align: right;\n    }\n</style>\n<table border=\"1\" class=\"dataframe\">\n  <thead>\n    <tr style=\"text-align: right;\">\n      <th></th>\n      <th>fuel</th>\n      <th>unit</th>\n      <th>summary_stat</th>\n      <th>subsample</th>\n      <th>summary_time</th>\n      <th>time_period</th>\n      <th>segmentation_variable_1</th>\n      <th>segment_1_value</th>\n      <th>value</th>\n      <th>n_sample</th>\n      <th>...</th>\n      <th>mean_temp</th>\n      <th>mean_hdd</th>\n      <th>decimal_places</th>\n      <th>weekday_weekend</th>\n      <th>mean_floor_area</th>\n      <th>n_mean_floor_area</th>\n      <th>mean_bedrooms</th>\n      <th>n_mean_bedrooms</th>\n      <th>mean_occupants</th>\n      <th>n_mean_occupants</th>\n    </tr>\n  </thead>\n  <tbody>\n    <tr>\n      <th>76010</th>\n      <td>Net Electricity</td>\n      <td>kWh</td>\n      <td>mean</td>\n      <td>all</td>\n      <td>2021</td>\n      <td>2021</td>\n      <td>Region</td>\n      <td>WEST MIDLANDS</td>\n      <td>9.254</td>\n      <td>954.0</td>\n      <td>...</td>\n      <td>10.382</td>\n      <td>5.814</td>\n      <td>3.0</td>\n      <td>both</td>\n      <td>92.125174</td>\n      <td>661.0</td>\n      <td>2.940860</td>\n      <td>1116.0</td>\n      <td>2.254937</td>\n      <td>1114.0</td>\n    </tr>\n    <tr>\n      <th>76015</th>\n      <td>Gas</td>\n      <td>kWh</td>\n      <td>mean</td>\n      <td>all</td>\n      <td>2021</td>\n      <td>2021</td>\n      <td>Region</td>\n      <td>WEST MIDLANDS</td>\n      <td>38.079</td>\n      <td>771.0</td>\n      <td>...</td>\n      <td>10.378</td>\n      <td>5.817</td>\n      <td>3.0</td>\n      <td>both</td>\n      <td>92.125174</td>\n      <td>661.0</td>\n      <td>2.940860</td>\n      <td>1116.0</td>\n      <td>2.254937</td>\n      <td>1114.0</td>\n    </tr>\n    <tr>\n      <th>77230</th>\n      <td>Net Electricity</td>\n      <td>kWh</td>\n      <td>mean</td>\n      <td>all</td>\n      <td>2021</td>\n      <td>2021</td>\n      <td>Region</td>\n      <td>EAST MIDLANDS</td>\n      <td>9.505</td>\n      <td>762.0</td>\n      <td>...</td>\n      <td>10.350</td>\n      <td>5.815</td>\n      <td>3.0</td>\n      <td>both</td>\n      <td>92.367041</td>\n      <td>535.0</td>\n      <td>2.937430</td>\n      <td>895.0</td>\n      <td>2.181411</td>\n      <td>893.0</td>\n    </tr>\n    <tr>\n      <th>77235</th>\n      <td>Gas</td>\n      <td>kWh</td>\n      <td>mean</td>\n      <td>all</td>\n      <td>2021</td>\n      <td>2021</td>\n      <td>Region</td>\n      <td>EAST MIDLANDS</td>\n      <td>39.779</td>\n      <td>657.0</td>\n      <td>...</td>\n      <td>10.343</td>\n      <td>5.822</td>\n      <td>3.0</td>\n      <td>both</td>\n      <td>92.367041</td>\n      <td>535.0</td>\n      <td>2.937430</td>\n      <td>895.0</td>\n      <td>2.181411</td>\n      <td>893.0</td>\n    </tr>\n    <tr>\n      <th>78450</th>\n      <td>Net Electricity</td>\n      <td>kWh</td>\n      <td>mean</td>\n      <td>all</td>\n      <td>2021</td>\n      <td>2021</td>\n      <td>Region</td>\n      <td>SOUTH WEST</td>\n      <td>9.657</td>\n      <td>974.0</td>\n      <td>...</td>\n      <td>11.063</td>\n      <td>5.036</td>\n      <td>3.0</td>\n      <td>both</td>\n      <td>99.568821</td>\n      <td>704.0</td>\n      <td>3.022422</td>\n      <td>1115.0</td>\n      <td>2.296396</td>\n      <td>1110.0</td>\n    </tr>\n    <tr>\n      <th>78455</th>\n      <td>Gas</td>\n      <td>kWh</td>\n      <td>mean</td>\n      <td>all</td>\n      <td>2021</td>\n      <td>2021</td>\n      <td>Region</td>\n      <td>SOUTH WEST</td>\n      <td>33.112</td>\n      <td>692.0</td>\n      <td>...</td>\n      <td>11.079</td>\n      <td>5.017</td>\n      <td>3.0</td>\n      <td>both</td>\n      <td>99.568821</td>\n      <td>704.0</td>\n      <td>3.022422</td>\n      <td>1115.0</td>\n      <td>2.296396</td>\n      <td>1110.0</td>\n    </tr>\n    <tr>\n      <th>79670</th>\n      <td>Net Electricity</td>\n      <td>kWh</td>\n      <td>mean</td>\n      <td>all</td>\n      <td>2021</td>\n      <td>2021</td>\n      <td>Region</td>\n      <td>GREATER LONDON</td>\n      <td>10.291</td>\n      <td>1403.0</td>\n      <td>...</td>\n      <td>10.691</td>\n      <td>5.604</td>\n      <td>3.0</td>\n      <td>both</td>\n      <td>88.502219</td>\n      <td>1056.0</td>\n      <td>2.702638</td>\n      <td>1668.0</td>\n      <td>2.503280</td>\n      <td>1677.0</td>\n    </tr>\n    <tr>\n      <th>79675</th>\n      <td>Gas</td>\n      <td>kWh</td>\n      <td>mean</td>\n      <td>all</td>\n      <td>2021</td>\n      <td>2021</td>\n      <td>Region</td>\n      <td>GREATER LONDON</td>\n      <td>41.931</td>\n      <td>941.0</td>\n      <td>...</td>\n      <td>10.695</td>\n      <td>5.599</td>\n      <td>3.0</td>\n      <td>both</td>\n      <td>88.502219</td>\n      <td>1056.0</td>\n      <td>2.702638</td>\n      <td>1668.0</td>\n      <td>2.503280</td>\n      <td>1677.0</td>\n    </tr>\n    <tr>\n      <th>80890</th>\n      <td>Net Electricity</td>\n      <td>kWh</td>\n      <td>mean</td>\n      <td>all</td>\n      <td>2021</td>\n      <td>2021</td>\n      <td>Region</td>\n      <td>NORTH EAST</td>\n      <td>8.876</td>\n      <td>396.0</td>\n      <td>...</td>\n      <td>9.794</td>\n      <td>6.170</td>\n      <td>3.0</td>\n      <td>both</td>\n      <td>93.089574</td>\n      <td>298.0</td>\n      <td>2.891892</td>\n      <td>481.0</td>\n      <td>2.075000</td>\n      <td>480.0</td>\n    </tr>\n    <tr>\n      <th>80895</th>\n      <td>Gas</td>\n      <td>kWh</td>\n      <td>mean</td>\n      <td>all</td>\n      <td>2021</td>\n      <td>2021</td>\n      <td>Region</td>\n      <td>NORTH EAST</td>\n      <td>37.421</td>\n      <td>301.0</td>\n      <td>...</td>\n      <td>9.801</td>\n      <td>6.168</td>\n      <td>3.0</td>\n      <td>both</td>\n      <td>93.089574</td>\n      <td>298.0</td>\n      <td>2.891892</td>\n      <td>481.0</td>\n      <td>2.075000</td>\n      <td>480.0</td>\n    </tr>\n    <tr>\n      <th>82110</th>\n      <td>Net Electricity</td>\n      <td>kWh</td>\n      <td>mean</td>\n      <td>all</td>\n      <td>2021</td>\n      <td>2021</td>\n      <td>Region</td>\n      <td>SOUTH EAST</td>\n      <td>10.523</td>\n      <td>1425.0</td>\n      <td>...</td>\n      <td>10.974</td>\n      <td>5.202</td>\n      <td>3.0</td>\n      <td>both</td>\n      <td>99.512162</td>\n      <td>1009.0</td>\n      <td>3.019394</td>\n      <td>1650.0</td>\n      <td>2.289731</td>\n      <td>1636.0</td>\n    </tr>\n    <tr>\n      <th>82115</th>\n      <td>Gas</td>\n      <td>kWh</td>\n      <td>mean</td>\n      <td>all</td>\n      <td>2021</td>\n      <td>2021</td>\n      <td>Region</td>\n      <td>SOUTH EAST</td>\n      <td>40.572</td>\n      <td>1068.0</td>\n      <td>...</td>\n      <td>10.979</td>\n      <td>5.199</td>\n      <td>3.0</td>\n      <td>both</td>\n      <td>99.512162</td>\n      <td>1009.0</td>\n      <td>3.019394</td>\n      <td>1650.0</td>\n      <td>2.289731</td>\n      <td>1636.0</td>\n    </tr>\n    <tr>\n      <th>83330</th>\n      <td>Net Electricity</td>\n      <td>kWh</td>\n      <td>mean</td>\n      <td>all</td>\n      <td>2021</td>\n      <td>2021</td>\n      <td>Region</td>\n      <td>SCOTLAND</td>\n      <td>9.838</td>\n      <td>1010.0</td>\n      <td>...</td>\n      <td>8.978</td>\n      <td>6.855</td>\n      <td>3.0</td>\n      <td>both</td>\n      <td>99.413669</td>\n      <td>556.0</td>\n      <td>2.762021</td>\n      <td>1227.0</td>\n      <td>2.127555</td>\n      <td>1223.0</td>\n    </tr>\n    <tr>\n      <th>83335</th>\n      <td>Gas</td>\n      <td>kWh</td>\n      <td>mean</td>\n      <td>all</td>\n      <td>2021</td>\n      <td>2021</td>\n      <td>Region</td>\n      <td>SCOTLAND</td>\n      <td>38.743</td>\n      <td>574.0</td>\n      <td>...</td>\n      <td>8.982</td>\n      <td>6.862</td>\n      <td>3.0</td>\n      <td>both</td>\n      <td>99.413669</td>\n      <td>556.0</td>\n      <td>2.762021</td>\n      <td>1227.0</td>\n      <td>2.127555</td>\n      <td>1223.0</td>\n    </tr>\n    <tr>\n      <th>84550</th>\n      <td>Net Electricity</td>\n      <td>kWh</td>\n      <td>mean</td>\n      <td>all</td>\n      <td>2021</td>\n      <td>2021</td>\n      <td>Region</td>\n      <td>NORTH WEST</td>\n      <td>9.702</td>\n      <td>1312.0</td>\n      <td>...</td>\n      <td>10.091</td>\n      <td>5.976</td>\n      <td>3.0</td>\n      <td>both</td>\n      <td>97.560239</td>\n      <td>927.0</td>\n      <td>2.967953</td>\n      <td>1529.0</td>\n      <td>2.267717</td>\n      <td>1524.0</td>\n    </tr>\n    <tr>\n      <th>84555</th>\n      <td>Gas</td>\n      <td>kWh</td>\n      <td>mean</td>\n      <td>all</td>\n      <td>2021</td>\n      <td>2021</td>\n      <td>Region</td>\n      <td>NORTH WEST</td>\n      <td>38.983</td>\n      <td>1043.0</td>\n      <td>...</td>\n      <td>10.133</td>\n      <td>5.940</td>\n      <td>3.0</td>\n      <td>both</td>\n      <td>97.560239</td>\n      <td>927.0</td>\n      <td>2.967953</td>\n      <td>1529.0</td>\n      <td>2.267717</td>\n      <td>1524.0</td>\n    </tr>\n    <tr>\n      <th>85770</th>\n      <td>Net Electricity</td>\n      <td>kWh</td>\n      <td>mean</td>\n      <td>all</td>\n      <td>2021</td>\n      <td>2021</td>\n      <td>Region</td>\n      <td>EAST OF ENGLAND</td>\n      <td>10.351</td>\n      <td>969.0</td>\n      <td>...</td>\n      <td>10.696</td>\n      <td>5.500</td>\n      <td>3.0</td>\n      <td>both</td>\n      <td>94.337100</td>\n      <td>672.0</td>\n      <td>2.937843</td>\n      <td>1094.0</td>\n      <td>2.303003</td>\n      <td>1099.0</td>\n    </tr>\n    <tr>\n      <th>85775</th>\n      <td>Gas</td>\n      <td>kWh</td>\n      <td>mean</td>\n      <td>all</td>\n      <td>2021</td>\n      <td>2021</td>\n      <td>Region</td>\n      <td>EAST OF ENGLAND</td>\n      <td>39.377</td>\n      <td>718.0</td>\n      <td>...</td>\n      <td>10.706</td>\n      <td>5.497</td>\n      <td>3.0</td>\n      <td>both</td>\n      <td>94.337100</td>\n      <td>672.0</td>\n      <td>2.937843</td>\n      <td>1094.0</td>\n      <td>2.303003</td>\n      <td>1099.0</td>\n    </tr>\n    <tr>\n      <th>86990</th>\n      <td>Net Electricity</td>\n      <td>kWh</td>\n      <td>mean</td>\n      <td>all</td>\n      <td>2021</td>\n      <td>2021</td>\n      <td>Region</td>\n      <td>WALES</td>\n      <td>9.223</td>\n      <td>655.0</td>\n      <td>...</td>\n      <td>10.717</td>\n      <td>5.373</td>\n      <td>3.0</td>\n      <td>both</td>\n      <td>99.676574</td>\n      <td>493.0</td>\n      <td>3.033875</td>\n      <td>738.0</td>\n      <td>2.293716</td>\n      <td>732.0</td>\n    </tr>\n    <tr>\n      <th>86995</th>\n      <td>Gas</td>\n      <td>kWh</td>\n      <td>mean</td>\n      <td>all</td>\n      <td>2021</td>\n      <td>2021</td>\n      <td>Region</td>\n      <td>WALES</td>\n      <td>35.432</td>\n      <td>506.0</td>\n      <td>...</td>\n      <td>10.771</td>\n      <td>5.324</td>\n      <td>3.0</td>\n      <td>both</td>\n      <td>99.676574</td>\n      <td>493.0</td>\n      <td>3.033875</td>\n      <td>738.0</td>\n      <td>2.293716</td>\n      <td>732.0</td>\n    </tr>\n    <tr>\n      <th>88210</th>\n      <td>Net Electricity</td>\n      <td>kWh</td>\n      <td>mean</td>\n      <td>all</td>\n      <td>2021</td>\n      <td>2021</td>\n      <td>Region</td>\n      <td>YORKSHIRE</td>\n      <td>9.480</td>\n      <td>904.0</td>\n      <td>...</td>\n      <td>9.888</td>\n      <td>6.160</td>\n      <td>3.0</td>\n      <td>both</td>\n      <td>95.686037</td>\n      <td>706.0</td>\n      <td>2.974695</td>\n      <td>1146.0</td>\n      <td>2.229551</td>\n      <td>1137.0</td>\n    </tr>\n    <tr>\n      <th>88215</th>\n      <td>Gas</td>\n      <td>kWh</td>\n      <td>mean</td>\n      <td>all</td>\n      <td>2021</td>\n      <td>2021</td>\n      <td>Region</td>\n      <td>YORKSHIRE</td>\n      <td>38.193</td>\n      <td>691.0</td>\n      <td>...</td>\n      <td>9.917</td>\n      <td>6.136</td>\n      <td>3.0</td>\n      <td>both</td>\n      <td>95.686037</td>\n      <td>706.0</td>\n      <td>2.974695</td>\n      <td>1146.0</td>\n      <td>2.229551</td>\n      <td>1137.0</td>\n    </tr>\n  </tbody>\n</table>\n<p>22 rows × 21 columns</p>\n</div>"
     },
     "execution_count": 99,
     "metadata": {},
     "output_type": "execute_result"
    }
   ],
   "source": [
    "dataset.loc[(dataset['segmentation_variable_1'] == 'Region')\n",
    "            & (dataset['summary_stat'] == 'mean')\n",
    "            & (dataset['summary_time'] == '2021')]"
   ],
   "metadata": {
    "collapsed": false,
    "pycharm": {
     "name": "#%%\n"
    }
   }
  },
  {
   "cell_type": "code",
   "execution_count": 107,
   "outputs": [
    {
     "data": {
      "text/plain": "                  fuel unit summary_stat subsample summary_time time_period  \\\n69910  Net Electricity  kWh         mean       all         2021        2021   \n70520  Net Electricity  kWh         mean       all         2020        2020   \n71130  Net Electricity  kWh         mean       all         2021        2021   \n71740  Net Electricity  kWh         mean       all         2020        2020   \n\n      segmentation_variable_1 segment_1_value   value  n_sample  ...  \\\n69910                  has_pv           False  10.081   10168.0  ...   \n70520                  has_pv           False  10.909    3614.0  ...   \n71130                  has_pv            True   5.417     596.0  ...   \n71740                  has_pv            True   5.915      90.0  ...   \n\n       mean_temp  mean_hdd  decimal_places  weekday_weekend mean_floor_area  \\\n69910     10.376     5.743             3.0             both       93.954067   \n70520     11.025     5.160             3.0             both       93.954067   \n71130     10.420     5.686             3.0             both      115.005969   \n71740     11.359     4.889             3.0             both      115.005969   \n\n       n_mean_floor_area  mean_bedrooms  n_mean_bedrooms  mean_occupants  \\\n69910             7039.0       2.893843          11888.0        2.276499   \n70520             7039.0       2.893843          11888.0        2.276499   \n71130              578.0       3.306096            771.0        2.291123   \n71740              578.0       3.306096            771.0        2.291123   \n\n       n_mean_occupants  \n69910           11859.0  \n70520           11859.0  \n71130             766.0  \n71740             766.0  \n\n[4 rows x 21 columns]",
      "text/html": "<div>\n<style scoped>\n    .dataframe tbody tr th:only-of-type {\n        vertical-align: middle;\n    }\n\n    .dataframe tbody tr th {\n        vertical-align: top;\n    }\n\n    .dataframe thead th {\n        text-align: right;\n    }\n</style>\n<table border=\"1\" class=\"dataframe\">\n  <thead>\n    <tr style=\"text-align: right;\">\n      <th></th>\n      <th>fuel</th>\n      <th>unit</th>\n      <th>summary_stat</th>\n      <th>subsample</th>\n      <th>summary_time</th>\n      <th>time_period</th>\n      <th>segmentation_variable_1</th>\n      <th>segment_1_value</th>\n      <th>value</th>\n      <th>n_sample</th>\n      <th>...</th>\n      <th>mean_temp</th>\n      <th>mean_hdd</th>\n      <th>decimal_places</th>\n      <th>weekday_weekend</th>\n      <th>mean_floor_area</th>\n      <th>n_mean_floor_area</th>\n      <th>mean_bedrooms</th>\n      <th>n_mean_bedrooms</th>\n      <th>mean_occupants</th>\n      <th>n_mean_occupants</th>\n    </tr>\n  </thead>\n  <tbody>\n    <tr>\n      <th>69910</th>\n      <td>Net Electricity</td>\n      <td>kWh</td>\n      <td>mean</td>\n      <td>all</td>\n      <td>2021</td>\n      <td>2021</td>\n      <td>has_pv</td>\n      <td>False</td>\n      <td>10.081</td>\n      <td>10168.0</td>\n      <td>...</td>\n      <td>10.376</td>\n      <td>5.743</td>\n      <td>3.0</td>\n      <td>both</td>\n      <td>93.954067</td>\n      <td>7039.0</td>\n      <td>2.893843</td>\n      <td>11888.0</td>\n      <td>2.276499</td>\n      <td>11859.0</td>\n    </tr>\n    <tr>\n      <th>70520</th>\n      <td>Net Electricity</td>\n      <td>kWh</td>\n      <td>mean</td>\n      <td>all</td>\n      <td>2020</td>\n      <td>2020</td>\n      <td>has_pv</td>\n      <td>False</td>\n      <td>10.909</td>\n      <td>3614.0</td>\n      <td>...</td>\n      <td>11.025</td>\n      <td>5.160</td>\n      <td>3.0</td>\n      <td>both</td>\n      <td>93.954067</td>\n      <td>7039.0</td>\n      <td>2.893843</td>\n      <td>11888.0</td>\n      <td>2.276499</td>\n      <td>11859.0</td>\n    </tr>\n    <tr>\n      <th>71130</th>\n      <td>Net Electricity</td>\n      <td>kWh</td>\n      <td>mean</td>\n      <td>all</td>\n      <td>2021</td>\n      <td>2021</td>\n      <td>has_pv</td>\n      <td>True</td>\n      <td>5.417</td>\n      <td>596.0</td>\n      <td>...</td>\n      <td>10.420</td>\n      <td>5.686</td>\n      <td>3.0</td>\n      <td>both</td>\n      <td>115.005969</td>\n      <td>578.0</td>\n      <td>3.306096</td>\n      <td>771.0</td>\n      <td>2.291123</td>\n      <td>766.0</td>\n    </tr>\n    <tr>\n      <th>71740</th>\n      <td>Net Electricity</td>\n      <td>kWh</td>\n      <td>mean</td>\n      <td>all</td>\n      <td>2020</td>\n      <td>2020</td>\n      <td>has_pv</td>\n      <td>True</td>\n      <td>5.915</td>\n      <td>90.0</td>\n      <td>...</td>\n      <td>11.359</td>\n      <td>4.889</td>\n      <td>3.0</td>\n      <td>both</td>\n      <td>115.005969</td>\n      <td>578.0</td>\n      <td>3.306096</td>\n      <td>771.0</td>\n      <td>2.291123</td>\n      <td>766.0</td>\n    </tr>\n  </tbody>\n</table>\n<p>4 rows × 21 columns</p>\n</div>"
     },
     "execution_count": 107,
     "metadata": {},
     "output_type": "execute_result"
    }
   ],
   "source": [
    "def get_pv_annual_data(dataframe, fuel, summary_stat):\n",
    "    pv_annual_data = dataframe.loc[(dataframe['segmentation_variable_1'] == 'has_pv')\n",
    "            & (dataframe['summary_stat'] == summary_stat)\n",
    "            & (dataframe['fuel'] == fuel)\n",
    "            & (dataframe['summary_time'] != 'heating_season_2019_2020')\n",
    "            & (dataframe['summary_time'] != 'heating_season_2020_2021')\n",
    "            & ((dataframe['summary_time'] == '2020') | (dataframe['summary_time'] == '2021'))\n",
    "            & (dataframe['mean_hdd'])]\n",
    "    return pv_annual_data\n",
    "\n",
    "def get_pv_heating_season_data(dataframe, fuel, summary_stat):\n",
    "    pv_heating_season_data = dataframe.loc[(dataframe['segmentation_variable_1'] == 'has_pv')\n",
    "            & (dataframe['summary_stat'] == summary_stat)\n",
    "            & (dataframe['fuel'] == fuel)\n",
    "            & ((dataframe['summary_time'] == 'heating_season_2019_2020')\n",
    "            | (dataframe['summary_time'] == 'heating_season_2020_2021'))\n",
    "            & (dataframe['summary_time'] != '2020')\n",
    "            & (dataframe['summary_time'] != '2021')\n",
    "            & (dataframe['mean_hdd'])]\n",
    "    return pv_heating_season_data\n",
    "\n",
    "def get_pv_monthly_data(dataframe, fuel, summary_stat):\n",
    "    pv_monthly_data = dataframe.loc[(dataframe['segmentation_variable_1'] == 'has_pv')\n",
    "            & (dataframe['summary_stat'] == summary_stat)\n",
    "            & (dataframe['fuel'] == fuel)\n",
    "            & (dataframe['summary_time'] != 'heating_season_2019_2020')\n",
    "            & (dataframe['summary_time'] != 'heating_season_2020_2021')\n",
    "            & (dataframe['summary_time'] != '2020')\n",
    "            & (dataframe['summary_time'] != '2021')\n",
    "            & (dataframe['mean_hdd'])]\n",
    "    return pv_monthly_data\n",
    "\n",
    "get_pv_annual_data(dataset, fuel='Net Electricity', summary_stat='mean')"
   ],
   "metadata": {
    "collapsed": false,
    "pycharm": {
     "name": "#%%\n"
    }
   }
  },
  {
   "cell_type": "code",
   "execution_count": 101,
   "outputs": [
    {
     "data": {
      "application/vnd.plotly.v1+json": {
       "data": [
        {
         "hovertemplate": "has_pv=False<br>year=2021<br>Month=%{x}<br>Consumption=%{y}<extra></extra>",
         "ids": [
          80.664,
          71.52199999999999,
          56.082,
          44.962,
          31.75,
          10.072,
          8.113,
          9.07,
          10.942,
          27.352,
          51.709,
          61.987
         ],
         "legendgroup": "False",
         "line": {
          "color": "#636efa",
          "dash": "solid"
         },
         "marker": {
          "symbol": "circle"
         },
         "mode": "lines",
         "name": "False",
         "orientation": "v",
         "showlegend": true,
         "x": [
          "Jan",
          "Feb",
          "Mar",
          "Apr",
          "May",
          "Jun",
          "Jul",
          "Aug",
          "Sep",
          "Oct",
          "Nov",
          "Dec"
         ],
         "xaxis": "x",
         "y": [
          80.664,
          71.52199999999999,
          56.082,
          44.962,
          31.75,
          10.072,
          8.113,
          9.07,
          10.942,
          27.352,
          51.709,
          61.987
         ],
         "yaxis": "y",
         "type": "scatter"
        },
        {
         "hovertemplate": "has_pv=True<br>year=2021<br>Month=%{x}<br>Consumption=%{y}<extra></extra>",
         "ids": [
          84.59100000000001,
          74.905,
          57.854,
          46.455,
          31.616,
          9.41,
          7.597,
          8.633,
          10.632,
          27.497,
          52.146,
          63.207
         ],
         "legendgroup": "True",
         "line": {
          "color": "#EF553B",
          "dash": "solid"
         },
         "marker": {
          "symbol": "circle"
         },
         "mode": "lines",
         "name": "True",
         "orientation": "v",
         "showlegend": true,
         "x": [
          "Jan",
          "Feb",
          "Mar",
          "Apr",
          "May",
          "Jun",
          "Jul",
          "Aug",
          "Sep",
          "Oct",
          "Nov",
          "Dec"
         ],
         "xaxis": "x",
         "y": [
          84.59100000000001,
          74.905,
          57.854,
          46.455,
          31.616,
          9.41,
          7.597,
          8.633,
          10.632,
          27.497,
          52.146,
          63.207
         ],
         "yaxis": "y",
         "type": "scatter"
        }
       ],
       "layout": {
        "template": {
         "data": {
          "histogram2dcontour": [
           {
            "type": "histogram2dcontour",
            "colorbar": {
             "outlinewidth": 0,
             "ticks": ""
            },
            "colorscale": [
             [
              0.0,
              "#0d0887"
             ],
             [
              0.1111111111111111,
              "#46039f"
             ],
             [
              0.2222222222222222,
              "#7201a8"
             ],
             [
              0.3333333333333333,
              "#9c179e"
             ],
             [
              0.4444444444444444,
              "#bd3786"
             ],
             [
              0.5555555555555556,
              "#d8576b"
             ],
             [
              0.6666666666666666,
              "#ed7953"
             ],
             [
              0.7777777777777778,
              "#fb9f3a"
             ],
             [
              0.8888888888888888,
              "#fdca26"
             ],
             [
              1.0,
              "#f0f921"
             ]
            ]
           }
          ],
          "choropleth": [
           {
            "type": "choropleth",
            "colorbar": {
             "outlinewidth": 0,
             "ticks": ""
            }
           }
          ],
          "histogram2d": [
           {
            "type": "histogram2d",
            "colorbar": {
             "outlinewidth": 0,
             "ticks": ""
            },
            "colorscale": [
             [
              0.0,
              "#0d0887"
             ],
             [
              0.1111111111111111,
              "#46039f"
             ],
             [
              0.2222222222222222,
              "#7201a8"
             ],
             [
              0.3333333333333333,
              "#9c179e"
             ],
             [
              0.4444444444444444,
              "#bd3786"
             ],
             [
              0.5555555555555556,
              "#d8576b"
             ],
             [
              0.6666666666666666,
              "#ed7953"
             ],
             [
              0.7777777777777778,
              "#fb9f3a"
             ],
             [
              0.8888888888888888,
              "#fdca26"
             ],
             [
              1.0,
              "#f0f921"
             ]
            ]
           }
          ],
          "heatmap": [
           {
            "type": "heatmap",
            "colorbar": {
             "outlinewidth": 0,
             "ticks": ""
            },
            "colorscale": [
             [
              0.0,
              "#0d0887"
             ],
             [
              0.1111111111111111,
              "#46039f"
             ],
             [
              0.2222222222222222,
              "#7201a8"
             ],
             [
              0.3333333333333333,
              "#9c179e"
             ],
             [
              0.4444444444444444,
              "#bd3786"
             ],
             [
              0.5555555555555556,
              "#d8576b"
             ],
             [
              0.6666666666666666,
              "#ed7953"
             ],
             [
              0.7777777777777778,
              "#fb9f3a"
             ],
             [
              0.8888888888888888,
              "#fdca26"
             ],
             [
              1.0,
              "#f0f921"
             ]
            ]
           }
          ],
          "heatmapgl": [
           {
            "type": "heatmapgl",
            "colorbar": {
             "outlinewidth": 0,
             "ticks": ""
            },
            "colorscale": [
             [
              0.0,
              "#0d0887"
             ],
             [
              0.1111111111111111,
              "#46039f"
             ],
             [
              0.2222222222222222,
              "#7201a8"
             ],
             [
              0.3333333333333333,
              "#9c179e"
             ],
             [
              0.4444444444444444,
              "#bd3786"
             ],
             [
              0.5555555555555556,
              "#d8576b"
             ],
             [
              0.6666666666666666,
              "#ed7953"
             ],
             [
              0.7777777777777778,
              "#fb9f3a"
             ],
             [
              0.8888888888888888,
              "#fdca26"
             ],
             [
              1.0,
              "#f0f921"
             ]
            ]
           }
          ],
          "contourcarpet": [
           {
            "type": "contourcarpet",
            "colorbar": {
             "outlinewidth": 0,
             "ticks": ""
            }
           }
          ],
          "contour": [
           {
            "type": "contour",
            "colorbar": {
             "outlinewidth": 0,
             "ticks": ""
            },
            "colorscale": [
             [
              0.0,
              "#0d0887"
             ],
             [
              0.1111111111111111,
              "#46039f"
             ],
             [
              0.2222222222222222,
              "#7201a8"
             ],
             [
              0.3333333333333333,
              "#9c179e"
             ],
             [
              0.4444444444444444,
              "#bd3786"
             ],
             [
              0.5555555555555556,
              "#d8576b"
             ],
             [
              0.6666666666666666,
              "#ed7953"
             ],
             [
              0.7777777777777778,
              "#fb9f3a"
             ],
             [
              0.8888888888888888,
              "#fdca26"
             ],
             [
              1.0,
              "#f0f921"
             ]
            ]
           }
          ],
          "surface": [
           {
            "type": "surface",
            "colorbar": {
             "outlinewidth": 0,
             "ticks": ""
            },
            "colorscale": [
             [
              0.0,
              "#0d0887"
             ],
             [
              0.1111111111111111,
              "#46039f"
             ],
             [
              0.2222222222222222,
              "#7201a8"
             ],
             [
              0.3333333333333333,
              "#9c179e"
             ],
             [
              0.4444444444444444,
              "#bd3786"
             ],
             [
              0.5555555555555556,
              "#d8576b"
             ],
             [
              0.6666666666666666,
              "#ed7953"
             ],
             [
              0.7777777777777778,
              "#fb9f3a"
             ],
             [
              0.8888888888888888,
              "#fdca26"
             ],
             [
              1.0,
              "#f0f921"
             ]
            ]
           }
          ],
          "mesh3d": [
           {
            "type": "mesh3d",
            "colorbar": {
             "outlinewidth": 0,
             "ticks": ""
            }
           }
          ],
          "scatter": [
           {
            "marker": {
             "line": {
              "color": "#283442"
             }
            },
            "type": "scatter"
           }
          ],
          "parcoords": [
           {
            "type": "parcoords",
            "line": {
             "colorbar": {
              "outlinewidth": 0,
              "ticks": ""
             }
            }
           }
          ],
          "scatterpolargl": [
           {
            "type": "scatterpolargl",
            "marker": {
             "colorbar": {
              "outlinewidth": 0,
              "ticks": ""
             }
            }
           }
          ],
          "bar": [
           {
            "error_x": {
             "color": "#f2f5fa"
            },
            "error_y": {
             "color": "#f2f5fa"
            },
            "marker": {
             "line": {
              "color": "rgb(17,17,17)",
              "width": 0.5
             },
             "pattern": {
              "fillmode": "overlay",
              "size": 10,
              "solidity": 0.2
             }
            },
            "type": "bar"
           }
          ],
          "scattergeo": [
           {
            "type": "scattergeo",
            "marker": {
             "colorbar": {
              "outlinewidth": 0,
              "ticks": ""
             }
            }
           }
          ],
          "scatterpolar": [
           {
            "type": "scatterpolar",
            "marker": {
             "colorbar": {
              "outlinewidth": 0,
              "ticks": ""
             }
            }
           }
          ],
          "histogram": [
           {
            "marker": {
             "pattern": {
              "fillmode": "overlay",
              "size": 10,
              "solidity": 0.2
             }
            },
            "type": "histogram"
           }
          ],
          "scattergl": [
           {
            "marker": {
             "line": {
              "color": "#283442"
             }
            },
            "type": "scattergl"
           }
          ],
          "scatter3d": [
           {
            "type": "scatter3d",
            "line": {
             "colorbar": {
              "outlinewidth": 0,
              "ticks": ""
             }
            },
            "marker": {
             "colorbar": {
              "outlinewidth": 0,
              "ticks": ""
             }
            }
           }
          ],
          "scattermapbox": [
           {
            "type": "scattermapbox",
            "marker": {
             "colorbar": {
              "outlinewidth": 0,
              "ticks": ""
             }
            }
           }
          ],
          "scatterternary": [
           {
            "type": "scatterternary",
            "marker": {
             "colorbar": {
              "outlinewidth": 0,
              "ticks": ""
             }
            }
           }
          ],
          "scattercarpet": [
           {
            "type": "scattercarpet",
            "marker": {
             "colorbar": {
              "outlinewidth": 0,
              "ticks": ""
             }
            }
           }
          ],
          "carpet": [
           {
            "aaxis": {
             "endlinecolor": "#A2B1C6",
             "gridcolor": "#506784",
             "linecolor": "#506784",
             "minorgridcolor": "#506784",
             "startlinecolor": "#A2B1C6"
            },
            "baxis": {
             "endlinecolor": "#A2B1C6",
             "gridcolor": "#506784",
             "linecolor": "#506784",
             "minorgridcolor": "#506784",
             "startlinecolor": "#A2B1C6"
            },
            "type": "carpet"
           }
          ],
          "table": [
           {
            "cells": {
             "fill": {
              "color": "#506784"
             },
             "line": {
              "color": "rgb(17,17,17)"
             }
            },
            "header": {
             "fill": {
              "color": "#2a3f5f"
             },
             "line": {
              "color": "rgb(17,17,17)"
             }
            },
            "type": "table"
           }
          ],
          "barpolar": [
           {
            "marker": {
             "line": {
              "color": "rgb(17,17,17)",
              "width": 0.5
             },
             "pattern": {
              "fillmode": "overlay",
              "size": 10,
              "solidity": 0.2
             }
            },
            "type": "barpolar"
           }
          ],
          "pie": [
           {
            "automargin": true,
            "type": "pie"
           }
          ]
         },
         "layout": {
          "autotypenumbers": "strict",
          "colorway": [
           "#636efa",
           "#EF553B",
           "#00cc96",
           "#ab63fa",
           "#FFA15A",
           "#19d3f3",
           "#FF6692",
           "#B6E880",
           "#FF97FF",
           "#FECB52"
          ],
          "font": {
           "color": "#f2f5fa"
          },
          "hovermode": "closest",
          "hoverlabel": {
           "align": "left"
          },
          "paper_bgcolor": "rgb(17,17,17)",
          "plot_bgcolor": "rgb(17,17,17)",
          "polar": {
           "bgcolor": "rgb(17,17,17)",
           "angularaxis": {
            "gridcolor": "#506784",
            "linecolor": "#506784",
            "ticks": ""
           },
           "radialaxis": {
            "gridcolor": "#506784",
            "linecolor": "#506784",
            "ticks": ""
           }
          },
          "ternary": {
           "bgcolor": "rgb(17,17,17)",
           "aaxis": {
            "gridcolor": "#506784",
            "linecolor": "#506784",
            "ticks": ""
           },
           "baxis": {
            "gridcolor": "#506784",
            "linecolor": "#506784",
            "ticks": ""
           },
           "caxis": {
            "gridcolor": "#506784",
            "linecolor": "#506784",
            "ticks": ""
           }
          },
          "coloraxis": {
           "colorbar": {
            "outlinewidth": 0,
            "ticks": ""
           }
          },
          "colorscale": {
           "sequential": [
            [
             0.0,
             "#0d0887"
            ],
            [
             0.1111111111111111,
             "#46039f"
            ],
            [
             0.2222222222222222,
             "#7201a8"
            ],
            [
             0.3333333333333333,
             "#9c179e"
            ],
            [
             0.4444444444444444,
             "#bd3786"
            ],
            [
             0.5555555555555556,
             "#d8576b"
            ],
            [
             0.6666666666666666,
             "#ed7953"
            ],
            [
             0.7777777777777778,
             "#fb9f3a"
            ],
            [
             0.8888888888888888,
             "#fdca26"
            ],
            [
             1.0,
             "#f0f921"
            ]
           ],
           "sequentialminus": [
            [
             0.0,
             "#0d0887"
            ],
            [
             0.1111111111111111,
             "#46039f"
            ],
            [
             0.2222222222222222,
             "#7201a8"
            ],
            [
             0.3333333333333333,
             "#9c179e"
            ],
            [
             0.4444444444444444,
             "#bd3786"
            ],
            [
             0.5555555555555556,
             "#d8576b"
            ],
            [
             0.6666666666666666,
             "#ed7953"
            ],
            [
             0.7777777777777778,
             "#fb9f3a"
            ],
            [
             0.8888888888888888,
             "#fdca26"
            ],
            [
             1.0,
             "#f0f921"
            ]
           ],
           "diverging": [
            [
             0,
             "#8e0152"
            ],
            [
             0.1,
             "#c51b7d"
            ],
            [
             0.2,
             "#de77ae"
            ],
            [
             0.3,
             "#f1b6da"
            ],
            [
             0.4,
             "#fde0ef"
            ],
            [
             0.5,
             "#f7f7f7"
            ],
            [
             0.6,
             "#e6f5d0"
            ],
            [
             0.7,
             "#b8e186"
            ],
            [
             0.8,
             "#7fbc41"
            ],
            [
             0.9,
             "#4d9221"
            ],
            [
             1,
             "#276419"
            ]
           ]
          },
          "xaxis": {
           "gridcolor": "#283442",
           "linecolor": "#506784",
           "ticks": "",
           "title": {
            "standoff": 15
           },
           "zerolinecolor": "#283442",
           "automargin": true,
           "zerolinewidth": 2
          },
          "yaxis": {
           "gridcolor": "#283442",
           "linecolor": "#506784",
           "ticks": "",
           "title": {
            "standoff": 15
           },
           "zerolinecolor": "#283442",
           "automargin": true,
           "zerolinewidth": 2
          },
          "scene": {
           "xaxis": {
            "backgroundcolor": "rgb(17,17,17)",
            "gridcolor": "#506784",
            "linecolor": "#506784",
            "showbackground": true,
            "ticks": "",
            "zerolinecolor": "#C8D4E3",
            "gridwidth": 2
           },
           "yaxis": {
            "backgroundcolor": "rgb(17,17,17)",
            "gridcolor": "#506784",
            "linecolor": "#506784",
            "showbackground": true,
            "ticks": "",
            "zerolinecolor": "#C8D4E3",
            "gridwidth": 2
           },
           "zaxis": {
            "backgroundcolor": "rgb(17,17,17)",
            "gridcolor": "#506784",
            "linecolor": "#506784",
            "showbackground": true,
            "ticks": "",
            "zerolinecolor": "#C8D4E3",
            "gridwidth": 2
           }
          },
          "shapedefaults": {
           "line": {
            "color": "#f2f5fa"
           }
          },
          "annotationdefaults": {
           "arrowcolor": "#f2f5fa",
           "arrowhead": 0,
           "arrowwidth": 1
          },
          "geo": {
           "bgcolor": "rgb(17,17,17)",
           "landcolor": "rgb(17,17,17)",
           "subunitcolor": "#506784",
           "showland": true,
           "showlakes": true,
           "lakecolor": "rgb(17,17,17)"
          },
          "title": {
           "x": 0.05
          },
          "updatemenudefaults": {
           "bgcolor": "#506784",
           "borderwidth": 0
          },
          "sliderdefaults": {
           "bgcolor": "#C8D4E3",
           "borderwidth": 1,
           "bordercolor": "rgb(17,17,17)",
           "tickwidth": 0
          },
          "mapbox": {
           "style": "dark"
          }
         }
        },
        "xaxis": {
         "anchor": "y",
         "domain": [
          0.0,
          1.0
         ],
         "title": {
          "text": "Month"
         },
         "showgrid": false
        },
        "yaxis": {
         "anchor": "x",
         "domain": [
          0.0,
          1.0
         ],
         "title": {
          "text": "Consumption"
         }
        },
        "legend": {
         "title": {
          "text": "has_pv"
         },
         "tracegroupgap": 0
        },
        "margin": {
         "t": 60
        },
        "updatemenus": [
         {
          "buttons": [
           {
            "args": [
             null,
             {
              "frame": {
               "duration": 500,
               "redraw": false
              },
              "mode": "immediate",
              "fromcurrent": true,
              "transition": {
               "duration": 500,
               "easing": "linear"
              }
             }
            ],
            "label": "&#9654;",
            "method": "animate"
           },
           {
            "args": [
             [
              null
             ],
             {
              "frame": {
               "duration": 0,
               "redraw": false
              },
              "mode": "immediate",
              "fromcurrent": true,
              "transition": {
               "duration": 0,
               "easing": "linear"
              }
             }
            ],
            "label": "&#9724;",
            "method": "animate"
           }
          ],
          "direction": "left",
          "pad": {
           "r": 10,
           "t": 70
          },
          "showactive": false,
          "type": "buttons",
          "x": 0.1,
          "xanchor": "right",
          "y": 0,
          "yanchor": "top"
         }
        ],
        "sliders": [
         {
          "active": 0,
          "currentvalue": {
           "prefix": "year="
          },
          "len": 0.9,
          "pad": {
           "b": 10,
           "t": 60
          },
          "steps": [
           {
            "args": [
             [
              "2021"
             ],
             {
              "frame": {
               "duration": 0,
               "redraw": false
              },
              "mode": "immediate",
              "fromcurrent": true,
              "transition": {
               "duration": 0,
               "easing": "linear"
              }
             }
            ],
            "label": "2021",
            "method": "animate"
           },
           {
            "args": [
             [
              "2020"
             ],
             {
              "frame": {
               "duration": 0,
               "redraw": false
              },
              "mode": "immediate",
              "fromcurrent": true,
              "transition": {
               "duration": 0,
               "easing": "linear"
              }
             }
            ],
            "label": "2020",
            "method": "animate"
           }
          ],
          "x": 0.1,
          "xanchor": "left",
          "y": 0,
          "yanchor": "top"
         }
        ]
       },
       "frames": [
        {
         "data": [
          {
           "hovertemplate": "has_pv=False<br>year=2021<br>Month=%{x}<br>Consumption=%{y}<extra></extra>",
           "ids": [
            80.664,
            71.52199999999999,
            56.082,
            44.962,
            31.75,
            10.072,
            8.113,
            9.07,
            10.942,
            27.352,
            51.709,
            61.987
           ],
           "legendgroup": "False",
           "line": {
            "color": "#636efa",
            "dash": "solid"
           },
           "marker": {
            "symbol": "circle"
           },
           "mode": "lines",
           "name": "False",
           "orientation": "v",
           "showlegend": true,
           "x": [
            "Jan",
            "Feb",
            "Mar",
            "Apr",
            "May",
            "Jun",
            "Jul",
            "Aug",
            "Sep",
            "Oct",
            "Nov",
            "Dec"
           ],
           "xaxis": "x",
           "y": [
            80.664,
            71.52199999999999,
            56.082,
            44.962,
            31.75,
            10.072,
            8.113,
            9.07,
            10.942,
            27.352,
            51.709,
            61.987
           ],
           "yaxis": "y",
           "type": "scatter"
          },
          {
           "hovertemplate": "has_pv=True<br>year=2021<br>Month=%{x}<br>Consumption=%{y}<extra></extra>",
           "ids": [
            84.59100000000001,
            74.905,
            57.854,
            46.455,
            31.616,
            9.41,
            7.597,
            8.633,
            10.632,
            27.497,
            52.146,
            63.207
           ],
           "legendgroup": "True",
           "line": {
            "color": "#EF553B",
            "dash": "solid"
           },
           "marker": {
            "symbol": "circle"
           },
           "mode": "lines",
           "name": "True",
           "orientation": "v",
           "showlegend": true,
           "x": [
            "Jan",
            "Feb",
            "Mar",
            "Apr",
            "May",
            "Jun",
            "Jul",
            "Aug",
            "Sep",
            "Oct",
            "Nov",
            "Dec"
           ],
           "xaxis": "x",
           "y": [
            84.59100000000001,
            74.905,
            57.854,
            46.455,
            31.616,
            9.41,
            7.597,
            8.633,
            10.632,
            27.497,
            52.146,
            63.207
           ],
           "yaxis": "y",
           "type": "scatter"
          }
         ],
         "name": "2021"
        },
        {
         "data": [
          {
           "hovertemplate": "has_pv=False<br>year=2020<br>Month=%{x}<br>Consumption=%{y}<extra></extra>",
           "ids": [
            63.617,
            64.229,
            55.873000000000005,
            28.568,
            18.502,
            12.390999999999998,
            10.29,
            9.194,
            15.519,
            38.207,
            49.817,
            69.687
           ],
           "legendgroup": "False",
           "line": {
            "color": "#636efa",
            "dash": "solid"
           },
           "marker": {
            "symbol": "circle"
           },
           "mode": "lines",
           "name": "False",
           "orientation": "v",
           "showlegend": true,
           "x": [
            "Jan",
            "Feb",
            "Mar",
            "Apr",
            "May",
            "Jun",
            "Jul",
            "Aug",
            "Sep",
            "Oct",
            "Nov",
            "Dec"
           ],
           "xaxis": "x",
           "y": [
            63.617,
            64.229,
            55.873000000000005,
            28.568,
            18.502,
            12.390999999999998,
            10.29,
            9.194,
            15.519,
            38.207,
            49.817,
            69.687
           ],
           "yaxis": "y",
           "type": "scatter"
          },
          {
           "hovertemplate": "has_pv=True<br>year=2020<br>Month=%{x}<br>Consumption=%{y}<extra></extra>",
           "ids": [
            70.322,
            69.268,
            62.318000000000005,
            31.404,
            19.318,
            12.865,
            10.501,
            9.571,
            17.38,
            41.833,
            52.389,
            73.8
           ],
           "legendgroup": "True",
           "line": {
            "color": "#EF553B",
            "dash": "solid"
           },
           "marker": {
            "symbol": "circle"
           },
           "mode": "lines",
           "name": "True",
           "orientation": "v",
           "showlegend": true,
           "x": [
            "Jan",
            "Feb",
            "Mar",
            "Apr",
            "May",
            "Jun",
            "Jul",
            "Aug",
            "Sep",
            "Oct",
            "Nov",
            "Dec"
           ],
           "xaxis": "x",
           "y": [
            70.322,
            69.268,
            62.318000000000005,
            31.404,
            19.318,
            12.865,
            10.501,
            9.571,
            17.38,
            41.833,
            52.389,
            73.8
           ],
           "yaxis": "y",
           "type": "scatter"
          }
         ],
         "name": "2020"
        }
       ],
       "config": {
        "plotlyServerURL": "https://plot.ly"
       }
      },
      "text/html": "<div>                            <div id=\"3c8fb402-c1ff-4553-918c-f311aba9f428\" class=\"plotly-graph-div\" style=\"height:525px; width:100%;\"></div>            <script type=\"text/javascript\">                require([\"plotly\"], function(Plotly) {                    window.PLOTLYENV=window.PLOTLYENV || {};                                    if (document.getElementById(\"3c8fb402-c1ff-4553-918c-f311aba9f428\")) {                    Plotly.newPlot(                        \"3c8fb402-c1ff-4553-918c-f311aba9f428\",                        [{\"hovertemplate\":\"has_pv=False<br>year=2021<br>Month=%{x}<br>Consumption=%{y}<extra></extra>\",\"ids\":[80.664,71.52199999999999,56.082,44.962,31.75,10.072,8.113,9.07,10.942,27.352,51.709,61.987],\"legendgroup\":\"False\",\"line\":{\"color\":\"#636efa\",\"dash\":\"solid\"},\"marker\":{\"symbol\":\"circle\"},\"mode\":\"lines\",\"name\":\"False\",\"orientation\":\"v\",\"showlegend\":true,\"x\":[\"Jan\",\"Feb\",\"Mar\",\"Apr\",\"May\",\"Jun\",\"Jul\",\"Aug\",\"Sep\",\"Oct\",\"Nov\",\"Dec\"],\"xaxis\":\"x\",\"y\":[80.664,71.52199999999999,56.082,44.962,31.75,10.072,8.113,9.07,10.942,27.352,51.709,61.987],\"yaxis\":\"y\",\"type\":\"scatter\"},{\"hovertemplate\":\"has_pv=True<br>year=2021<br>Month=%{x}<br>Consumption=%{y}<extra></extra>\",\"ids\":[84.59100000000001,74.905,57.854,46.455,31.616,9.41,7.597,8.633,10.632,27.497,52.146,63.207],\"legendgroup\":\"True\",\"line\":{\"color\":\"#EF553B\",\"dash\":\"solid\"},\"marker\":{\"symbol\":\"circle\"},\"mode\":\"lines\",\"name\":\"True\",\"orientation\":\"v\",\"showlegend\":true,\"x\":[\"Jan\",\"Feb\",\"Mar\",\"Apr\",\"May\",\"Jun\",\"Jul\",\"Aug\",\"Sep\",\"Oct\",\"Nov\",\"Dec\"],\"xaxis\":\"x\",\"y\":[84.59100000000001,74.905,57.854,46.455,31.616,9.41,7.597,8.633,10.632,27.497,52.146,63.207],\"yaxis\":\"y\",\"type\":\"scatter\"}],                        {\"template\":{\"data\":{\"histogram2dcontour\":[{\"type\":\"histogram2dcontour\",\"colorbar\":{\"outlinewidth\":0,\"ticks\":\"\"},\"colorscale\":[[0.0,\"#0d0887\"],[0.1111111111111111,\"#46039f\"],[0.2222222222222222,\"#7201a8\"],[0.3333333333333333,\"#9c179e\"],[0.4444444444444444,\"#bd3786\"],[0.5555555555555556,\"#d8576b\"],[0.6666666666666666,\"#ed7953\"],[0.7777777777777778,\"#fb9f3a\"],[0.8888888888888888,\"#fdca26\"],[1.0,\"#f0f921\"]]}],\"choropleth\":[{\"type\":\"choropleth\",\"colorbar\":{\"outlinewidth\":0,\"ticks\":\"\"}}],\"histogram2d\":[{\"type\":\"histogram2d\",\"colorbar\":{\"outlinewidth\":0,\"ticks\":\"\"},\"colorscale\":[[0.0,\"#0d0887\"],[0.1111111111111111,\"#46039f\"],[0.2222222222222222,\"#7201a8\"],[0.3333333333333333,\"#9c179e\"],[0.4444444444444444,\"#bd3786\"],[0.5555555555555556,\"#d8576b\"],[0.6666666666666666,\"#ed7953\"],[0.7777777777777778,\"#fb9f3a\"],[0.8888888888888888,\"#fdca26\"],[1.0,\"#f0f921\"]]}],\"heatmap\":[{\"type\":\"heatmap\",\"colorbar\":{\"outlinewidth\":0,\"ticks\":\"\"},\"colorscale\":[[0.0,\"#0d0887\"],[0.1111111111111111,\"#46039f\"],[0.2222222222222222,\"#7201a8\"],[0.3333333333333333,\"#9c179e\"],[0.4444444444444444,\"#bd3786\"],[0.5555555555555556,\"#d8576b\"],[0.6666666666666666,\"#ed7953\"],[0.7777777777777778,\"#fb9f3a\"],[0.8888888888888888,\"#fdca26\"],[1.0,\"#f0f921\"]]}],\"heatmapgl\":[{\"type\":\"heatmapgl\",\"colorbar\":{\"outlinewidth\":0,\"ticks\":\"\"},\"colorscale\":[[0.0,\"#0d0887\"],[0.1111111111111111,\"#46039f\"],[0.2222222222222222,\"#7201a8\"],[0.3333333333333333,\"#9c179e\"],[0.4444444444444444,\"#bd3786\"],[0.5555555555555556,\"#d8576b\"],[0.6666666666666666,\"#ed7953\"],[0.7777777777777778,\"#fb9f3a\"],[0.8888888888888888,\"#fdca26\"],[1.0,\"#f0f921\"]]}],\"contourcarpet\":[{\"type\":\"contourcarpet\",\"colorbar\":{\"outlinewidth\":0,\"ticks\":\"\"}}],\"contour\":[{\"type\":\"contour\",\"colorbar\":{\"outlinewidth\":0,\"ticks\":\"\"},\"colorscale\":[[0.0,\"#0d0887\"],[0.1111111111111111,\"#46039f\"],[0.2222222222222222,\"#7201a8\"],[0.3333333333333333,\"#9c179e\"],[0.4444444444444444,\"#bd3786\"],[0.5555555555555556,\"#d8576b\"],[0.6666666666666666,\"#ed7953\"],[0.7777777777777778,\"#fb9f3a\"],[0.8888888888888888,\"#fdca26\"],[1.0,\"#f0f921\"]]}],\"surface\":[{\"type\":\"surface\",\"colorbar\":{\"outlinewidth\":0,\"ticks\":\"\"},\"colorscale\":[[0.0,\"#0d0887\"],[0.1111111111111111,\"#46039f\"],[0.2222222222222222,\"#7201a8\"],[0.3333333333333333,\"#9c179e\"],[0.4444444444444444,\"#bd3786\"],[0.5555555555555556,\"#d8576b\"],[0.6666666666666666,\"#ed7953\"],[0.7777777777777778,\"#fb9f3a\"],[0.8888888888888888,\"#fdca26\"],[1.0,\"#f0f921\"]]}],\"mesh3d\":[{\"type\":\"mesh3d\",\"colorbar\":{\"outlinewidth\":0,\"ticks\":\"\"}}],\"scatter\":[{\"marker\":{\"line\":{\"color\":\"#283442\"}},\"type\":\"scatter\"}],\"parcoords\":[{\"type\":\"parcoords\",\"line\":{\"colorbar\":{\"outlinewidth\":0,\"ticks\":\"\"}}}],\"scatterpolargl\":[{\"type\":\"scatterpolargl\",\"marker\":{\"colorbar\":{\"outlinewidth\":0,\"ticks\":\"\"}}}],\"bar\":[{\"error_x\":{\"color\":\"#f2f5fa\"},\"error_y\":{\"color\":\"#f2f5fa\"},\"marker\":{\"line\":{\"color\":\"rgb(17,17,17)\",\"width\":0.5},\"pattern\":{\"fillmode\":\"overlay\",\"size\":10,\"solidity\":0.2}},\"type\":\"bar\"}],\"scattergeo\":[{\"type\":\"scattergeo\",\"marker\":{\"colorbar\":{\"outlinewidth\":0,\"ticks\":\"\"}}}],\"scatterpolar\":[{\"type\":\"scatterpolar\",\"marker\":{\"colorbar\":{\"outlinewidth\":0,\"ticks\":\"\"}}}],\"histogram\":[{\"marker\":{\"pattern\":{\"fillmode\":\"overlay\",\"size\":10,\"solidity\":0.2}},\"type\":\"histogram\"}],\"scattergl\":[{\"marker\":{\"line\":{\"color\":\"#283442\"}},\"type\":\"scattergl\"}],\"scatter3d\":[{\"type\":\"scatter3d\",\"line\":{\"colorbar\":{\"outlinewidth\":0,\"ticks\":\"\"}},\"marker\":{\"colorbar\":{\"outlinewidth\":0,\"ticks\":\"\"}}}],\"scattermapbox\":[{\"type\":\"scattermapbox\",\"marker\":{\"colorbar\":{\"outlinewidth\":0,\"ticks\":\"\"}}}],\"scatterternary\":[{\"type\":\"scatterternary\",\"marker\":{\"colorbar\":{\"outlinewidth\":0,\"ticks\":\"\"}}}],\"scattercarpet\":[{\"type\":\"scattercarpet\",\"marker\":{\"colorbar\":{\"outlinewidth\":0,\"ticks\":\"\"}}}],\"carpet\":[{\"aaxis\":{\"endlinecolor\":\"#A2B1C6\",\"gridcolor\":\"#506784\",\"linecolor\":\"#506784\",\"minorgridcolor\":\"#506784\",\"startlinecolor\":\"#A2B1C6\"},\"baxis\":{\"endlinecolor\":\"#A2B1C6\",\"gridcolor\":\"#506784\",\"linecolor\":\"#506784\",\"minorgridcolor\":\"#506784\",\"startlinecolor\":\"#A2B1C6\"},\"type\":\"carpet\"}],\"table\":[{\"cells\":{\"fill\":{\"color\":\"#506784\"},\"line\":{\"color\":\"rgb(17,17,17)\"}},\"header\":{\"fill\":{\"color\":\"#2a3f5f\"},\"line\":{\"color\":\"rgb(17,17,17)\"}},\"type\":\"table\"}],\"barpolar\":[{\"marker\":{\"line\":{\"color\":\"rgb(17,17,17)\",\"width\":0.5},\"pattern\":{\"fillmode\":\"overlay\",\"size\":10,\"solidity\":0.2}},\"type\":\"barpolar\"}],\"pie\":[{\"automargin\":true,\"type\":\"pie\"}]},\"layout\":{\"autotypenumbers\":\"strict\",\"colorway\":[\"#636efa\",\"#EF553B\",\"#00cc96\",\"#ab63fa\",\"#FFA15A\",\"#19d3f3\",\"#FF6692\",\"#B6E880\",\"#FF97FF\",\"#FECB52\"],\"font\":{\"color\":\"#f2f5fa\"},\"hovermode\":\"closest\",\"hoverlabel\":{\"align\":\"left\"},\"paper_bgcolor\":\"rgb(17,17,17)\",\"plot_bgcolor\":\"rgb(17,17,17)\",\"polar\":{\"bgcolor\":\"rgb(17,17,17)\",\"angularaxis\":{\"gridcolor\":\"#506784\",\"linecolor\":\"#506784\",\"ticks\":\"\"},\"radialaxis\":{\"gridcolor\":\"#506784\",\"linecolor\":\"#506784\",\"ticks\":\"\"}},\"ternary\":{\"bgcolor\":\"rgb(17,17,17)\",\"aaxis\":{\"gridcolor\":\"#506784\",\"linecolor\":\"#506784\",\"ticks\":\"\"},\"baxis\":{\"gridcolor\":\"#506784\",\"linecolor\":\"#506784\",\"ticks\":\"\"},\"caxis\":{\"gridcolor\":\"#506784\",\"linecolor\":\"#506784\",\"ticks\":\"\"}},\"coloraxis\":{\"colorbar\":{\"outlinewidth\":0,\"ticks\":\"\"}},\"colorscale\":{\"sequential\":[[0.0,\"#0d0887\"],[0.1111111111111111,\"#46039f\"],[0.2222222222222222,\"#7201a8\"],[0.3333333333333333,\"#9c179e\"],[0.4444444444444444,\"#bd3786\"],[0.5555555555555556,\"#d8576b\"],[0.6666666666666666,\"#ed7953\"],[0.7777777777777778,\"#fb9f3a\"],[0.8888888888888888,\"#fdca26\"],[1.0,\"#f0f921\"]],\"sequentialminus\":[[0.0,\"#0d0887\"],[0.1111111111111111,\"#46039f\"],[0.2222222222222222,\"#7201a8\"],[0.3333333333333333,\"#9c179e\"],[0.4444444444444444,\"#bd3786\"],[0.5555555555555556,\"#d8576b\"],[0.6666666666666666,\"#ed7953\"],[0.7777777777777778,\"#fb9f3a\"],[0.8888888888888888,\"#fdca26\"],[1.0,\"#f0f921\"]],\"diverging\":[[0,\"#8e0152\"],[0.1,\"#c51b7d\"],[0.2,\"#de77ae\"],[0.3,\"#f1b6da\"],[0.4,\"#fde0ef\"],[0.5,\"#f7f7f7\"],[0.6,\"#e6f5d0\"],[0.7,\"#b8e186\"],[0.8,\"#7fbc41\"],[0.9,\"#4d9221\"],[1,\"#276419\"]]},\"xaxis\":{\"gridcolor\":\"#283442\",\"linecolor\":\"#506784\",\"ticks\":\"\",\"title\":{\"standoff\":15},\"zerolinecolor\":\"#283442\",\"automargin\":true,\"zerolinewidth\":2},\"yaxis\":{\"gridcolor\":\"#283442\",\"linecolor\":\"#506784\",\"ticks\":\"\",\"title\":{\"standoff\":15},\"zerolinecolor\":\"#283442\",\"automargin\":true,\"zerolinewidth\":2},\"scene\":{\"xaxis\":{\"backgroundcolor\":\"rgb(17,17,17)\",\"gridcolor\":\"#506784\",\"linecolor\":\"#506784\",\"showbackground\":true,\"ticks\":\"\",\"zerolinecolor\":\"#C8D4E3\",\"gridwidth\":2},\"yaxis\":{\"backgroundcolor\":\"rgb(17,17,17)\",\"gridcolor\":\"#506784\",\"linecolor\":\"#506784\",\"showbackground\":true,\"ticks\":\"\",\"zerolinecolor\":\"#C8D4E3\",\"gridwidth\":2},\"zaxis\":{\"backgroundcolor\":\"rgb(17,17,17)\",\"gridcolor\":\"#506784\",\"linecolor\":\"#506784\",\"showbackground\":true,\"ticks\":\"\",\"zerolinecolor\":\"#C8D4E3\",\"gridwidth\":2}},\"shapedefaults\":{\"line\":{\"color\":\"#f2f5fa\"}},\"annotationdefaults\":{\"arrowcolor\":\"#f2f5fa\",\"arrowhead\":0,\"arrowwidth\":1},\"geo\":{\"bgcolor\":\"rgb(17,17,17)\",\"landcolor\":\"rgb(17,17,17)\",\"subunitcolor\":\"#506784\",\"showland\":true,\"showlakes\":true,\"lakecolor\":\"rgb(17,17,17)\"},\"title\":{\"x\":0.05},\"updatemenudefaults\":{\"bgcolor\":\"#506784\",\"borderwidth\":0},\"sliderdefaults\":{\"bgcolor\":\"#C8D4E3\",\"borderwidth\":1,\"bordercolor\":\"rgb(17,17,17)\",\"tickwidth\":0},\"mapbox\":{\"style\":\"dark\"}}},\"xaxis\":{\"anchor\":\"y\",\"domain\":[0.0,1.0],\"title\":{\"text\":\"Month\"},\"showgrid\":false},\"yaxis\":{\"anchor\":\"x\",\"domain\":[0.0,1.0],\"title\":{\"text\":\"Consumption\"}},\"legend\":{\"title\":{\"text\":\"has_pv\"},\"tracegroupgap\":0},\"margin\":{\"t\":60},\"updatemenus\":[{\"buttons\":[{\"args\":[null,{\"frame\":{\"duration\":500,\"redraw\":false},\"mode\":\"immediate\",\"fromcurrent\":true,\"transition\":{\"duration\":500,\"easing\":\"linear\"}}],\"label\":\"&#9654;\",\"method\":\"animate\"},{\"args\":[[null],{\"frame\":{\"duration\":0,\"redraw\":false},\"mode\":\"immediate\",\"fromcurrent\":true,\"transition\":{\"duration\":0,\"easing\":\"linear\"}}],\"label\":\"&#9724;\",\"method\":\"animate\"}],\"direction\":\"left\",\"pad\":{\"r\":10,\"t\":70},\"showactive\":false,\"type\":\"buttons\",\"x\":0.1,\"xanchor\":\"right\",\"y\":0,\"yanchor\":\"top\"}],\"sliders\":[{\"active\":0,\"currentvalue\":{\"prefix\":\"year=\"},\"len\":0.9,\"pad\":{\"b\":10,\"t\":60},\"steps\":[{\"args\":[[\"2021\"],{\"frame\":{\"duration\":0,\"redraw\":false},\"mode\":\"immediate\",\"fromcurrent\":true,\"transition\":{\"duration\":0,\"easing\":\"linear\"}}],\"label\":\"2021\",\"method\":\"animate\"},{\"args\":[[\"2020\"],{\"frame\":{\"duration\":0,\"redraw\":false},\"mode\":\"immediate\",\"fromcurrent\":true,\"transition\":{\"duration\":0,\"easing\":\"linear\"}}],\"label\":\"2020\",\"method\":\"animate\"}],\"x\":0.1,\"xanchor\":\"left\",\"y\":0,\"yanchor\":\"top\"}]},                        {\"responsive\": true}                    ).then(function(){\n                            Plotly.addFrames('3c8fb402-c1ff-4553-918c-f311aba9f428', [{\"data\":[{\"hovertemplate\":\"has_pv=False<br>year=2021<br>Month=%{x}<br>Consumption=%{y}<extra></extra>\",\"ids\":[80.664,71.52199999999999,56.082,44.962,31.75,10.072,8.113,9.07,10.942,27.352,51.709,61.987],\"legendgroup\":\"False\",\"line\":{\"color\":\"#636efa\",\"dash\":\"solid\"},\"marker\":{\"symbol\":\"circle\"},\"mode\":\"lines\",\"name\":\"False\",\"orientation\":\"v\",\"showlegend\":true,\"x\":[\"Jan\",\"Feb\",\"Mar\",\"Apr\",\"May\",\"Jun\",\"Jul\",\"Aug\",\"Sep\",\"Oct\",\"Nov\",\"Dec\"],\"xaxis\":\"x\",\"y\":[80.664,71.52199999999999,56.082,44.962,31.75,10.072,8.113,9.07,10.942,27.352,51.709,61.987],\"yaxis\":\"y\",\"type\":\"scatter\"},{\"hovertemplate\":\"has_pv=True<br>year=2021<br>Month=%{x}<br>Consumption=%{y}<extra></extra>\",\"ids\":[84.59100000000001,74.905,57.854,46.455,31.616,9.41,7.597,8.633,10.632,27.497,52.146,63.207],\"legendgroup\":\"True\",\"line\":{\"color\":\"#EF553B\",\"dash\":\"solid\"},\"marker\":{\"symbol\":\"circle\"},\"mode\":\"lines\",\"name\":\"True\",\"orientation\":\"v\",\"showlegend\":true,\"x\":[\"Jan\",\"Feb\",\"Mar\",\"Apr\",\"May\",\"Jun\",\"Jul\",\"Aug\",\"Sep\",\"Oct\",\"Nov\",\"Dec\"],\"xaxis\":\"x\",\"y\":[84.59100000000001,74.905,57.854,46.455,31.616,9.41,7.597,8.633,10.632,27.497,52.146,63.207],\"yaxis\":\"y\",\"type\":\"scatter\"}],\"name\":\"2021\"},{\"data\":[{\"hovertemplate\":\"has_pv=False<br>year=2020<br>Month=%{x}<br>Consumption=%{y}<extra></extra>\",\"ids\":[63.617,64.229,55.873000000000005,28.568,18.502,12.390999999999998,10.29,9.194,15.519,38.207,49.817,69.687],\"legendgroup\":\"False\",\"line\":{\"color\":\"#636efa\",\"dash\":\"solid\"},\"marker\":{\"symbol\":\"circle\"},\"mode\":\"lines\",\"name\":\"False\",\"orientation\":\"v\",\"showlegend\":true,\"x\":[\"Jan\",\"Feb\",\"Mar\",\"Apr\",\"May\",\"Jun\",\"Jul\",\"Aug\",\"Sep\",\"Oct\",\"Nov\",\"Dec\"],\"xaxis\":\"x\",\"y\":[63.617,64.229,55.873000000000005,28.568,18.502,12.390999999999998,10.29,9.194,15.519,38.207,49.817,69.687],\"yaxis\":\"y\",\"type\":\"scatter\"},{\"hovertemplate\":\"has_pv=True<br>year=2020<br>Month=%{x}<br>Consumption=%{y}<extra></extra>\",\"ids\":[70.322,69.268,62.318000000000005,31.404,19.318,12.865,10.501,9.571,17.38,41.833,52.389,73.8],\"legendgroup\":\"True\",\"line\":{\"color\":\"#EF553B\",\"dash\":\"solid\"},\"marker\":{\"symbol\":\"circle\"},\"mode\":\"lines\",\"name\":\"True\",\"orientation\":\"v\",\"showlegend\":true,\"x\":[\"Jan\",\"Feb\",\"Mar\",\"Apr\",\"May\",\"Jun\",\"Jul\",\"Aug\",\"Sep\",\"Oct\",\"Nov\",\"Dec\"],\"xaxis\":\"x\",\"y\":[70.322,69.268,62.318000000000005,31.404,19.318,12.865,10.501,9.571,17.38,41.833,52.389,73.8],\"yaxis\":\"y\",\"type\":\"scatter\"}],\"name\":\"2020\"}]);\n                        }).then(function(){\n                            \nvar gd = document.getElementById('3c8fb402-c1ff-4553-918c-f311aba9f428');\nvar x = new MutationObserver(function (mutations, observer) {{\n        var display = window.getComputedStyle(gd).display;\n        if (!display || display === 'none') {{\n            console.log([gd, 'removed!']);\n            Plotly.purge(gd);\n            observer.disconnect();\n        }}\n}});\n\n// Listen for the removal of the full notebook cells\nvar notebookContainer = gd.closest('#notebook-container');\nif (notebookContainer) {{\n    x.observe(notebookContainer, {childList: true});\n}}\n\n// Listen for the clearing of the current output cell\nvar outputEl = gd.closest('.output');\nif (outputEl) {{\n    x.observe(outputEl, {childList: true});\n}}\n\n                        })                };                });            </script>        </div>"
     },
     "metadata": {},
     "output_type": "display_data"
    }
   ],
   "source": [
    "fig_pv_monthly_gas = px.line(summary_time_year_remove(get_pv_monthly_data(dataset, fuel='Gas', summary_stat='mean')),\n",
    "               x=\"summary_time\", y=\"value\", color=\"segment_1_value\",\n",
    "              labels={\n",
    "                  'summary_time': 'Month',\n",
    "                  'value': 'Consumption',\n",
    "                  'time_period': 'year',\n",
    "                  'segment_1_value': 'has_pv'\n",
    "              },\n",
    "              animation_frame=\"time_period\", animation_group=\"value\")\n",
    "\n",
    "fig_pv_monthly_gas.update_layout(xaxis=dict(showgrid=False))\n",
    "fig_pv_monthly_gas.show()"
   ],
   "metadata": {
    "collapsed": false,
    "pycharm": {
     "name": "#%%\n"
    }
   }
  },
  {
   "cell_type": "markdown",
   "source": [
    "This is the plot for the gas consumption group by *'has_pv'* segmentation.\n",
    "We found that the pattern of the mean gas consumption in each month was similar, which means that **the use of gas do not effected by whether the building has pv or not.**"
   ],
   "metadata": {
    "collapsed": false,
    "pycharm": {
     "name": "#%% md\n"
    }
   }
  },
  {
   "cell_type": "code",
   "execution_count": 102,
   "outputs": [
    {
     "data": {
      "application/vnd.plotly.v1+json": {
       "data": [
        {
         "hovertemplate": "has_pv=False<br>year=2021<br>Month=%{x}<br>Consumption=%{y}<extra></extra>",
         "ids": [
          13.74,
          13.004,
          11.7,
          10.656,
          9.624,
          8.093,
          8.004,
          7.974,
          8.007,
          9.017,
          10.38,
          11.396
         ],
         "legendgroup": "False",
         "line": {
          "color": "#636efa",
          "dash": "solid"
         },
         "marker": {
          "symbol": "circle"
         },
         "mode": "lines",
         "name": "False",
         "orientation": "v",
         "showlegend": true,
         "x": [
          "Jan",
          "Feb",
          "Mar",
          "Apr",
          "May",
          "Jun",
          "Jul",
          "Aug",
          "Sep",
          "Oct",
          "Nov",
          "Dec"
         ],
         "xaxis": "x",
         "y": [
          13.74,
          13.004,
          11.7,
          10.656,
          9.624,
          8.093,
          8.004,
          7.974,
          8.007,
          9.017,
          10.38,
          11.396
         ],
         "yaxis": "y",
         "type": "scatter"
        },
        {
         "hovertemplate": "has_pv=True<br>year=2021<br>Month=%{x}<br>Consumption=%{y}<extra></extra>",
         "ids": [
          15.946,
          12.702,
          7.835,
          0.614,
          0.938,
          -2.122,
          -1.776,
          1.033,
          2.463,
          6.99,
          10.663,
          13.937
         ],
         "legendgroup": "True",
         "line": {
          "color": "#EF553B",
          "dash": "solid"
         },
         "marker": {
          "symbol": "circle"
         },
         "mode": "lines",
         "name": "True",
         "orientation": "v",
         "showlegend": true,
         "x": [
          "Jan",
          "Feb",
          "Mar",
          "Apr",
          "May",
          "Jun",
          "Jul",
          "Aug",
          "Sep",
          "Oct",
          "Nov",
          "Dec"
         ],
         "xaxis": "x",
         "y": [
          15.946,
          12.702,
          7.835,
          0.614,
          0.938,
          -2.122,
          -1.776,
          1.033,
          2.463,
          6.99,
          10.663,
          13.937
         ],
         "yaxis": "y",
         "type": "scatter"
        }
       ],
       "layout": {
        "template": {
         "data": {
          "histogram2dcontour": [
           {
            "type": "histogram2dcontour",
            "colorbar": {
             "outlinewidth": 0,
             "ticks": ""
            },
            "colorscale": [
             [
              0.0,
              "#0d0887"
             ],
             [
              0.1111111111111111,
              "#46039f"
             ],
             [
              0.2222222222222222,
              "#7201a8"
             ],
             [
              0.3333333333333333,
              "#9c179e"
             ],
             [
              0.4444444444444444,
              "#bd3786"
             ],
             [
              0.5555555555555556,
              "#d8576b"
             ],
             [
              0.6666666666666666,
              "#ed7953"
             ],
             [
              0.7777777777777778,
              "#fb9f3a"
             ],
             [
              0.8888888888888888,
              "#fdca26"
             ],
             [
              1.0,
              "#f0f921"
             ]
            ]
           }
          ],
          "choropleth": [
           {
            "type": "choropleth",
            "colorbar": {
             "outlinewidth": 0,
             "ticks": ""
            }
           }
          ],
          "histogram2d": [
           {
            "type": "histogram2d",
            "colorbar": {
             "outlinewidth": 0,
             "ticks": ""
            },
            "colorscale": [
             [
              0.0,
              "#0d0887"
             ],
             [
              0.1111111111111111,
              "#46039f"
             ],
             [
              0.2222222222222222,
              "#7201a8"
             ],
             [
              0.3333333333333333,
              "#9c179e"
             ],
             [
              0.4444444444444444,
              "#bd3786"
             ],
             [
              0.5555555555555556,
              "#d8576b"
             ],
             [
              0.6666666666666666,
              "#ed7953"
             ],
             [
              0.7777777777777778,
              "#fb9f3a"
             ],
             [
              0.8888888888888888,
              "#fdca26"
             ],
             [
              1.0,
              "#f0f921"
             ]
            ]
           }
          ],
          "heatmap": [
           {
            "type": "heatmap",
            "colorbar": {
             "outlinewidth": 0,
             "ticks": ""
            },
            "colorscale": [
             [
              0.0,
              "#0d0887"
             ],
             [
              0.1111111111111111,
              "#46039f"
             ],
             [
              0.2222222222222222,
              "#7201a8"
             ],
             [
              0.3333333333333333,
              "#9c179e"
             ],
             [
              0.4444444444444444,
              "#bd3786"
             ],
             [
              0.5555555555555556,
              "#d8576b"
             ],
             [
              0.6666666666666666,
              "#ed7953"
             ],
             [
              0.7777777777777778,
              "#fb9f3a"
             ],
             [
              0.8888888888888888,
              "#fdca26"
             ],
             [
              1.0,
              "#f0f921"
             ]
            ]
           }
          ],
          "heatmapgl": [
           {
            "type": "heatmapgl",
            "colorbar": {
             "outlinewidth": 0,
             "ticks": ""
            },
            "colorscale": [
             [
              0.0,
              "#0d0887"
             ],
             [
              0.1111111111111111,
              "#46039f"
             ],
             [
              0.2222222222222222,
              "#7201a8"
             ],
             [
              0.3333333333333333,
              "#9c179e"
             ],
             [
              0.4444444444444444,
              "#bd3786"
             ],
             [
              0.5555555555555556,
              "#d8576b"
             ],
             [
              0.6666666666666666,
              "#ed7953"
             ],
             [
              0.7777777777777778,
              "#fb9f3a"
             ],
             [
              0.8888888888888888,
              "#fdca26"
             ],
             [
              1.0,
              "#f0f921"
             ]
            ]
           }
          ],
          "contourcarpet": [
           {
            "type": "contourcarpet",
            "colorbar": {
             "outlinewidth": 0,
             "ticks": ""
            }
           }
          ],
          "contour": [
           {
            "type": "contour",
            "colorbar": {
             "outlinewidth": 0,
             "ticks": ""
            },
            "colorscale": [
             [
              0.0,
              "#0d0887"
             ],
             [
              0.1111111111111111,
              "#46039f"
             ],
             [
              0.2222222222222222,
              "#7201a8"
             ],
             [
              0.3333333333333333,
              "#9c179e"
             ],
             [
              0.4444444444444444,
              "#bd3786"
             ],
             [
              0.5555555555555556,
              "#d8576b"
             ],
             [
              0.6666666666666666,
              "#ed7953"
             ],
             [
              0.7777777777777778,
              "#fb9f3a"
             ],
             [
              0.8888888888888888,
              "#fdca26"
             ],
             [
              1.0,
              "#f0f921"
             ]
            ]
           }
          ],
          "surface": [
           {
            "type": "surface",
            "colorbar": {
             "outlinewidth": 0,
             "ticks": ""
            },
            "colorscale": [
             [
              0.0,
              "#0d0887"
             ],
             [
              0.1111111111111111,
              "#46039f"
             ],
             [
              0.2222222222222222,
              "#7201a8"
             ],
             [
              0.3333333333333333,
              "#9c179e"
             ],
             [
              0.4444444444444444,
              "#bd3786"
             ],
             [
              0.5555555555555556,
              "#d8576b"
             ],
             [
              0.6666666666666666,
              "#ed7953"
             ],
             [
              0.7777777777777778,
              "#fb9f3a"
             ],
             [
              0.8888888888888888,
              "#fdca26"
             ],
             [
              1.0,
              "#f0f921"
             ]
            ]
           }
          ],
          "mesh3d": [
           {
            "type": "mesh3d",
            "colorbar": {
             "outlinewidth": 0,
             "ticks": ""
            }
           }
          ],
          "scatter": [
           {
            "marker": {
             "line": {
              "color": "#283442"
             }
            },
            "type": "scatter"
           }
          ],
          "parcoords": [
           {
            "type": "parcoords",
            "line": {
             "colorbar": {
              "outlinewidth": 0,
              "ticks": ""
             }
            }
           }
          ],
          "scatterpolargl": [
           {
            "type": "scatterpolargl",
            "marker": {
             "colorbar": {
              "outlinewidth": 0,
              "ticks": ""
             }
            }
           }
          ],
          "bar": [
           {
            "error_x": {
             "color": "#f2f5fa"
            },
            "error_y": {
             "color": "#f2f5fa"
            },
            "marker": {
             "line": {
              "color": "rgb(17,17,17)",
              "width": 0.5
             },
             "pattern": {
              "fillmode": "overlay",
              "size": 10,
              "solidity": 0.2
             }
            },
            "type": "bar"
           }
          ],
          "scattergeo": [
           {
            "type": "scattergeo",
            "marker": {
             "colorbar": {
              "outlinewidth": 0,
              "ticks": ""
             }
            }
           }
          ],
          "scatterpolar": [
           {
            "type": "scatterpolar",
            "marker": {
             "colorbar": {
              "outlinewidth": 0,
              "ticks": ""
             }
            }
           }
          ],
          "histogram": [
           {
            "marker": {
             "pattern": {
              "fillmode": "overlay",
              "size": 10,
              "solidity": 0.2
             }
            },
            "type": "histogram"
           }
          ],
          "scattergl": [
           {
            "marker": {
             "line": {
              "color": "#283442"
             }
            },
            "type": "scattergl"
           }
          ],
          "scatter3d": [
           {
            "type": "scatter3d",
            "line": {
             "colorbar": {
              "outlinewidth": 0,
              "ticks": ""
             }
            },
            "marker": {
             "colorbar": {
              "outlinewidth": 0,
              "ticks": ""
             }
            }
           }
          ],
          "scattermapbox": [
           {
            "type": "scattermapbox",
            "marker": {
             "colorbar": {
              "outlinewidth": 0,
              "ticks": ""
             }
            }
           }
          ],
          "scatterternary": [
           {
            "type": "scatterternary",
            "marker": {
             "colorbar": {
              "outlinewidth": 0,
              "ticks": ""
             }
            }
           }
          ],
          "scattercarpet": [
           {
            "type": "scattercarpet",
            "marker": {
             "colorbar": {
              "outlinewidth": 0,
              "ticks": ""
             }
            }
           }
          ],
          "carpet": [
           {
            "aaxis": {
             "endlinecolor": "#A2B1C6",
             "gridcolor": "#506784",
             "linecolor": "#506784",
             "minorgridcolor": "#506784",
             "startlinecolor": "#A2B1C6"
            },
            "baxis": {
             "endlinecolor": "#A2B1C6",
             "gridcolor": "#506784",
             "linecolor": "#506784",
             "minorgridcolor": "#506784",
             "startlinecolor": "#A2B1C6"
            },
            "type": "carpet"
           }
          ],
          "table": [
           {
            "cells": {
             "fill": {
              "color": "#506784"
             },
             "line": {
              "color": "rgb(17,17,17)"
             }
            },
            "header": {
             "fill": {
              "color": "#2a3f5f"
             },
             "line": {
              "color": "rgb(17,17,17)"
             }
            },
            "type": "table"
           }
          ],
          "barpolar": [
           {
            "marker": {
             "line": {
              "color": "rgb(17,17,17)",
              "width": 0.5
             },
             "pattern": {
              "fillmode": "overlay",
              "size": 10,
              "solidity": 0.2
             }
            },
            "type": "barpolar"
           }
          ],
          "pie": [
           {
            "automargin": true,
            "type": "pie"
           }
          ]
         },
         "layout": {
          "autotypenumbers": "strict",
          "colorway": [
           "#636efa",
           "#EF553B",
           "#00cc96",
           "#ab63fa",
           "#FFA15A",
           "#19d3f3",
           "#FF6692",
           "#B6E880",
           "#FF97FF",
           "#FECB52"
          ],
          "font": {
           "color": "#f2f5fa"
          },
          "hovermode": "closest",
          "hoverlabel": {
           "align": "left"
          },
          "paper_bgcolor": "rgb(17,17,17)",
          "plot_bgcolor": "rgb(17,17,17)",
          "polar": {
           "bgcolor": "rgb(17,17,17)",
           "angularaxis": {
            "gridcolor": "#506784",
            "linecolor": "#506784",
            "ticks": ""
           },
           "radialaxis": {
            "gridcolor": "#506784",
            "linecolor": "#506784",
            "ticks": ""
           }
          },
          "ternary": {
           "bgcolor": "rgb(17,17,17)",
           "aaxis": {
            "gridcolor": "#506784",
            "linecolor": "#506784",
            "ticks": ""
           },
           "baxis": {
            "gridcolor": "#506784",
            "linecolor": "#506784",
            "ticks": ""
           },
           "caxis": {
            "gridcolor": "#506784",
            "linecolor": "#506784",
            "ticks": ""
           }
          },
          "coloraxis": {
           "colorbar": {
            "outlinewidth": 0,
            "ticks": ""
           }
          },
          "colorscale": {
           "sequential": [
            [
             0.0,
             "#0d0887"
            ],
            [
             0.1111111111111111,
             "#46039f"
            ],
            [
             0.2222222222222222,
             "#7201a8"
            ],
            [
             0.3333333333333333,
             "#9c179e"
            ],
            [
             0.4444444444444444,
             "#bd3786"
            ],
            [
             0.5555555555555556,
             "#d8576b"
            ],
            [
             0.6666666666666666,
             "#ed7953"
            ],
            [
             0.7777777777777778,
             "#fb9f3a"
            ],
            [
             0.8888888888888888,
             "#fdca26"
            ],
            [
             1.0,
             "#f0f921"
            ]
           ],
           "sequentialminus": [
            [
             0.0,
             "#0d0887"
            ],
            [
             0.1111111111111111,
             "#46039f"
            ],
            [
             0.2222222222222222,
             "#7201a8"
            ],
            [
             0.3333333333333333,
             "#9c179e"
            ],
            [
             0.4444444444444444,
             "#bd3786"
            ],
            [
             0.5555555555555556,
             "#d8576b"
            ],
            [
             0.6666666666666666,
             "#ed7953"
            ],
            [
             0.7777777777777778,
             "#fb9f3a"
            ],
            [
             0.8888888888888888,
             "#fdca26"
            ],
            [
             1.0,
             "#f0f921"
            ]
           ],
           "diverging": [
            [
             0,
             "#8e0152"
            ],
            [
             0.1,
             "#c51b7d"
            ],
            [
             0.2,
             "#de77ae"
            ],
            [
             0.3,
             "#f1b6da"
            ],
            [
             0.4,
             "#fde0ef"
            ],
            [
             0.5,
             "#f7f7f7"
            ],
            [
             0.6,
             "#e6f5d0"
            ],
            [
             0.7,
             "#b8e186"
            ],
            [
             0.8,
             "#7fbc41"
            ],
            [
             0.9,
             "#4d9221"
            ],
            [
             1,
             "#276419"
            ]
           ]
          },
          "xaxis": {
           "gridcolor": "#283442",
           "linecolor": "#506784",
           "ticks": "",
           "title": {
            "standoff": 15
           },
           "zerolinecolor": "#283442",
           "automargin": true,
           "zerolinewidth": 2
          },
          "yaxis": {
           "gridcolor": "#283442",
           "linecolor": "#506784",
           "ticks": "",
           "title": {
            "standoff": 15
           },
           "zerolinecolor": "#283442",
           "automargin": true,
           "zerolinewidth": 2
          },
          "scene": {
           "xaxis": {
            "backgroundcolor": "rgb(17,17,17)",
            "gridcolor": "#506784",
            "linecolor": "#506784",
            "showbackground": true,
            "ticks": "",
            "zerolinecolor": "#C8D4E3",
            "gridwidth": 2
           },
           "yaxis": {
            "backgroundcolor": "rgb(17,17,17)",
            "gridcolor": "#506784",
            "linecolor": "#506784",
            "showbackground": true,
            "ticks": "",
            "zerolinecolor": "#C8D4E3",
            "gridwidth": 2
           },
           "zaxis": {
            "backgroundcolor": "rgb(17,17,17)",
            "gridcolor": "#506784",
            "linecolor": "#506784",
            "showbackground": true,
            "ticks": "",
            "zerolinecolor": "#C8D4E3",
            "gridwidth": 2
           }
          },
          "shapedefaults": {
           "line": {
            "color": "#f2f5fa"
           }
          },
          "annotationdefaults": {
           "arrowcolor": "#f2f5fa",
           "arrowhead": 0,
           "arrowwidth": 1
          },
          "geo": {
           "bgcolor": "rgb(17,17,17)",
           "landcolor": "rgb(17,17,17)",
           "subunitcolor": "#506784",
           "showland": true,
           "showlakes": true,
           "lakecolor": "rgb(17,17,17)"
          },
          "title": {
           "x": 0.05
          },
          "updatemenudefaults": {
           "bgcolor": "#506784",
           "borderwidth": 0
          },
          "sliderdefaults": {
           "bgcolor": "#C8D4E3",
           "borderwidth": 1,
           "bordercolor": "rgb(17,17,17)",
           "tickwidth": 0
          },
          "mapbox": {
           "style": "dark"
          }
         }
        },
        "xaxis": {
         "anchor": "y",
         "domain": [
          0.0,
          1.0
         ],
         "title": {
          "text": "Month"
         },
         "showgrid": false
        },
        "yaxis": {
         "anchor": "x",
         "domain": [
          0.0,
          1.0
         ],
         "title": {
          "text": "Consumption"
         }
        },
        "legend": {
         "title": {
          "text": "has_pv"
         },
         "tracegroupgap": 0
        },
        "margin": {
         "t": 60
        },
        "updatemenus": [
         {
          "buttons": [
           {
            "args": [
             null,
             {
              "frame": {
               "duration": 500,
               "redraw": false
              },
              "mode": "immediate",
              "fromcurrent": true,
              "transition": {
               "duration": 500,
               "easing": "linear"
              }
             }
            ],
            "label": "&#9654;",
            "method": "animate"
           },
           {
            "args": [
             [
              null
             ],
             {
              "frame": {
               "duration": 0,
               "redraw": false
              },
              "mode": "immediate",
              "fromcurrent": true,
              "transition": {
               "duration": 0,
               "easing": "linear"
              }
             }
            ],
            "label": "&#9724;",
            "method": "animate"
           }
          ],
          "direction": "left",
          "pad": {
           "r": 10,
           "t": 70
          },
          "showactive": false,
          "type": "buttons",
          "x": 0.1,
          "xanchor": "right",
          "y": 0,
          "yanchor": "top"
         }
        ],
        "sliders": [
         {
          "active": 0,
          "currentvalue": {
           "prefix": "year="
          },
          "len": 0.9,
          "pad": {
           "b": 10,
           "t": 60
          },
          "steps": [
           {
            "args": [
             [
              "2021"
             ],
             {
              "frame": {
               "duration": 0,
               "redraw": false
              },
              "mode": "immediate",
              "fromcurrent": true,
              "transition": {
               "duration": 0,
               "easing": "linear"
              }
             }
            ],
            "label": "2021",
            "method": "animate"
           },
           {
            "args": [
             [
              "2020"
             ],
             {
              "frame": {
               "duration": 0,
               "redraw": false
              },
              "mode": "immediate",
              "fromcurrent": true,
              "transition": {
               "duration": 0,
               "easing": "linear"
              }
             }
            ],
            "label": "2020",
            "method": "animate"
           }
          ],
          "x": 0.1,
          "xanchor": "left",
          "y": 0,
          "yanchor": "top"
         }
        ]
       },
       "frames": [
        {
         "data": [
          {
           "hovertemplate": "has_pv=False<br>year=2021<br>Month=%{x}<br>Consumption=%{y}<extra></extra>",
           "ids": [
            13.74,
            13.004,
            11.7,
            10.656,
            9.624,
            8.093,
            8.004,
            7.974,
            8.007,
            9.017,
            10.38,
            11.396
           ],
           "legendgroup": "False",
           "line": {
            "color": "#636efa",
            "dash": "solid"
           },
           "marker": {
            "symbol": "circle"
           },
           "mode": "lines",
           "name": "False",
           "orientation": "v",
           "showlegend": true,
           "x": [
            "Jan",
            "Feb",
            "Mar",
            "Apr",
            "May",
            "Jun",
            "Jul",
            "Aug",
            "Sep",
            "Oct",
            "Nov",
            "Dec"
           ],
           "xaxis": "x",
           "y": [
            13.74,
            13.004,
            11.7,
            10.656,
            9.624,
            8.093,
            8.004,
            7.974,
            8.007,
            9.017,
            10.38,
            11.396
           ],
           "yaxis": "y",
           "type": "scatter"
          },
          {
           "hovertemplate": "has_pv=True<br>year=2021<br>Month=%{x}<br>Consumption=%{y}<extra></extra>",
           "ids": [
            15.946,
            12.702,
            7.835,
            0.614,
            0.938,
            -2.122,
            -1.776,
            1.033,
            2.463,
            6.99,
            10.663,
            13.937
           ],
           "legendgroup": "True",
           "line": {
            "color": "#EF553B",
            "dash": "solid"
           },
           "marker": {
            "symbol": "circle"
           },
           "mode": "lines",
           "name": "True",
           "orientation": "v",
           "showlegend": true,
           "x": [
            "Jan",
            "Feb",
            "Mar",
            "Apr",
            "May",
            "Jun",
            "Jul",
            "Aug",
            "Sep",
            "Oct",
            "Nov",
            "Dec"
           ],
           "xaxis": "x",
           "y": [
            15.946,
            12.702,
            7.835,
            0.614,
            0.938,
            -2.122,
            -1.776,
            1.033,
            2.463,
            6.99,
            10.663,
            13.937
           ],
           "yaxis": "y",
           "type": "scatter"
          }
         ],
         "name": "2021"
        },
        {
         "data": [
          {
           "hovertemplate": "has_pv=False<br>year=2020<br>Month=%{x}<br>Consumption=%{y}<extra></extra>",
           "ids": [
            12.185,
            11.864,
            11.492,
            10.245,
            9.313,
            9.024,
            8.664,
            8.544,
            8.873,
            10.522,
            11.701,
            13.198
           ],
           "legendgroup": "False",
           "line": {
            "color": "#636efa",
            "dash": "solid"
           },
           "marker": {
            "symbol": "circle"
           },
           "mode": "lines",
           "name": "False",
           "orientation": "v",
           "showlegend": true,
           "x": [
            "Jan",
            "Feb",
            "Mar",
            "Apr",
            "May",
            "Jun",
            "Jul",
            "Aug",
            "Sep",
            "Oct",
            "Nov",
            "Dec"
           ],
           "xaxis": "x",
           "y": [
            12.185,
            11.864,
            11.492,
            10.245,
            9.313,
            9.024,
            8.664,
            8.544,
            8.873,
            10.522,
            11.701,
            13.198
           ],
           "yaxis": "y",
           "type": "scatter"
          },
          {
           "hovertemplate": "has_pv=True<br>year=2020<br>Month=%{x}<br>Consumption=%{y}<extra></extra>",
           "ids": [
            13.706,
            11.545,
            7.89,
            2.96,
            0.017,
            0.8009999999999999,
            1.5319999999999998,
            2.388,
            3.992,
            10.112,
            13.219,
            16.076
           ],
           "legendgroup": "True",
           "line": {
            "color": "#EF553B",
            "dash": "solid"
           },
           "marker": {
            "symbol": "circle"
           },
           "mode": "lines",
           "name": "True",
           "orientation": "v",
           "showlegend": true,
           "x": [
            "Jan",
            "Feb",
            "Mar",
            "Apr",
            "May",
            "Jun",
            "Jul",
            "Aug",
            "Sep",
            "Oct",
            "Nov",
            "Dec"
           ],
           "xaxis": "x",
           "y": [
            13.706,
            11.545,
            7.89,
            2.96,
            0.017,
            0.8009999999999999,
            1.5319999999999998,
            2.388,
            3.992,
            10.112,
            13.219,
            16.076
           ],
           "yaxis": "y",
           "type": "scatter"
          }
         ],
         "name": "2020"
        }
       ],
       "config": {
        "plotlyServerURL": "https://plot.ly"
       }
      },
      "text/html": "<div>                            <div id=\"f3a353a3-296c-499f-8feb-43472b6d0e08\" class=\"plotly-graph-div\" style=\"height:525px; width:100%;\"></div>            <script type=\"text/javascript\">                require([\"plotly\"], function(Plotly) {                    window.PLOTLYENV=window.PLOTLYENV || {};                                    if (document.getElementById(\"f3a353a3-296c-499f-8feb-43472b6d0e08\")) {                    Plotly.newPlot(                        \"f3a353a3-296c-499f-8feb-43472b6d0e08\",                        [{\"hovertemplate\":\"has_pv=False<br>year=2021<br>Month=%{x}<br>Consumption=%{y}<extra></extra>\",\"ids\":[13.74,13.004,11.7,10.656,9.624,8.093,8.004,7.974,8.007,9.017,10.38,11.396],\"legendgroup\":\"False\",\"line\":{\"color\":\"#636efa\",\"dash\":\"solid\"},\"marker\":{\"symbol\":\"circle\"},\"mode\":\"lines\",\"name\":\"False\",\"orientation\":\"v\",\"showlegend\":true,\"x\":[\"Jan\",\"Feb\",\"Mar\",\"Apr\",\"May\",\"Jun\",\"Jul\",\"Aug\",\"Sep\",\"Oct\",\"Nov\",\"Dec\"],\"xaxis\":\"x\",\"y\":[13.74,13.004,11.7,10.656,9.624,8.093,8.004,7.974,8.007,9.017,10.38,11.396],\"yaxis\":\"y\",\"type\":\"scatter\"},{\"hovertemplate\":\"has_pv=True<br>year=2021<br>Month=%{x}<br>Consumption=%{y}<extra></extra>\",\"ids\":[15.946,12.702,7.835,0.614,0.938,-2.122,-1.776,1.033,2.463,6.99,10.663,13.937],\"legendgroup\":\"True\",\"line\":{\"color\":\"#EF553B\",\"dash\":\"solid\"},\"marker\":{\"symbol\":\"circle\"},\"mode\":\"lines\",\"name\":\"True\",\"orientation\":\"v\",\"showlegend\":true,\"x\":[\"Jan\",\"Feb\",\"Mar\",\"Apr\",\"May\",\"Jun\",\"Jul\",\"Aug\",\"Sep\",\"Oct\",\"Nov\",\"Dec\"],\"xaxis\":\"x\",\"y\":[15.946,12.702,7.835,0.614,0.938,-2.122,-1.776,1.033,2.463,6.99,10.663,13.937],\"yaxis\":\"y\",\"type\":\"scatter\"}],                        {\"template\":{\"data\":{\"histogram2dcontour\":[{\"type\":\"histogram2dcontour\",\"colorbar\":{\"outlinewidth\":0,\"ticks\":\"\"},\"colorscale\":[[0.0,\"#0d0887\"],[0.1111111111111111,\"#46039f\"],[0.2222222222222222,\"#7201a8\"],[0.3333333333333333,\"#9c179e\"],[0.4444444444444444,\"#bd3786\"],[0.5555555555555556,\"#d8576b\"],[0.6666666666666666,\"#ed7953\"],[0.7777777777777778,\"#fb9f3a\"],[0.8888888888888888,\"#fdca26\"],[1.0,\"#f0f921\"]]}],\"choropleth\":[{\"type\":\"choropleth\",\"colorbar\":{\"outlinewidth\":0,\"ticks\":\"\"}}],\"histogram2d\":[{\"type\":\"histogram2d\",\"colorbar\":{\"outlinewidth\":0,\"ticks\":\"\"},\"colorscale\":[[0.0,\"#0d0887\"],[0.1111111111111111,\"#46039f\"],[0.2222222222222222,\"#7201a8\"],[0.3333333333333333,\"#9c179e\"],[0.4444444444444444,\"#bd3786\"],[0.5555555555555556,\"#d8576b\"],[0.6666666666666666,\"#ed7953\"],[0.7777777777777778,\"#fb9f3a\"],[0.8888888888888888,\"#fdca26\"],[1.0,\"#f0f921\"]]}],\"heatmap\":[{\"type\":\"heatmap\",\"colorbar\":{\"outlinewidth\":0,\"ticks\":\"\"},\"colorscale\":[[0.0,\"#0d0887\"],[0.1111111111111111,\"#46039f\"],[0.2222222222222222,\"#7201a8\"],[0.3333333333333333,\"#9c179e\"],[0.4444444444444444,\"#bd3786\"],[0.5555555555555556,\"#d8576b\"],[0.6666666666666666,\"#ed7953\"],[0.7777777777777778,\"#fb9f3a\"],[0.8888888888888888,\"#fdca26\"],[1.0,\"#f0f921\"]]}],\"heatmapgl\":[{\"type\":\"heatmapgl\",\"colorbar\":{\"outlinewidth\":0,\"ticks\":\"\"},\"colorscale\":[[0.0,\"#0d0887\"],[0.1111111111111111,\"#46039f\"],[0.2222222222222222,\"#7201a8\"],[0.3333333333333333,\"#9c179e\"],[0.4444444444444444,\"#bd3786\"],[0.5555555555555556,\"#d8576b\"],[0.6666666666666666,\"#ed7953\"],[0.7777777777777778,\"#fb9f3a\"],[0.8888888888888888,\"#fdca26\"],[1.0,\"#f0f921\"]]}],\"contourcarpet\":[{\"type\":\"contourcarpet\",\"colorbar\":{\"outlinewidth\":0,\"ticks\":\"\"}}],\"contour\":[{\"type\":\"contour\",\"colorbar\":{\"outlinewidth\":0,\"ticks\":\"\"},\"colorscale\":[[0.0,\"#0d0887\"],[0.1111111111111111,\"#46039f\"],[0.2222222222222222,\"#7201a8\"],[0.3333333333333333,\"#9c179e\"],[0.4444444444444444,\"#bd3786\"],[0.5555555555555556,\"#d8576b\"],[0.6666666666666666,\"#ed7953\"],[0.7777777777777778,\"#fb9f3a\"],[0.8888888888888888,\"#fdca26\"],[1.0,\"#f0f921\"]]}],\"surface\":[{\"type\":\"surface\",\"colorbar\":{\"outlinewidth\":0,\"ticks\":\"\"},\"colorscale\":[[0.0,\"#0d0887\"],[0.1111111111111111,\"#46039f\"],[0.2222222222222222,\"#7201a8\"],[0.3333333333333333,\"#9c179e\"],[0.4444444444444444,\"#bd3786\"],[0.5555555555555556,\"#d8576b\"],[0.6666666666666666,\"#ed7953\"],[0.7777777777777778,\"#fb9f3a\"],[0.8888888888888888,\"#fdca26\"],[1.0,\"#f0f921\"]]}],\"mesh3d\":[{\"type\":\"mesh3d\",\"colorbar\":{\"outlinewidth\":0,\"ticks\":\"\"}}],\"scatter\":[{\"marker\":{\"line\":{\"color\":\"#283442\"}},\"type\":\"scatter\"}],\"parcoords\":[{\"type\":\"parcoords\",\"line\":{\"colorbar\":{\"outlinewidth\":0,\"ticks\":\"\"}}}],\"scatterpolargl\":[{\"type\":\"scatterpolargl\",\"marker\":{\"colorbar\":{\"outlinewidth\":0,\"ticks\":\"\"}}}],\"bar\":[{\"error_x\":{\"color\":\"#f2f5fa\"},\"error_y\":{\"color\":\"#f2f5fa\"},\"marker\":{\"line\":{\"color\":\"rgb(17,17,17)\",\"width\":0.5},\"pattern\":{\"fillmode\":\"overlay\",\"size\":10,\"solidity\":0.2}},\"type\":\"bar\"}],\"scattergeo\":[{\"type\":\"scattergeo\",\"marker\":{\"colorbar\":{\"outlinewidth\":0,\"ticks\":\"\"}}}],\"scatterpolar\":[{\"type\":\"scatterpolar\",\"marker\":{\"colorbar\":{\"outlinewidth\":0,\"ticks\":\"\"}}}],\"histogram\":[{\"marker\":{\"pattern\":{\"fillmode\":\"overlay\",\"size\":10,\"solidity\":0.2}},\"type\":\"histogram\"}],\"scattergl\":[{\"marker\":{\"line\":{\"color\":\"#283442\"}},\"type\":\"scattergl\"}],\"scatter3d\":[{\"type\":\"scatter3d\",\"line\":{\"colorbar\":{\"outlinewidth\":0,\"ticks\":\"\"}},\"marker\":{\"colorbar\":{\"outlinewidth\":0,\"ticks\":\"\"}}}],\"scattermapbox\":[{\"type\":\"scattermapbox\",\"marker\":{\"colorbar\":{\"outlinewidth\":0,\"ticks\":\"\"}}}],\"scatterternary\":[{\"type\":\"scatterternary\",\"marker\":{\"colorbar\":{\"outlinewidth\":0,\"ticks\":\"\"}}}],\"scattercarpet\":[{\"type\":\"scattercarpet\",\"marker\":{\"colorbar\":{\"outlinewidth\":0,\"ticks\":\"\"}}}],\"carpet\":[{\"aaxis\":{\"endlinecolor\":\"#A2B1C6\",\"gridcolor\":\"#506784\",\"linecolor\":\"#506784\",\"minorgridcolor\":\"#506784\",\"startlinecolor\":\"#A2B1C6\"},\"baxis\":{\"endlinecolor\":\"#A2B1C6\",\"gridcolor\":\"#506784\",\"linecolor\":\"#506784\",\"minorgridcolor\":\"#506784\",\"startlinecolor\":\"#A2B1C6\"},\"type\":\"carpet\"}],\"table\":[{\"cells\":{\"fill\":{\"color\":\"#506784\"},\"line\":{\"color\":\"rgb(17,17,17)\"}},\"header\":{\"fill\":{\"color\":\"#2a3f5f\"},\"line\":{\"color\":\"rgb(17,17,17)\"}},\"type\":\"table\"}],\"barpolar\":[{\"marker\":{\"line\":{\"color\":\"rgb(17,17,17)\",\"width\":0.5},\"pattern\":{\"fillmode\":\"overlay\",\"size\":10,\"solidity\":0.2}},\"type\":\"barpolar\"}],\"pie\":[{\"automargin\":true,\"type\":\"pie\"}]},\"layout\":{\"autotypenumbers\":\"strict\",\"colorway\":[\"#636efa\",\"#EF553B\",\"#00cc96\",\"#ab63fa\",\"#FFA15A\",\"#19d3f3\",\"#FF6692\",\"#B6E880\",\"#FF97FF\",\"#FECB52\"],\"font\":{\"color\":\"#f2f5fa\"},\"hovermode\":\"closest\",\"hoverlabel\":{\"align\":\"left\"},\"paper_bgcolor\":\"rgb(17,17,17)\",\"plot_bgcolor\":\"rgb(17,17,17)\",\"polar\":{\"bgcolor\":\"rgb(17,17,17)\",\"angularaxis\":{\"gridcolor\":\"#506784\",\"linecolor\":\"#506784\",\"ticks\":\"\"},\"radialaxis\":{\"gridcolor\":\"#506784\",\"linecolor\":\"#506784\",\"ticks\":\"\"}},\"ternary\":{\"bgcolor\":\"rgb(17,17,17)\",\"aaxis\":{\"gridcolor\":\"#506784\",\"linecolor\":\"#506784\",\"ticks\":\"\"},\"baxis\":{\"gridcolor\":\"#506784\",\"linecolor\":\"#506784\",\"ticks\":\"\"},\"caxis\":{\"gridcolor\":\"#506784\",\"linecolor\":\"#506784\",\"ticks\":\"\"}},\"coloraxis\":{\"colorbar\":{\"outlinewidth\":0,\"ticks\":\"\"}},\"colorscale\":{\"sequential\":[[0.0,\"#0d0887\"],[0.1111111111111111,\"#46039f\"],[0.2222222222222222,\"#7201a8\"],[0.3333333333333333,\"#9c179e\"],[0.4444444444444444,\"#bd3786\"],[0.5555555555555556,\"#d8576b\"],[0.6666666666666666,\"#ed7953\"],[0.7777777777777778,\"#fb9f3a\"],[0.8888888888888888,\"#fdca26\"],[1.0,\"#f0f921\"]],\"sequentialminus\":[[0.0,\"#0d0887\"],[0.1111111111111111,\"#46039f\"],[0.2222222222222222,\"#7201a8\"],[0.3333333333333333,\"#9c179e\"],[0.4444444444444444,\"#bd3786\"],[0.5555555555555556,\"#d8576b\"],[0.6666666666666666,\"#ed7953\"],[0.7777777777777778,\"#fb9f3a\"],[0.8888888888888888,\"#fdca26\"],[1.0,\"#f0f921\"]],\"diverging\":[[0,\"#8e0152\"],[0.1,\"#c51b7d\"],[0.2,\"#de77ae\"],[0.3,\"#f1b6da\"],[0.4,\"#fde0ef\"],[0.5,\"#f7f7f7\"],[0.6,\"#e6f5d0\"],[0.7,\"#b8e186\"],[0.8,\"#7fbc41\"],[0.9,\"#4d9221\"],[1,\"#276419\"]]},\"xaxis\":{\"gridcolor\":\"#283442\",\"linecolor\":\"#506784\",\"ticks\":\"\",\"title\":{\"standoff\":15},\"zerolinecolor\":\"#283442\",\"automargin\":true,\"zerolinewidth\":2},\"yaxis\":{\"gridcolor\":\"#283442\",\"linecolor\":\"#506784\",\"ticks\":\"\",\"title\":{\"standoff\":15},\"zerolinecolor\":\"#283442\",\"automargin\":true,\"zerolinewidth\":2},\"scene\":{\"xaxis\":{\"backgroundcolor\":\"rgb(17,17,17)\",\"gridcolor\":\"#506784\",\"linecolor\":\"#506784\",\"showbackground\":true,\"ticks\":\"\",\"zerolinecolor\":\"#C8D4E3\",\"gridwidth\":2},\"yaxis\":{\"backgroundcolor\":\"rgb(17,17,17)\",\"gridcolor\":\"#506784\",\"linecolor\":\"#506784\",\"showbackground\":true,\"ticks\":\"\",\"zerolinecolor\":\"#C8D4E3\",\"gridwidth\":2},\"zaxis\":{\"backgroundcolor\":\"rgb(17,17,17)\",\"gridcolor\":\"#506784\",\"linecolor\":\"#506784\",\"showbackground\":true,\"ticks\":\"\",\"zerolinecolor\":\"#C8D4E3\",\"gridwidth\":2}},\"shapedefaults\":{\"line\":{\"color\":\"#f2f5fa\"}},\"annotationdefaults\":{\"arrowcolor\":\"#f2f5fa\",\"arrowhead\":0,\"arrowwidth\":1},\"geo\":{\"bgcolor\":\"rgb(17,17,17)\",\"landcolor\":\"rgb(17,17,17)\",\"subunitcolor\":\"#506784\",\"showland\":true,\"showlakes\":true,\"lakecolor\":\"rgb(17,17,17)\"},\"title\":{\"x\":0.05},\"updatemenudefaults\":{\"bgcolor\":\"#506784\",\"borderwidth\":0},\"sliderdefaults\":{\"bgcolor\":\"#C8D4E3\",\"borderwidth\":1,\"bordercolor\":\"rgb(17,17,17)\",\"tickwidth\":0},\"mapbox\":{\"style\":\"dark\"}}},\"xaxis\":{\"anchor\":\"y\",\"domain\":[0.0,1.0],\"title\":{\"text\":\"Month\"},\"showgrid\":false},\"yaxis\":{\"anchor\":\"x\",\"domain\":[0.0,1.0],\"title\":{\"text\":\"Consumption\"}},\"legend\":{\"title\":{\"text\":\"has_pv\"},\"tracegroupgap\":0},\"margin\":{\"t\":60},\"updatemenus\":[{\"buttons\":[{\"args\":[null,{\"frame\":{\"duration\":500,\"redraw\":false},\"mode\":\"immediate\",\"fromcurrent\":true,\"transition\":{\"duration\":500,\"easing\":\"linear\"}}],\"label\":\"&#9654;\",\"method\":\"animate\"},{\"args\":[[null],{\"frame\":{\"duration\":0,\"redraw\":false},\"mode\":\"immediate\",\"fromcurrent\":true,\"transition\":{\"duration\":0,\"easing\":\"linear\"}}],\"label\":\"&#9724;\",\"method\":\"animate\"}],\"direction\":\"left\",\"pad\":{\"r\":10,\"t\":70},\"showactive\":false,\"type\":\"buttons\",\"x\":0.1,\"xanchor\":\"right\",\"y\":0,\"yanchor\":\"top\"}],\"sliders\":[{\"active\":0,\"currentvalue\":{\"prefix\":\"year=\"},\"len\":0.9,\"pad\":{\"b\":10,\"t\":60},\"steps\":[{\"args\":[[\"2021\"],{\"frame\":{\"duration\":0,\"redraw\":false},\"mode\":\"immediate\",\"fromcurrent\":true,\"transition\":{\"duration\":0,\"easing\":\"linear\"}}],\"label\":\"2021\",\"method\":\"animate\"},{\"args\":[[\"2020\"],{\"frame\":{\"duration\":0,\"redraw\":false},\"mode\":\"immediate\",\"fromcurrent\":true,\"transition\":{\"duration\":0,\"easing\":\"linear\"}}],\"label\":\"2020\",\"method\":\"animate\"}],\"x\":0.1,\"xanchor\":\"left\",\"y\":0,\"yanchor\":\"top\"}]},                        {\"responsive\": true}                    ).then(function(){\n                            Plotly.addFrames('f3a353a3-296c-499f-8feb-43472b6d0e08', [{\"data\":[{\"hovertemplate\":\"has_pv=False<br>year=2021<br>Month=%{x}<br>Consumption=%{y}<extra></extra>\",\"ids\":[13.74,13.004,11.7,10.656,9.624,8.093,8.004,7.974,8.007,9.017,10.38,11.396],\"legendgroup\":\"False\",\"line\":{\"color\":\"#636efa\",\"dash\":\"solid\"},\"marker\":{\"symbol\":\"circle\"},\"mode\":\"lines\",\"name\":\"False\",\"orientation\":\"v\",\"showlegend\":true,\"x\":[\"Jan\",\"Feb\",\"Mar\",\"Apr\",\"May\",\"Jun\",\"Jul\",\"Aug\",\"Sep\",\"Oct\",\"Nov\",\"Dec\"],\"xaxis\":\"x\",\"y\":[13.74,13.004,11.7,10.656,9.624,8.093,8.004,7.974,8.007,9.017,10.38,11.396],\"yaxis\":\"y\",\"type\":\"scatter\"},{\"hovertemplate\":\"has_pv=True<br>year=2021<br>Month=%{x}<br>Consumption=%{y}<extra></extra>\",\"ids\":[15.946,12.702,7.835,0.614,0.938,-2.122,-1.776,1.033,2.463,6.99,10.663,13.937],\"legendgroup\":\"True\",\"line\":{\"color\":\"#EF553B\",\"dash\":\"solid\"},\"marker\":{\"symbol\":\"circle\"},\"mode\":\"lines\",\"name\":\"True\",\"orientation\":\"v\",\"showlegend\":true,\"x\":[\"Jan\",\"Feb\",\"Mar\",\"Apr\",\"May\",\"Jun\",\"Jul\",\"Aug\",\"Sep\",\"Oct\",\"Nov\",\"Dec\"],\"xaxis\":\"x\",\"y\":[15.946,12.702,7.835,0.614,0.938,-2.122,-1.776,1.033,2.463,6.99,10.663,13.937],\"yaxis\":\"y\",\"type\":\"scatter\"}],\"name\":\"2021\"},{\"data\":[{\"hovertemplate\":\"has_pv=False<br>year=2020<br>Month=%{x}<br>Consumption=%{y}<extra></extra>\",\"ids\":[12.185,11.864,11.492,10.245,9.313,9.024,8.664,8.544,8.873,10.522,11.701,13.198],\"legendgroup\":\"False\",\"line\":{\"color\":\"#636efa\",\"dash\":\"solid\"},\"marker\":{\"symbol\":\"circle\"},\"mode\":\"lines\",\"name\":\"False\",\"orientation\":\"v\",\"showlegend\":true,\"x\":[\"Jan\",\"Feb\",\"Mar\",\"Apr\",\"May\",\"Jun\",\"Jul\",\"Aug\",\"Sep\",\"Oct\",\"Nov\",\"Dec\"],\"xaxis\":\"x\",\"y\":[12.185,11.864,11.492,10.245,9.313,9.024,8.664,8.544,8.873,10.522,11.701,13.198],\"yaxis\":\"y\",\"type\":\"scatter\"},{\"hovertemplate\":\"has_pv=True<br>year=2020<br>Month=%{x}<br>Consumption=%{y}<extra></extra>\",\"ids\":[13.706,11.545,7.89,2.96,0.017,0.8009999999999999,1.5319999999999998,2.388,3.992,10.112,13.219,16.076],\"legendgroup\":\"True\",\"line\":{\"color\":\"#EF553B\",\"dash\":\"solid\"},\"marker\":{\"symbol\":\"circle\"},\"mode\":\"lines\",\"name\":\"True\",\"orientation\":\"v\",\"showlegend\":true,\"x\":[\"Jan\",\"Feb\",\"Mar\",\"Apr\",\"May\",\"Jun\",\"Jul\",\"Aug\",\"Sep\",\"Oct\",\"Nov\",\"Dec\"],\"xaxis\":\"x\",\"y\":[13.706,11.545,7.89,2.96,0.017,0.8009999999999999,1.5319999999999998,2.388,3.992,10.112,13.219,16.076],\"yaxis\":\"y\",\"type\":\"scatter\"}],\"name\":\"2020\"}]);\n                        }).then(function(){\n                            \nvar gd = document.getElementById('f3a353a3-296c-499f-8feb-43472b6d0e08');\nvar x = new MutationObserver(function (mutations, observer) {{\n        var display = window.getComputedStyle(gd).display;\n        if (!display || display === 'none') {{\n            console.log([gd, 'removed!']);\n            Plotly.purge(gd);\n            observer.disconnect();\n        }}\n}});\n\n// Listen for the removal of the full notebook cells\nvar notebookContainer = gd.closest('#notebook-container');\nif (notebookContainer) {{\n    x.observe(notebookContainer, {childList: true});\n}}\n\n// Listen for the clearing of the current output cell\nvar outputEl = gd.closest('.output');\nif (outputEl) {{\n    x.observe(outputEl, {childList: true});\n}}\n\n                        })                };                });            </script>        </div>"
     },
     "metadata": {},
     "output_type": "display_data"
    }
   ],
   "source": [
    "fig_pv_monthly_electricity = px.line(summary_time_year_remove(get_pv_monthly_data(dataset, fuel='Net Electricity', summary_stat='mean')),\n",
    "                x=\"summary_time\", y=\"value\", color=\"segment_1_value\",\n",
    "                labels={\n",
    "                    'summary_time': 'Month',\n",
    "                    'value': 'Consumption',\n",
    "                    'time_period': 'year',\n",
    "                    'segment_1_value': 'has_pv'\n",
    "                },\n",
    "                animation_frame=\"time_period\", animation_group=\"value\")\n",
    "\n",
    "fig_pv_monthly_electricity.update_layout(xaxis=dict(showgrid=False))\n",
    "fig_pv_monthly_electricity.show()"
   ],
   "metadata": {
    "collapsed": false,
    "pycharm": {
     "name": "#%%\n"
    }
   }
  },
  {
   "cell_type": "markdown",
   "source": [
    "This is the plot for the electricity consumption group by *‘has_pv’* segmentation. We found that **those households with pv(Photovoltaics) used less electricity on average per household in both 2020 and 2021, and in most months, they have less electricity consumption on average per household.**\n",
    "We also found that the pattern of electricity consumption of those who have no pv is quite similar as monthly the gas consumption pattern, higher in colder month and lower in Jun to Sep.\n",
    "But to those who have pv, the pattern is different. They had much lower consumption of electricity in Apr to Sep, especially in Jun and July, the electricity their pv produce can cover the usage. Their electricity consumption pattern were more significantly influenced by time. This is mainly caused by the sunshine duration and solar elevation angle.\n",
    "So, the pv is a very important factor which impact the energy use pattern and can help a lot with decrease the usage of net electricity.\n",
    "If pv can be widely used, our need of net electricity supply will decrease, which also help low the stress on electricity generation and transmission."
   ],
   "metadata": {
    "collapsed": false,
    "pycharm": {
     "name": "#%% md\n"
    }
   }
  },
  {
   "cell_type": "code",
   "execution_count": 103,
   "outputs": [],
   "source": [
    "# electricity_value_per_m2 = (pv_monthly_electricity['value']/pv_monthly_electricity['mean_floor_area']).tolist()\n",
    "# pv_monthly_electricity_value_per_m2 = pv_monthly_electricity.loc[:,\n",
    "#                                       ['fuel', 'unit', 'summary_stat', 'summary_time','time_period', 'segment_1_value', 'value', 'n_sample', 'mean_floor_area', 'n_mean_floor_area']]\n",
    "# pv_monthly_electricity_value_per_m2['value_per_m2'] = electricity_value_per_m2\n",
    "# pv_monthly_electricity_value_per_m2\n",
    "\n",
    "def get_value_per_m2_data(dataframe):\n",
    "    value_per_m2 = (dataframe['value']/dataframe['mean_floor_area']).tolist()\n",
    "    value_per_m2_data = dataframe.loc[:,\n",
    "                                          ['fuel', 'unit', 'summary_stat', 'summary_time','time_period', 'segment_1_value', 'value', 'n_sample', 'mean_floor_area', 'n_mean_floor_area']]\n",
    "    value_per_m2_data['value_per_m2'] = value_per_m2\n",
    "    return value_per_m2_data\n",
    "\n",
    "\n",
    "pv_monthly_electricity_data = summary_time_year_remove(get_pv_monthly_data(dataset, fuel='Net Electricity', summary_stat='mean'))\n",
    "pv_monthly_gas_data = summary_time_year_remove(get_pv_monthly_data(dataset, fuel='Gas', summary_stat='mean'))\n",
    "\n",
    "\n",
    "# get_value_per_m2_data(pv_monthly_electricity_data)\n",
    "# get_value_per_m2_data(pv_monthly_gas_data)"
   ],
   "metadata": {
    "collapsed": false,
    "pycharm": {
     "name": "#%%\n"
    }
   }
  },
  {
   "cell_type": "code",
   "execution_count": 104,
   "outputs": [
    {
     "data": {
      "application/vnd.plotly.v1+json": {
       "data": [
        {
         "hovertemplate": "has_pv=False<br>year=2021<br>Month=%{x}<br>value_per_m2=%{y}<extra></extra>",
         "ids": [
          0.14624167305424146,
          0.13840805796196184,
          0.12452893557020558,
          0.11341712285778725,
          0.10243303213056912,
          0.08613783551877555,
          0.08519056412854065,
          0.08487125916554013,
          0.0852224946248407,
          0.09597242837919177,
          0.11047951719818241,
          0.1212933119451336
         ],
         "legendgroup": "False",
         "line": {
          "color": "#636efa",
          "dash": "solid"
         },
         "marker": {
          "symbol": "circle"
         },
         "mode": "lines",
         "name": "False",
         "orientation": "v",
         "showlegend": true,
         "x": [
          "Jan",
          "Feb",
          "Mar",
          "Apr",
          "May",
          "Jun",
          "Jul",
          "Aug",
          "Sep",
          "Oct",
          "Nov",
          "Dec"
         ],
         "xaxis": "x",
         "y": [
          0.14624167305424146,
          0.13840805796196184,
          0.12452893557020558,
          0.11341712285778725,
          0.10243303213056912,
          0.08613783551877555,
          0.08519056412854065,
          0.08487125916554013,
          0.0852224946248407,
          0.09597242837919177,
          0.11047951719818241,
          0.1212933119451336
         ],
         "yaxis": "y",
         "type": "scatter"
        },
        {
         "hovertemplate": "has_pv=True<br>year=2021<br>Month=%{x}<br>value_per_m2=%{y}<extra></extra>",
         "ids": [
          0.13865367300779485,
          0.11044644139878403,
          0.0681268987844019,
          0.005338853331668509,
          0.008156098412223227,
          -0.018451216237460218,
          -0.015442676737855491,
          0.00898214249448464,
          0.021416279732735403,
          0.060779454052708265,
          0.09271692683319431,
          0.12118501446818242
         ],
         "legendgroup": "True",
         "line": {
          "color": "#EF553B",
          "dash": "solid"
         },
         "marker": {
          "symbol": "circle"
         },
         "mode": "lines",
         "name": "True",
         "orientation": "v",
         "showlegend": true,
         "x": [
          "Jan",
          "Feb",
          "Mar",
          "Apr",
          "May",
          "Jun",
          "Jul",
          "Aug",
          "Sep",
          "Oct",
          "Nov",
          "Dec"
         ],
         "xaxis": "x",
         "y": [
          0.13865367300779485,
          0.11044644139878403,
          0.0681268987844019,
          0.005338853331668509,
          0.008156098412223227,
          -0.018451216237460218,
          -0.015442676737855491,
          0.00898214249448464,
          0.021416279732735403,
          0.060779454052708265,
          0.09271692683319431,
          0.12118501446818242
         ],
         "yaxis": "y",
         "type": "scatter"
        }
       ],
       "layout": {
        "template": {
         "data": {
          "histogram2dcontour": [
           {
            "type": "histogram2dcontour",
            "colorbar": {
             "outlinewidth": 0,
             "ticks": ""
            },
            "colorscale": [
             [
              0.0,
              "#0d0887"
             ],
             [
              0.1111111111111111,
              "#46039f"
             ],
             [
              0.2222222222222222,
              "#7201a8"
             ],
             [
              0.3333333333333333,
              "#9c179e"
             ],
             [
              0.4444444444444444,
              "#bd3786"
             ],
             [
              0.5555555555555556,
              "#d8576b"
             ],
             [
              0.6666666666666666,
              "#ed7953"
             ],
             [
              0.7777777777777778,
              "#fb9f3a"
             ],
             [
              0.8888888888888888,
              "#fdca26"
             ],
             [
              1.0,
              "#f0f921"
             ]
            ]
           }
          ],
          "choropleth": [
           {
            "type": "choropleth",
            "colorbar": {
             "outlinewidth": 0,
             "ticks": ""
            }
           }
          ],
          "histogram2d": [
           {
            "type": "histogram2d",
            "colorbar": {
             "outlinewidth": 0,
             "ticks": ""
            },
            "colorscale": [
             [
              0.0,
              "#0d0887"
             ],
             [
              0.1111111111111111,
              "#46039f"
             ],
             [
              0.2222222222222222,
              "#7201a8"
             ],
             [
              0.3333333333333333,
              "#9c179e"
             ],
             [
              0.4444444444444444,
              "#bd3786"
             ],
             [
              0.5555555555555556,
              "#d8576b"
             ],
             [
              0.6666666666666666,
              "#ed7953"
             ],
             [
              0.7777777777777778,
              "#fb9f3a"
             ],
             [
              0.8888888888888888,
              "#fdca26"
             ],
             [
              1.0,
              "#f0f921"
             ]
            ]
           }
          ],
          "heatmap": [
           {
            "type": "heatmap",
            "colorbar": {
             "outlinewidth": 0,
             "ticks": ""
            },
            "colorscale": [
             [
              0.0,
              "#0d0887"
             ],
             [
              0.1111111111111111,
              "#46039f"
             ],
             [
              0.2222222222222222,
              "#7201a8"
             ],
             [
              0.3333333333333333,
              "#9c179e"
             ],
             [
              0.4444444444444444,
              "#bd3786"
             ],
             [
              0.5555555555555556,
              "#d8576b"
             ],
             [
              0.6666666666666666,
              "#ed7953"
             ],
             [
              0.7777777777777778,
              "#fb9f3a"
             ],
             [
              0.8888888888888888,
              "#fdca26"
             ],
             [
              1.0,
              "#f0f921"
             ]
            ]
           }
          ],
          "heatmapgl": [
           {
            "type": "heatmapgl",
            "colorbar": {
             "outlinewidth": 0,
             "ticks": ""
            },
            "colorscale": [
             [
              0.0,
              "#0d0887"
             ],
             [
              0.1111111111111111,
              "#46039f"
             ],
             [
              0.2222222222222222,
              "#7201a8"
             ],
             [
              0.3333333333333333,
              "#9c179e"
             ],
             [
              0.4444444444444444,
              "#bd3786"
             ],
             [
              0.5555555555555556,
              "#d8576b"
             ],
             [
              0.6666666666666666,
              "#ed7953"
             ],
             [
              0.7777777777777778,
              "#fb9f3a"
             ],
             [
              0.8888888888888888,
              "#fdca26"
             ],
             [
              1.0,
              "#f0f921"
             ]
            ]
           }
          ],
          "contourcarpet": [
           {
            "type": "contourcarpet",
            "colorbar": {
             "outlinewidth": 0,
             "ticks": ""
            }
           }
          ],
          "contour": [
           {
            "type": "contour",
            "colorbar": {
             "outlinewidth": 0,
             "ticks": ""
            },
            "colorscale": [
             [
              0.0,
              "#0d0887"
             ],
             [
              0.1111111111111111,
              "#46039f"
             ],
             [
              0.2222222222222222,
              "#7201a8"
             ],
             [
              0.3333333333333333,
              "#9c179e"
             ],
             [
              0.4444444444444444,
              "#bd3786"
             ],
             [
              0.5555555555555556,
              "#d8576b"
             ],
             [
              0.6666666666666666,
              "#ed7953"
             ],
             [
              0.7777777777777778,
              "#fb9f3a"
             ],
             [
              0.8888888888888888,
              "#fdca26"
             ],
             [
              1.0,
              "#f0f921"
             ]
            ]
           }
          ],
          "surface": [
           {
            "type": "surface",
            "colorbar": {
             "outlinewidth": 0,
             "ticks": ""
            },
            "colorscale": [
             [
              0.0,
              "#0d0887"
             ],
             [
              0.1111111111111111,
              "#46039f"
             ],
             [
              0.2222222222222222,
              "#7201a8"
             ],
             [
              0.3333333333333333,
              "#9c179e"
             ],
             [
              0.4444444444444444,
              "#bd3786"
             ],
             [
              0.5555555555555556,
              "#d8576b"
             ],
             [
              0.6666666666666666,
              "#ed7953"
             ],
             [
              0.7777777777777778,
              "#fb9f3a"
             ],
             [
              0.8888888888888888,
              "#fdca26"
             ],
             [
              1.0,
              "#f0f921"
             ]
            ]
           }
          ],
          "mesh3d": [
           {
            "type": "mesh3d",
            "colorbar": {
             "outlinewidth": 0,
             "ticks": ""
            }
           }
          ],
          "scatter": [
           {
            "marker": {
             "line": {
              "color": "#283442"
             }
            },
            "type": "scatter"
           }
          ],
          "parcoords": [
           {
            "type": "parcoords",
            "line": {
             "colorbar": {
              "outlinewidth": 0,
              "ticks": ""
             }
            }
           }
          ],
          "scatterpolargl": [
           {
            "type": "scatterpolargl",
            "marker": {
             "colorbar": {
              "outlinewidth": 0,
              "ticks": ""
             }
            }
           }
          ],
          "bar": [
           {
            "error_x": {
             "color": "#f2f5fa"
            },
            "error_y": {
             "color": "#f2f5fa"
            },
            "marker": {
             "line": {
              "color": "rgb(17,17,17)",
              "width": 0.5
             },
             "pattern": {
              "fillmode": "overlay",
              "size": 10,
              "solidity": 0.2
             }
            },
            "type": "bar"
           }
          ],
          "scattergeo": [
           {
            "type": "scattergeo",
            "marker": {
             "colorbar": {
              "outlinewidth": 0,
              "ticks": ""
             }
            }
           }
          ],
          "scatterpolar": [
           {
            "type": "scatterpolar",
            "marker": {
             "colorbar": {
              "outlinewidth": 0,
              "ticks": ""
             }
            }
           }
          ],
          "histogram": [
           {
            "marker": {
             "pattern": {
              "fillmode": "overlay",
              "size": 10,
              "solidity": 0.2
             }
            },
            "type": "histogram"
           }
          ],
          "scattergl": [
           {
            "marker": {
             "line": {
              "color": "#283442"
             }
            },
            "type": "scattergl"
           }
          ],
          "scatter3d": [
           {
            "type": "scatter3d",
            "line": {
             "colorbar": {
              "outlinewidth": 0,
              "ticks": ""
             }
            },
            "marker": {
             "colorbar": {
              "outlinewidth": 0,
              "ticks": ""
             }
            }
           }
          ],
          "scattermapbox": [
           {
            "type": "scattermapbox",
            "marker": {
             "colorbar": {
              "outlinewidth": 0,
              "ticks": ""
             }
            }
           }
          ],
          "scatterternary": [
           {
            "type": "scatterternary",
            "marker": {
             "colorbar": {
              "outlinewidth": 0,
              "ticks": ""
             }
            }
           }
          ],
          "scattercarpet": [
           {
            "type": "scattercarpet",
            "marker": {
             "colorbar": {
              "outlinewidth": 0,
              "ticks": ""
             }
            }
           }
          ],
          "carpet": [
           {
            "aaxis": {
             "endlinecolor": "#A2B1C6",
             "gridcolor": "#506784",
             "linecolor": "#506784",
             "minorgridcolor": "#506784",
             "startlinecolor": "#A2B1C6"
            },
            "baxis": {
             "endlinecolor": "#A2B1C6",
             "gridcolor": "#506784",
             "linecolor": "#506784",
             "minorgridcolor": "#506784",
             "startlinecolor": "#A2B1C6"
            },
            "type": "carpet"
           }
          ],
          "table": [
           {
            "cells": {
             "fill": {
              "color": "#506784"
             },
             "line": {
              "color": "rgb(17,17,17)"
             }
            },
            "header": {
             "fill": {
              "color": "#2a3f5f"
             },
             "line": {
              "color": "rgb(17,17,17)"
             }
            },
            "type": "table"
           }
          ],
          "barpolar": [
           {
            "marker": {
             "line": {
              "color": "rgb(17,17,17)",
              "width": 0.5
             },
             "pattern": {
              "fillmode": "overlay",
              "size": 10,
              "solidity": 0.2
             }
            },
            "type": "barpolar"
           }
          ],
          "pie": [
           {
            "automargin": true,
            "type": "pie"
           }
          ]
         },
         "layout": {
          "autotypenumbers": "strict",
          "colorway": [
           "#636efa",
           "#EF553B",
           "#00cc96",
           "#ab63fa",
           "#FFA15A",
           "#19d3f3",
           "#FF6692",
           "#B6E880",
           "#FF97FF",
           "#FECB52"
          ],
          "font": {
           "color": "#f2f5fa"
          },
          "hovermode": "closest",
          "hoverlabel": {
           "align": "left"
          },
          "paper_bgcolor": "rgb(17,17,17)",
          "plot_bgcolor": "rgb(17,17,17)",
          "polar": {
           "bgcolor": "rgb(17,17,17)",
           "angularaxis": {
            "gridcolor": "#506784",
            "linecolor": "#506784",
            "ticks": ""
           },
           "radialaxis": {
            "gridcolor": "#506784",
            "linecolor": "#506784",
            "ticks": ""
           }
          },
          "ternary": {
           "bgcolor": "rgb(17,17,17)",
           "aaxis": {
            "gridcolor": "#506784",
            "linecolor": "#506784",
            "ticks": ""
           },
           "baxis": {
            "gridcolor": "#506784",
            "linecolor": "#506784",
            "ticks": ""
           },
           "caxis": {
            "gridcolor": "#506784",
            "linecolor": "#506784",
            "ticks": ""
           }
          },
          "coloraxis": {
           "colorbar": {
            "outlinewidth": 0,
            "ticks": ""
           }
          },
          "colorscale": {
           "sequential": [
            [
             0.0,
             "#0d0887"
            ],
            [
             0.1111111111111111,
             "#46039f"
            ],
            [
             0.2222222222222222,
             "#7201a8"
            ],
            [
             0.3333333333333333,
             "#9c179e"
            ],
            [
             0.4444444444444444,
             "#bd3786"
            ],
            [
             0.5555555555555556,
             "#d8576b"
            ],
            [
             0.6666666666666666,
             "#ed7953"
            ],
            [
             0.7777777777777778,
             "#fb9f3a"
            ],
            [
             0.8888888888888888,
             "#fdca26"
            ],
            [
             1.0,
             "#f0f921"
            ]
           ],
           "sequentialminus": [
            [
             0.0,
             "#0d0887"
            ],
            [
             0.1111111111111111,
             "#46039f"
            ],
            [
             0.2222222222222222,
             "#7201a8"
            ],
            [
             0.3333333333333333,
             "#9c179e"
            ],
            [
             0.4444444444444444,
             "#bd3786"
            ],
            [
             0.5555555555555556,
             "#d8576b"
            ],
            [
             0.6666666666666666,
             "#ed7953"
            ],
            [
             0.7777777777777778,
             "#fb9f3a"
            ],
            [
             0.8888888888888888,
             "#fdca26"
            ],
            [
             1.0,
             "#f0f921"
            ]
           ],
           "diverging": [
            [
             0,
             "#8e0152"
            ],
            [
             0.1,
             "#c51b7d"
            ],
            [
             0.2,
             "#de77ae"
            ],
            [
             0.3,
             "#f1b6da"
            ],
            [
             0.4,
             "#fde0ef"
            ],
            [
             0.5,
             "#f7f7f7"
            ],
            [
             0.6,
             "#e6f5d0"
            ],
            [
             0.7,
             "#b8e186"
            ],
            [
             0.8,
             "#7fbc41"
            ],
            [
             0.9,
             "#4d9221"
            ],
            [
             1,
             "#276419"
            ]
           ]
          },
          "xaxis": {
           "gridcolor": "#283442",
           "linecolor": "#506784",
           "ticks": "",
           "title": {
            "standoff": 15
           },
           "zerolinecolor": "#283442",
           "automargin": true,
           "zerolinewidth": 2
          },
          "yaxis": {
           "gridcolor": "#283442",
           "linecolor": "#506784",
           "ticks": "",
           "title": {
            "standoff": 15
           },
           "zerolinecolor": "#283442",
           "automargin": true,
           "zerolinewidth": 2
          },
          "scene": {
           "xaxis": {
            "backgroundcolor": "rgb(17,17,17)",
            "gridcolor": "#506784",
            "linecolor": "#506784",
            "showbackground": true,
            "ticks": "",
            "zerolinecolor": "#C8D4E3",
            "gridwidth": 2
           },
           "yaxis": {
            "backgroundcolor": "rgb(17,17,17)",
            "gridcolor": "#506784",
            "linecolor": "#506784",
            "showbackground": true,
            "ticks": "",
            "zerolinecolor": "#C8D4E3",
            "gridwidth": 2
           },
           "zaxis": {
            "backgroundcolor": "rgb(17,17,17)",
            "gridcolor": "#506784",
            "linecolor": "#506784",
            "showbackground": true,
            "ticks": "",
            "zerolinecolor": "#C8D4E3",
            "gridwidth": 2
           }
          },
          "shapedefaults": {
           "line": {
            "color": "#f2f5fa"
           }
          },
          "annotationdefaults": {
           "arrowcolor": "#f2f5fa",
           "arrowhead": 0,
           "arrowwidth": 1
          },
          "geo": {
           "bgcolor": "rgb(17,17,17)",
           "landcolor": "rgb(17,17,17)",
           "subunitcolor": "#506784",
           "showland": true,
           "showlakes": true,
           "lakecolor": "rgb(17,17,17)"
          },
          "title": {
           "x": 0.05
          },
          "updatemenudefaults": {
           "bgcolor": "#506784",
           "borderwidth": 0
          },
          "sliderdefaults": {
           "bgcolor": "#C8D4E3",
           "borderwidth": 1,
           "bordercolor": "rgb(17,17,17)",
           "tickwidth": 0
          },
          "mapbox": {
           "style": "dark"
          }
         }
        },
        "xaxis": {
         "anchor": "y",
         "domain": [
          0.0,
          1.0
         ],
         "title": {
          "text": "Month"
         },
         "showgrid": false
        },
        "yaxis": {
         "anchor": "x",
         "domain": [
          0.0,
          1.0
         ],
         "title": {
          "text": "value_per_m2"
         }
        },
        "legend": {
         "title": {
          "text": "has_pv"
         },
         "tracegroupgap": 0
        },
        "title": {
         "text": "Net Electricity Consumption per m^2"
        },
        "updatemenus": [
         {
          "buttons": [
           {
            "args": [
             null,
             {
              "frame": {
               "duration": 500,
               "redraw": false
              },
              "mode": "immediate",
              "fromcurrent": true,
              "transition": {
               "duration": 500,
               "easing": "linear"
              }
             }
            ],
            "label": "&#9654;",
            "method": "animate"
           },
           {
            "args": [
             [
              null
             ],
             {
              "frame": {
               "duration": 0,
               "redraw": false
              },
              "mode": "immediate",
              "fromcurrent": true,
              "transition": {
               "duration": 0,
               "easing": "linear"
              }
             }
            ],
            "label": "&#9724;",
            "method": "animate"
           }
          ],
          "direction": "left",
          "pad": {
           "r": 10,
           "t": 70
          },
          "showactive": false,
          "type": "buttons",
          "x": 0.1,
          "xanchor": "right",
          "y": 0,
          "yanchor": "top"
         }
        ],
        "sliders": [
         {
          "active": 0,
          "currentvalue": {
           "prefix": "year="
          },
          "len": 0.9,
          "pad": {
           "b": 10,
           "t": 60
          },
          "steps": [
           {
            "args": [
             [
              "2021"
             ],
             {
              "frame": {
               "duration": 0,
               "redraw": false
              },
              "mode": "immediate",
              "fromcurrent": true,
              "transition": {
               "duration": 0,
               "easing": "linear"
              }
             }
            ],
            "label": "2021",
            "method": "animate"
           },
           {
            "args": [
             [
              "2020"
             ],
             {
              "frame": {
               "duration": 0,
               "redraw": false
              },
              "mode": "immediate",
              "fromcurrent": true,
              "transition": {
               "duration": 0,
               "easing": "linear"
              }
             }
            ],
            "label": "2020",
            "method": "animate"
           }
          ],
          "x": 0.1,
          "xanchor": "left",
          "y": 0,
          "yanchor": "top"
         }
        ]
       },
       "frames": [
        {
         "data": [
          {
           "hovertemplate": "has_pv=False<br>year=2021<br>Month=%{x}<br>value_per_m2=%{y}<extra></extra>",
           "ids": [
            0.14624167305424146,
            0.13840805796196184,
            0.12452893557020558,
            0.11341712285778725,
            0.10243303213056912,
            0.08613783551877555,
            0.08519056412854065,
            0.08487125916554013,
            0.0852224946248407,
            0.09597242837919177,
            0.11047951719818241,
            0.1212933119451336
           ],
           "legendgroup": "False",
           "line": {
            "color": "#636efa",
            "dash": "solid"
           },
           "marker": {
            "symbol": "circle"
           },
           "mode": "lines",
           "name": "False",
           "orientation": "v",
           "showlegend": true,
           "x": [
            "Jan",
            "Feb",
            "Mar",
            "Apr",
            "May",
            "Jun",
            "Jul",
            "Aug",
            "Sep",
            "Oct",
            "Nov",
            "Dec"
           ],
           "xaxis": "x",
           "y": [
            0.14624167305424146,
            0.13840805796196184,
            0.12452893557020558,
            0.11341712285778725,
            0.10243303213056912,
            0.08613783551877555,
            0.08519056412854065,
            0.08487125916554013,
            0.0852224946248407,
            0.09597242837919177,
            0.11047951719818241,
            0.1212933119451336
           ],
           "yaxis": "y",
           "type": "scatter"
          },
          {
           "hovertemplate": "has_pv=True<br>year=2021<br>Month=%{x}<br>value_per_m2=%{y}<extra></extra>",
           "ids": [
            0.13865367300779485,
            0.11044644139878403,
            0.0681268987844019,
            0.005338853331668509,
            0.008156098412223227,
            -0.018451216237460218,
            -0.015442676737855491,
            0.00898214249448464,
            0.021416279732735403,
            0.060779454052708265,
            0.09271692683319431,
            0.12118501446818242
           ],
           "legendgroup": "True",
           "line": {
            "color": "#EF553B",
            "dash": "solid"
           },
           "marker": {
            "symbol": "circle"
           },
           "mode": "lines",
           "name": "True",
           "orientation": "v",
           "showlegend": true,
           "x": [
            "Jan",
            "Feb",
            "Mar",
            "Apr",
            "May",
            "Jun",
            "Jul",
            "Aug",
            "Sep",
            "Oct",
            "Nov",
            "Dec"
           ],
           "xaxis": "x",
           "y": [
            0.13865367300779485,
            0.11044644139878403,
            0.0681268987844019,
            0.005338853331668509,
            0.008156098412223227,
            -0.018451216237460218,
            -0.015442676737855491,
            0.00898214249448464,
            0.021416279732735403,
            0.060779454052708265,
            0.09271692683319431,
            0.12118501446818242
           ],
           "yaxis": "y",
           "type": "scatter"
          }
         ],
         "name": "2021"
        },
        {
         "data": [
          {
           "hovertemplate": "has_pv=False<br>year=2020<br>Month=%{x}<br>value_per_m2=%{y}<extra></extra>",
           "ids": [
            0.12969103247204747,
            0.12627446936794182,
            0.12231508782673528,
            0.10904264486468002,
            0.09912290401413032,
            0.09604693287055857,
            0.09221527331455225,
            0.09093805346255014,
            0.09443976455678925,
            0.11199089402305157,
            0.12453957906897228,
            0.14047289672269858
           ],
           "legendgroup": "False",
           "line": {
            "color": "#636efa",
            "dash": "solid"
           },
           "marker": {
            "symbol": "circle"
           },
           "mode": "lines",
           "name": "False",
           "orientation": "v",
           "showlegend": true,
           "x": [
            "Jan",
            "Feb",
            "Mar",
            "Apr",
            "May",
            "Jun",
            "Jul",
            "Aug",
            "Sep",
            "Oct",
            "Nov",
            "Dec"
           ],
           "xaxis": "x",
           "y": [
            0.12969103247204747,
            0.12627446936794182,
            0.12231508782673528,
            0.10904264486468002,
            0.09912290401413032,
            0.09604693287055857,
            0.09221527331455225,
            0.09093805346255014,
            0.09443976455678925,
            0.11199089402305157,
            0.12453957906897228,
            0.14047289672269858
           ],
           "yaxis": "y",
           "type": "scatter"
          },
          {
           "hovertemplate": "has_pv=True<br>year=2020<br>Month=%{x}<br>value_per_m2=%{y}<extra></extra>",
           "ids": [
            0.11917642306815729,
            0.10038609399692659,
            0.06860513483202692,
            0.025737794563092484,
            1.478184147204636E-4,
            0.006964855893593608,
            0.01332104772657354,
            0.02076413966779218,
            0.03471124185671121,
            0.08792587115607811,
            0.1149418602464593,
            0.1397840491203631
           ],
           "legendgroup": "True",
           "line": {
            "color": "#EF553B",
            "dash": "solid"
           },
           "marker": {
            "symbol": "circle"
           },
           "mode": "lines",
           "name": "True",
           "orientation": "v",
           "showlegend": true,
           "x": [
            "Jan",
            "Feb",
            "Mar",
            "Apr",
            "May",
            "Jun",
            "Jul",
            "Aug",
            "Sep",
            "Oct",
            "Nov",
            "Dec"
           ],
           "xaxis": "x",
           "y": [
            0.11917642306815729,
            0.10038609399692659,
            0.06860513483202692,
            0.025737794563092484,
            1.478184147204636E-4,
            0.006964855893593608,
            0.01332104772657354,
            0.02076413966779218,
            0.03471124185671121,
            0.08792587115607811,
            0.1149418602464593,
            0.1397840491203631
           ],
           "yaxis": "y",
           "type": "scatter"
          }
         ],
         "name": "2020"
        }
       ],
       "config": {
        "plotlyServerURL": "https://plot.ly"
       }
      },
      "text/html": "<div>                            <div id=\"5ef98cdd-8ffc-4d45-9843-a74de026004e\" class=\"plotly-graph-div\" style=\"height:525px; width:100%;\"></div>            <script type=\"text/javascript\">                require([\"plotly\"], function(Plotly) {                    window.PLOTLYENV=window.PLOTLYENV || {};                                    if (document.getElementById(\"5ef98cdd-8ffc-4d45-9843-a74de026004e\")) {                    Plotly.newPlot(                        \"5ef98cdd-8ffc-4d45-9843-a74de026004e\",                        [{\"hovertemplate\":\"has_pv=False<br>year=2021<br>Month=%{x}<br>value_per_m2=%{y}<extra></extra>\",\"ids\":[0.14624167305424146,0.13840805796196184,0.12452893557020558,0.11341712285778725,0.10243303213056912,0.08613783551877555,0.08519056412854065,0.08487125916554013,0.0852224946248407,0.09597242837919177,0.11047951719818241,0.1212933119451336],\"legendgroup\":\"False\",\"line\":{\"color\":\"#636efa\",\"dash\":\"solid\"},\"marker\":{\"symbol\":\"circle\"},\"mode\":\"lines\",\"name\":\"False\",\"orientation\":\"v\",\"showlegend\":true,\"x\":[\"Jan\",\"Feb\",\"Mar\",\"Apr\",\"May\",\"Jun\",\"Jul\",\"Aug\",\"Sep\",\"Oct\",\"Nov\",\"Dec\"],\"xaxis\":\"x\",\"y\":[0.14624167305424146,0.13840805796196184,0.12452893557020558,0.11341712285778725,0.10243303213056912,0.08613783551877555,0.08519056412854065,0.08487125916554013,0.0852224946248407,0.09597242837919177,0.11047951719818241,0.1212933119451336],\"yaxis\":\"y\",\"type\":\"scatter\"},{\"hovertemplate\":\"has_pv=True<br>year=2021<br>Month=%{x}<br>value_per_m2=%{y}<extra></extra>\",\"ids\":[0.13865367300779485,0.11044644139878403,0.0681268987844019,0.005338853331668509,0.008156098412223227,-0.018451216237460218,-0.015442676737855491,0.00898214249448464,0.021416279732735403,0.060779454052708265,0.09271692683319431,0.12118501446818242],\"legendgroup\":\"True\",\"line\":{\"color\":\"#EF553B\",\"dash\":\"solid\"},\"marker\":{\"symbol\":\"circle\"},\"mode\":\"lines\",\"name\":\"True\",\"orientation\":\"v\",\"showlegend\":true,\"x\":[\"Jan\",\"Feb\",\"Mar\",\"Apr\",\"May\",\"Jun\",\"Jul\",\"Aug\",\"Sep\",\"Oct\",\"Nov\",\"Dec\"],\"xaxis\":\"x\",\"y\":[0.13865367300779485,0.11044644139878403,0.0681268987844019,0.005338853331668509,0.008156098412223227,-0.018451216237460218,-0.015442676737855491,0.00898214249448464,0.021416279732735403,0.060779454052708265,0.09271692683319431,0.12118501446818242],\"yaxis\":\"y\",\"type\":\"scatter\"}],                        {\"template\":{\"data\":{\"histogram2dcontour\":[{\"type\":\"histogram2dcontour\",\"colorbar\":{\"outlinewidth\":0,\"ticks\":\"\"},\"colorscale\":[[0.0,\"#0d0887\"],[0.1111111111111111,\"#46039f\"],[0.2222222222222222,\"#7201a8\"],[0.3333333333333333,\"#9c179e\"],[0.4444444444444444,\"#bd3786\"],[0.5555555555555556,\"#d8576b\"],[0.6666666666666666,\"#ed7953\"],[0.7777777777777778,\"#fb9f3a\"],[0.8888888888888888,\"#fdca26\"],[1.0,\"#f0f921\"]]}],\"choropleth\":[{\"type\":\"choropleth\",\"colorbar\":{\"outlinewidth\":0,\"ticks\":\"\"}}],\"histogram2d\":[{\"type\":\"histogram2d\",\"colorbar\":{\"outlinewidth\":0,\"ticks\":\"\"},\"colorscale\":[[0.0,\"#0d0887\"],[0.1111111111111111,\"#46039f\"],[0.2222222222222222,\"#7201a8\"],[0.3333333333333333,\"#9c179e\"],[0.4444444444444444,\"#bd3786\"],[0.5555555555555556,\"#d8576b\"],[0.6666666666666666,\"#ed7953\"],[0.7777777777777778,\"#fb9f3a\"],[0.8888888888888888,\"#fdca26\"],[1.0,\"#f0f921\"]]}],\"heatmap\":[{\"type\":\"heatmap\",\"colorbar\":{\"outlinewidth\":0,\"ticks\":\"\"},\"colorscale\":[[0.0,\"#0d0887\"],[0.1111111111111111,\"#46039f\"],[0.2222222222222222,\"#7201a8\"],[0.3333333333333333,\"#9c179e\"],[0.4444444444444444,\"#bd3786\"],[0.5555555555555556,\"#d8576b\"],[0.6666666666666666,\"#ed7953\"],[0.7777777777777778,\"#fb9f3a\"],[0.8888888888888888,\"#fdca26\"],[1.0,\"#f0f921\"]]}],\"heatmapgl\":[{\"type\":\"heatmapgl\",\"colorbar\":{\"outlinewidth\":0,\"ticks\":\"\"},\"colorscale\":[[0.0,\"#0d0887\"],[0.1111111111111111,\"#46039f\"],[0.2222222222222222,\"#7201a8\"],[0.3333333333333333,\"#9c179e\"],[0.4444444444444444,\"#bd3786\"],[0.5555555555555556,\"#d8576b\"],[0.6666666666666666,\"#ed7953\"],[0.7777777777777778,\"#fb9f3a\"],[0.8888888888888888,\"#fdca26\"],[1.0,\"#f0f921\"]]}],\"contourcarpet\":[{\"type\":\"contourcarpet\",\"colorbar\":{\"outlinewidth\":0,\"ticks\":\"\"}}],\"contour\":[{\"type\":\"contour\",\"colorbar\":{\"outlinewidth\":0,\"ticks\":\"\"},\"colorscale\":[[0.0,\"#0d0887\"],[0.1111111111111111,\"#46039f\"],[0.2222222222222222,\"#7201a8\"],[0.3333333333333333,\"#9c179e\"],[0.4444444444444444,\"#bd3786\"],[0.5555555555555556,\"#d8576b\"],[0.6666666666666666,\"#ed7953\"],[0.7777777777777778,\"#fb9f3a\"],[0.8888888888888888,\"#fdca26\"],[1.0,\"#f0f921\"]]}],\"surface\":[{\"type\":\"surface\",\"colorbar\":{\"outlinewidth\":0,\"ticks\":\"\"},\"colorscale\":[[0.0,\"#0d0887\"],[0.1111111111111111,\"#46039f\"],[0.2222222222222222,\"#7201a8\"],[0.3333333333333333,\"#9c179e\"],[0.4444444444444444,\"#bd3786\"],[0.5555555555555556,\"#d8576b\"],[0.6666666666666666,\"#ed7953\"],[0.7777777777777778,\"#fb9f3a\"],[0.8888888888888888,\"#fdca26\"],[1.0,\"#f0f921\"]]}],\"mesh3d\":[{\"type\":\"mesh3d\",\"colorbar\":{\"outlinewidth\":0,\"ticks\":\"\"}}],\"scatter\":[{\"marker\":{\"line\":{\"color\":\"#283442\"}},\"type\":\"scatter\"}],\"parcoords\":[{\"type\":\"parcoords\",\"line\":{\"colorbar\":{\"outlinewidth\":0,\"ticks\":\"\"}}}],\"scatterpolargl\":[{\"type\":\"scatterpolargl\",\"marker\":{\"colorbar\":{\"outlinewidth\":0,\"ticks\":\"\"}}}],\"bar\":[{\"error_x\":{\"color\":\"#f2f5fa\"},\"error_y\":{\"color\":\"#f2f5fa\"},\"marker\":{\"line\":{\"color\":\"rgb(17,17,17)\",\"width\":0.5},\"pattern\":{\"fillmode\":\"overlay\",\"size\":10,\"solidity\":0.2}},\"type\":\"bar\"}],\"scattergeo\":[{\"type\":\"scattergeo\",\"marker\":{\"colorbar\":{\"outlinewidth\":0,\"ticks\":\"\"}}}],\"scatterpolar\":[{\"type\":\"scatterpolar\",\"marker\":{\"colorbar\":{\"outlinewidth\":0,\"ticks\":\"\"}}}],\"histogram\":[{\"marker\":{\"pattern\":{\"fillmode\":\"overlay\",\"size\":10,\"solidity\":0.2}},\"type\":\"histogram\"}],\"scattergl\":[{\"marker\":{\"line\":{\"color\":\"#283442\"}},\"type\":\"scattergl\"}],\"scatter3d\":[{\"type\":\"scatter3d\",\"line\":{\"colorbar\":{\"outlinewidth\":0,\"ticks\":\"\"}},\"marker\":{\"colorbar\":{\"outlinewidth\":0,\"ticks\":\"\"}}}],\"scattermapbox\":[{\"type\":\"scattermapbox\",\"marker\":{\"colorbar\":{\"outlinewidth\":0,\"ticks\":\"\"}}}],\"scatterternary\":[{\"type\":\"scatterternary\",\"marker\":{\"colorbar\":{\"outlinewidth\":0,\"ticks\":\"\"}}}],\"scattercarpet\":[{\"type\":\"scattercarpet\",\"marker\":{\"colorbar\":{\"outlinewidth\":0,\"ticks\":\"\"}}}],\"carpet\":[{\"aaxis\":{\"endlinecolor\":\"#A2B1C6\",\"gridcolor\":\"#506784\",\"linecolor\":\"#506784\",\"minorgridcolor\":\"#506784\",\"startlinecolor\":\"#A2B1C6\"},\"baxis\":{\"endlinecolor\":\"#A2B1C6\",\"gridcolor\":\"#506784\",\"linecolor\":\"#506784\",\"minorgridcolor\":\"#506784\",\"startlinecolor\":\"#A2B1C6\"},\"type\":\"carpet\"}],\"table\":[{\"cells\":{\"fill\":{\"color\":\"#506784\"},\"line\":{\"color\":\"rgb(17,17,17)\"}},\"header\":{\"fill\":{\"color\":\"#2a3f5f\"},\"line\":{\"color\":\"rgb(17,17,17)\"}},\"type\":\"table\"}],\"barpolar\":[{\"marker\":{\"line\":{\"color\":\"rgb(17,17,17)\",\"width\":0.5},\"pattern\":{\"fillmode\":\"overlay\",\"size\":10,\"solidity\":0.2}},\"type\":\"barpolar\"}],\"pie\":[{\"automargin\":true,\"type\":\"pie\"}]},\"layout\":{\"autotypenumbers\":\"strict\",\"colorway\":[\"#636efa\",\"#EF553B\",\"#00cc96\",\"#ab63fa\",\"#FFA15A\",\"#19d3f3\",\"#FF6692\",\"#B6E880\",\"#FF97FF\",\"#FECB52\"],\"font\":{\"color\":\"#f2f5fa\"},\"hovermode\":\"closest\",\"hoverlabel\":{\"align\":\"left\"},\"paper_bgcolor\":\"rgb(17,17,17)\",\"plot_bgcolor\":\"rgb(17,17,17)\",\"polar\":{\"bgcolor\":\"rgb(17,17,17)\",\"angularaxis\":{\"gridcolor\":\"#506784\",\"linecolor\":\"#506784\",\"ticks\":\"\"},\"radialaxis\":{\"gridcolor\":\"#506784\",\"linecolor\":\"#506784\",\"ticks\":\"\"}},\"ternary\":{\"bgcolor\":\"rgb(17,17,17)\",\"aaxis\":{\"gridcolor\":\"#506784\",\"linecolor\":\"#506784\",\"ticks\":\"\"},\"baxis\":{\"gridcolor\":\"#506784\",\"linecolor\":\"#506784\",\"ticks\":\"\"},\"caxis\":{\"gridcolor\":\"#506784\",\"linecolor\":\"#506784\",\"ticks\":\"\"}},\"coloraxis\":{\"colorbar\":{\"outlinewidth\":0,\"ticks\":\"\"}},\"colorscale\":{\"sequential\":[[0.0,\"#0d0887\"],[0.1111111111111111,\"#46039f\"],[0.2222222222222222,\"#7201a8\"],[0.3333333333333333,\"#9c179e\"],[0.4444444444444444,\"#bd3786\"],[0.5555555555555556,\"#d8576b\"],[0.6666666666666666,\"#ed7953\"],[0.7777777777777778,\"#fb9f3a\"],[0.8888888888888888,\"#fdca26\"],[1.0,\"#f0f921\"]],\"sequentialminus\":[[0.0,\"#0d0887\"],[0.1111111111111111,\"#46039f\"],[0.2222222222222222,\"#7201a8\"],[0.3333333333333333,\"#9c179e\"],[0.4444444444444444,\"#bd3786\"],[0.5555555555555556,\"#d8576b\"],[0.6666666666666666,\"#ed7953\"],[0.7777777777777778,\"#fb9f3a\"],[0.8888888888888888,\"#fdca26\"],[1.0,\"#f0f921\"]],\"diverging\":[[0,\"#8e0152\"],[0.1,\"#c51b7d\"],[0.2,\"#de77ae\"],[0.3,\"#f1b6da\"],[0.4,\"#fde0ef\"],[0.5,\"#f7f7f7\"],[0.6,\"#e6f5d0\"],[0.7,\"#b8e186\"],[0.8,\"#7fbc41\"],[0.9,\"#4d9221\"],[1,\"#276419\"]]},\"xaxis\":{\"gridcolor\":\"#283442\",\"linecolor\":\"#506784\",\"ticks\":\"\",\"title\":{\"standoff\":15},\"zerolinecolor\":\"#283442\",\"automargin\":true,\"zerolinewidth\":2},\"yaxis\":{\"gridcolor\":\"#283442\",\"linecolor\":\"#506784\",\"ticks\":\"\",\"title\":{\"standoff\":15},\"zerolinecolor\":\"#283442\",\"automargin\":true,\"zerolinewidth\":2},\"scene\":{\"xaxis\":{\"backgroundcolor\":\"rgb(17,17,17)\",\"gridcolor\":\"#506784\",\"linecolor\":\"#506784\",\"showbackground\":true,\"ticks\":\"\",\"zerolinecolor\":\"#C8D4E3\",\"gridwidth\":2},\"yaxis\":{\"backgroundcolor\":\"rgb(17,17,17)\",\"gridcolor\":\"#506784\",\"linecolor\":\"#506784\",\"showbackground\":true,\"ticks\":\"\",\"zerolinecolor\":\"#C8D4E3\",\"gridwidth\":2},\"zaxis\":{\"backgroundcolor\":\"rgb(17,17,17)\",\"gridcolor\":\"#506784\",\"linecolor\":\"#506784\",\"showbackground\":true,\"ticks\":\"\",\"zerolinecolor\":\"#C8D4E3\",\"gridwidth\":2}},\"shapedefaults\":{\"line\":{\"color\":\"#f2f5fa\"}},\"annotationdefaults\":{\"arrowcolor\":\"#f2f5fa\",\"arrowhead\":0,\"arrowwidth\":1},\"geo\":{\"bgcolor\":\"rgb(17,17,17)\",\"landcolor\":\"rgb(17,17,17)\",\"subunitcolor\":\"#506784\",\"showland\":true,\"showlakes\":true,\"lakecolor\":\"rgb(17,17,17)\"},\"title\":{\"x\":0.05},\"updatemenudefaults\":{\"bgcolor\":\"#506784\",\"borderwidth\":0},\"sliderdefaults\":{\"bgcolor\":\"#C8D4E3\",\"borderwidth\":1,\"bordercolor\":\"rgb(17,17,17)\",\"tickwidth\":0},\"mapbox\":{\"style\":\"dark\"}}},\"xaxis\":{\"anchor\":\"y\",\"domain\":[0.0,1.0],\"title\":{\"text\":\"Month\"},\"showgrid\":false},\"yaxis\":{\"anchor\":\"x\",\"domain\":[0.0,1.0],\"title\":{\"text\":\"value_per_m2\"}},\"legend\":{\"title\":{\"text\":\"has_pv\"},\"tracegroupgap\":0},\"title\":{\"text\":\"Net Electricity Consumption per m^2\"},\"updatemenus\":[{\"buttons\":[{\"args\":[null,{\"frame\":{\"duration\":500,\"redraw\":false},\"mode\":\"immediate\",\"fromcurrent\":true,\"transition\":{\"duration\":500,\"easing\":\"linear\"}}],\"label\":\"&#9654;\",\"method\":\"animate\"},{\"args\":[[null],{\"frame\":{\"duration\":0,\"redraw\":false},\"mode\":\"immediate\",\"fromcurrent\":true,\"transition\":{\"duration\":0,\"easing\":\"linear\"}}],\"label\":\"&#9724;\",\"method\":\"animate\"}],\"direction\":\"left\",\"pad\":{\"r\":10,\"t\":70},\"showactive\":false,\"type\":\"buttons\",\"x\":0.1,\"xanchor\":\"right\",\"y\":0,\"yanchor\":\"top\"}],\"sliders\":[{\"active\":0,\"currentvalue\":{\"prefix\":\"year=\"},\"len\":0.9,\"pad\":{\"b\":10,\"t\":60},\"steps\":[{\"args\":[[\"2021\"],{\"frame\":{\"duration\":0,\"redraw\":false},\"mode\":\"immediate\",\"fromcurrent\":true,\"transition\":{\"duration\":0,\"easing\":\"linear\"}}],\"label\":\"2021\",\"method\":\"animate\"},{\"args\":[[\"2020\"],{\"frame\":{\"duration\":0,\"redraw\":false},\"mode\":\"immediate\",\"fromcurrent\":true,\"transition\":{\"duration\":0,\"easing\":\"linear\"}}],\"label\":\"2020\",\"method\":\"animate\"}],\"x\":0.1,\"xanchor\":\"left\",\"y\":0,\"yanchor\":\"top\"}]},                        {\"responsive\": true}                    ).then(function(){\n                            Plotly.addFrames('5ef98cdd-8ffc-4d45-9843-a74de026004e', [{\"data\":[{\"hovertemplate\":\"has_pv=False<br>year=2021<br>Month=%{x}<br>value_per_m2=%{y}<extra></extra>\",\"ids\":[0.14624167305424146,0.13840805796196184,0.12452893557020558,0.11341712285778725,0.10243303213056912,0.08613783551877555,0.08519056412854065,0.08487125916554013,0.0852224946248407,0.09597242837919177,0.11047951719818241,0.1212933119451336],\"legendgroup\":\"False\",\"line\":{\"color\":\"#636efa\",\"dash\":\"solid\"},\"marker\":{\"symbol\":\"circle\"},\"mode\":\"lines\",\"name\":\"False\",\"orientation\":\"v\",\"showlegend\":true,\"x\":[\"Jan\",\"Feb\",\"Mar\",\"Apr\",\"May\",\"Jun\",\"Jul\",\"Aug\",\"Sep\",\"Oct\",\"Nov\",\"Dec\"],\"xaxis\":\"x\",\"y\":[0.14624167305424146,0.13840805796196184,0.12452893557020558,0.11341712285778725,0.10243303213056912,0.08613783551877555,0.08519056412854065,0.08487125916554013,0.0852224946248407,0.09597242837919177,0.11047951719818241,0.1212933119451336],\"yaxis\":\"y\",\"type\":\"scatter\"},{\"hovertemplate\":\"has_pv=True<br>year=2021<br>Month=%{x}<br>value_per_m2=%{y}<extra></extra>\",\"ids\":[0.13865367300779485,0.11044644139878403,0.0681268987844019,0.005338853331668509,0.008156098412223227,-0.018451216237460218,-0.015442676737855491,0.00898214249448464,0.021416279732735403,0.060779454052708265,0.09271692683319431,0.12118501446818242],\"legendgroup\":\"True\",\"line\":{\"color\":\"#EF553B\",\"dash\":\"solid\"},\"marker\":{\"symbol\":\"circle\"},\"mode\":\"lines\",\"name\":\"True\",\"orientation\":\"v\",\"showlegend\":true,\"x\":[\"Jan\",\"Feb\",\"Mar\",\"Apr\",\"May\",\"Jun\",\"Jul\",\"Aug\",\"Sep\",\"Oct\",\"Nov\",\"Dec\"],\"xaxis\":\"x\",\"y\":[0.13865367300779485,0.11044644139878403,0.0681268987844019,0.005338853331668509,0.008156098412223227,-0.018451216237460218,-0.015442676737855491,0.00898214249448464,0.021416279732735403,0.060779454052708265,0.09271692683319431,0.12118501446818242],\"yaxis\":\"y\",\"type\":\"scatter\"}],\"name\":\"2021\"},{\"data\":[{\"hovertemplate\":\"has_pv=False<br>year=2020<br>Month=%{x}<br>value_per_m2=%{y}<extra></extra>\",\"ids\":[0.12969103247204747,0.12627446936794182,0.12231508782673528,0.10904264486468002,0.09912290401413032,0.09604693287055857,0.09221527331455225,0.09093805346255014,0.09443976455678925,0.11199089402305157,0.12453957906897228,0.14047289672269858],\"legendgroup\":\"False\",\"line\":{\"color\":\"#636efa\",\"dash\":\"solid\"},\"marker\":{\"symbol\":\"circle\"},\"mode\":\"lines\",\"name\":\"False\",\"orientation\":\"v\",\"showlegend\":true,\"x\":[\"Jan\",\"Feb\",\"Mar\",\"Apr\",\"May\",\"Jun\",\"Jul\",\"Aug\",\"Sep\",\"Oct\",\"Nov\",\"Dec\"],\"xaxis\":\"x\",\"y\":[0.12969103247204747,0.12627446936794182,0.12231508782673528,0.10904264486468002,0.09912290401413032,0.09604693287055857,0.09221527331455225,0.09093805346255014,0.09443976455678925,0.11199089402305157,0.12453957906897228,0.14047289672269858],\"yaxis\":\"y\",\"type\":\"scatter\"},{\"hovertemplate\":\"has_pv=True<br>year=2020<br>Month=%{x}<br>value_per_m2=%{y}<extra></extra>\",\"ids\":[0.11917642306815729,0.10038609399692659,0.06860513483202692,0.025737794563092484,0.0001478184147204636,0.006964855893593608,0.01332104772657354,0.02076413966779218,0.03471124185671121,0.08792587115607811,0.1149418602464593,0.1397840491203631],\"legendgroup\":\"True\",\"line\":{\"color\":\"#EF553B\",\"dash\":\"solid\"},\"marker\":{\"symbol\":\"circle\"},\"mode\":\"lines\",\"name\":\"True\",\"orientation\":\"v\",\"showlegend\":true,\"x\":[\"Jan\",\"Feb\",\"Mar\",\"Apr\",\"May\",\"Jun\",\"Jul\",\"Aug\",\"Sep\",\"Oct\",\"Nov\",\"Dec\"],\"xaxis\":\"x\",\"y\":[0.11917642306815729,0.10038609399692659,0.06860513483202692,0.025737794563092484,0.0001478184147204636,0.006964855893593608,0.01332104772657354,0.02076413966779218,0.03471124185671121,0.08792587115607811,0.1149418602464593,0.1397840491203631],\"yaxis\":\"y\",\"type\":\"scatter\"}],\"name\":\"2020\"}]);\n                        }).then(function(){\n                            \nvar gd = document.getElementById('5ef98cdd-8ffc-4d45-9843-a74de026004e');\nvar x = new MutationObserver(function (mutations, observer) {{\n        var display = window.getComputedStyle(gd).display;\n        if (!display || display === 'none') {{\n            console.log([gd, 'removed!']);\n            Plotly.purge(gd);\n            observer.disconnect();\n        }}\n}});\n\n// Listen for the removal of the full notebook cells\nvar notebookContainer = gd.closest('#notebook-container');\nif (notebookContainer) {{\n    x.observe(notebookContainer, {childList: true});\n}}\n\n// Listen for the clearing of the current output cell\nvar outputEl = gd.closest('.output');\nif (outputEl) {{\n    x.observe(outputEl, {childList: true});\n}}\n\n                        })                };                });            </script>        </div>"
     },
     "metadata": {},
     "output_type": "display_data"
    }
   ],
   "source": [
    "fig_pv_monthly_electricity_value_per_m2 = px.line(get_value_per_m2_data(pv_monthly_electricity_data),\n",
    "               x=\"summary_time\", y=\"value_per_m2\", color=\"segment_1_value\",\n",
    "               title=(pv_monthly_electricity_data['fuel'].unique()[0]) + ' Consumption per m^2',\n",
    "               labels={\n",
    "                   'summary_time': 'Month',\n",
    "                   'value': 'Consumption',\n",
    "                   'time_period': 'year',\n",
    "                   'segment_1_value': 'has_pv'\n",
    "               },\n",
    "               animation_frame=\"time_period\", animation_group=\"value_per_m2\")\n",
    "\n",
    "fig_pv_monthly_electricity_value_per_m2.update_layout(xaxis=dict(showgrid=False))\n",
    "fig_pv_monthly_electricity_value_per_m2.show()"
   ],
   "metadata": {
    "collapsed": false,
    "pycharm": {
     "name": "#%%\n"
    }
   }
  },
  {
   "cell_type": "code",
   "execution_count": 106,
   "outputs": [
    {
     "data": {
      "application/vnd.plotly.v1+json": {
       "data": [
        {
         "hovertemplate": "has_pv=False<br>year=2021<br>Month=%{x}<br>value_per_m2=%{y}<extra></extra>",
         "ids": [
          0.8585471845158175,
          0.76124431879079,
          0.5969086978331855,
          0.4785529915476568,
          0.3379310858422246,
          0.10720131957804364,
          0.08635070549410923,
          0.09653653381382606,
          0.11646116350505895,
          0.2911209782663473,
          0.5503646777264753,
          0.6597585580504559
         ],
         "legendgroup": "False",
         "line": {
          "color": "#636efa",
          "dash": "solid"
         },
         "marker": {
          "symbol": "circle"
         },
         "mode": "lines",
         "name": "False",
         "orientation": "v",
         "showlegend": true,
         "x": [
          "Jan",
          "Feb",
          "Mar",
          "Apr",
          "May",
          "Jun",
          "Jul",
          "Aug",
          "Sep",
          "Oct",
          "Nov",
          "Dec"
         ],
         "xaxis": "x",
         "y": [
          0.8585471845158175,
          0.76124431879079,
          0.5969086978331855,
          0.4785529915476568,
          0.3379310858422246,
          0.10720131957804364,
          0.08635070549410923,
          0.09653653381382606,
          0.11646116350505895,
          0.2911209782663473,
          0.5503646777264753,
          0.6597585580504559
         ],
         "yaxis": "y",
         "type": "scatter"
        },
        {
         "hovertemplate": "has_pv=True<br>year=2021<br>Month=%{x}<br>value_per_m2=%{y}<extra></extra>",
         "ids": [
          0.735535736448161,
          0.6513140208609604,
          0.5030521508963354,
          0.40393555622583155,
          0.27490747057659864,
          0.08182184014820955,
          0.06605744097831541,
          0.07506566907539777,
          0.0924473756063511,
          0.2390919382099169,
          0.45341994435372324,
          0.5495975611315496
         ],
         "legendgroup": "True",
         "line": {
          "color": "#EF553B",
          "dash": "solid"
         },
         "marker": {
          "symbol": "circle"
         },
         "mode": "lines",
         "name": "True",
         "orientation": "v",
         "showlegend": true,
         "x": [
          "Jan",
          "Feb",
          "Mar",
          "Apr",
          "May",
          "Jun",
          "Jul",
          "Aug",
          "Sep",
          "Oct",
          "Nov",
          "Dec"
         ],
         "xaxis": "x",
         "y": [
          0.735535736448161,
          0.6513140208609604,
          0.5030521508963354,
          0.40393555622583155,
          0.27490747057659864,
          0.08182184014820955,
          0.06605744097831541,
          0.07506566907539777,
          0.0924473756063511,
          0.2390919382099169,
          0.45341994435372324,
          0.5495975611315496
         ],
         "yaxis": "y",
         "type": "scatter"
        }
       ],
       "layout": {
        "template": {
         "data": {
          "histogram2dcontour": [
           {
            "type": "histogram2dcontour",
            "colorbar": {
             "outlinewidth": 0,
             "ticks": ""
            },
            "colorscale": [
             [
              0.0,
              "#0d0887"
             ],
             [
              0.1111111111111111,
              "#46039f"
             ],
             [
              0.2222222222222222,
              "#7201a8"
             ],
             [
              0.3333333333333333,
              "#9c179e"
             ],
             [
              0.4444444444444444,
              "#bd3786"
             ],
             [
              0.5555555555555556,
              "#d8576b"
             ],
             [
              0.6666666666666666,
              "#ed7953"
             ],
             [
              0.7777777777777778,
              "#fb9f3a"
             ],
             [
              0.8888888888888888,
              "#fdca26"
             ],
             [
              1.0,
              "#f0f921"
             ]
            ]
           }
          ],
          "choropleth": [
           {
            "type": "choropleth",
            "colorbar": {
             "outlinewidth": 0,
             "ticks": ""
            }
           }
          ],
          "histogram2d": [
           {
            "type": "histogram2d",
            "colorbar": {
             "outlinewidth": 0,
             "ticks": ""
            },
            "colorscale": [
             [
              0.0,
              "#0d0887"
             ],
             [
              0.1111111111111111,
              "#46039f"
             ],
             [
              0.2222222222222222,
              "#7201a8"
             ],
             [
              0.3333333333333333,
              "#9c179e"
             ],
             [
              0.4444444444444444,
              "#bd3786"
             ],
             [
              0.5555555555555556,
              "#d8576b"
             ],
             [
              0.6666666666666666,
              "#ed7953"
             ],
             [
              0.7777777777777778,
              "#fb9f3a"
             ],
             [
              0.8888888888888888,
              "#fdca26"
             ],
             [
              1.0,
              "#f0f921"
             ]
            ]
           }
          ],
          "heatmap": [
           {
            "type": "heatmap",
            "colorbar": {
             "outlinewidth": 0,
             "ticks": ""
            },
            "colorscale": [
             [
              0.0,
              "#0d0887"
             ],
             [
              0.1111111111111111,
              "#46039f"
             ],
             [
              0.2222222222222222,
              "#7201a8"
             ],
             [
              0.3333333333333333,
              "#9c179e"
             ],
             [
              0.4444444444444444,
              "#bd3786"
             ],
             [
              0.5555555555555556,
              "#d8576b"
             ],
             [
              0.6666666666666666,
              "#ed7953"
             ],
             [
              0.7777777777777778,
              "#fb9f3a"
             ],
             [
              0.8888888888888888,
              "#fdca26"
             ],
             [
              1.0,
              "#f0f921"
             ]
            ]
           }
          ],
          "heatmapgl": [
           {
            "type": "heatmapgl",
            "colorbar": {
             "outlinewidth": 0,
             "ticks": ""
            },
            "colorscale": [
             [
              0.0,
              "#0d0887"
             ],
             [
              0.1111111111111111,
              "#46039f"
             ],
             [
              0.2222222222222222,
              "#7201a8"
             ],
             [
              0.3333333333333333,
              "#9c179e"
             ],
             [
              0.4444444444444444,
              "#bd3786"
             ],
             [
              0.5555555555555556,
              "#d8576b"
             ],
             [
              0.6666666666666666,
              "#ed7953"
             ],
             [
              0.7777777777777778,
              "#fb9f3a"
             ],
             [
              0.8888888888888888,
              "#fdca26"
             ],
             [
              1.0,
              "#f0f921"
             ]
            ]
           }
          ],
          "contourcarpet": [
           {
            "type": "contourcarpet",
            "colorbar": {
             "outlinewidth": 0,
             "ticks": ""
            }
           }
          ],
          "contour": [
           {
            "type": "contour",
            "colorbar": {
             "outlinewidth": 0,
             "ticks": ""
            },
            "colorscale": [
             [
              0.0,
              "#0d0887"
             ],
             [
              0.1111111111111111,
              "#46039f"
             ],
             [
              0.2222222222222222,
              "#7201a8"
             ],
             [
              0.3333333333333333,
              "#9c179e"
             ],
             [
              0.4444444444444444,
              "#bd3786"
             ],
             [
              0.5555555555555556,
              "#d8576b"
             ],
             [
              0.6666666666666666,
              "#ed7953"
             ],
             [
              0.7777777777777778,
              "#fb9f3a"
             ],
             [
              0.8888888888888888,
              "#fdca26"
             ],
             [
              1.0,
              "#f0f921"
             ]
            ]
           }
          ],
          "surface": [
           {
            "type": "surface",
            "colorbar": {
             "outlinewidth": 0,
             "ticks": ""
            },
            "colorscale": [
             [
              0.0,
              "#0d0887"
             ],
             [
              0.1111111111111111,
              "#46039f"
             ],
             [
              0.2222222222222222,
              "#7201a8"
             ],
             [
              0.3333333333333333,
              "#9c179e"
             ],
             [
              0.4444444444444444,
              "#bd3786"
             ],
             [
              0.5555555555555556,
              "#d8576b"
             ],
             [
              0.6666666666666666,
              "#ed7953"
             ],
             [
              0.7777777777777778,
              "#fb9f3a"
             ],
             [
              0.8888888888888888,
              "#fdca26"
             ],
             [
              1.0,
              "#f0f921"
             ]
            ]
           }
          ],
          "mesh3d": [
           {
            "type": "mesh3d",
            "colorbar": {
             "outlinewidth": 0,
             "ticks": ""
            }
           }
          ],
          "scatter": [
           {
            "marker": {
             "line": {
              "color": "#283442"
             }
            },
            "type": "scatter"
           }
          ],
          "parcoords": [
           {
            "type": "parcoords",
            "line": {
             "colorbar": {
              "outlinewidth": 0,
              "ticks": ""
             }
            }
           }
          ],
          "scatterpolargl": [
           {
            "type": "scatterpolargl",
            "marker": {
             "colorbar": {
              "outlinewidth": 0,
              "ticks": ""
             }
            }
           }
          ],
          "bar": [
           {
            "error_x": {
             "color": "#f2f5fa"
            },
            "error_y": {
             "color": "#f2f5fa"
            },
            "marker": {
             "line": {
              "color": "rgb(17,17,17)",
              "width": 0.5
             },
             "pattern": {
              "fillmode": "overlay",
              "size": 10,
              "solidity": 0.2
             }
            },
            "type": "bar"
           }
          ],
          "scattergeo": [
           {
            "type": "scattergeo",
            "marker": {
             "colorbar": {
              "outlinewidth": 0,
              "ticks": ""
             }
            }
           }
          ],
          "scatterpolar": [
           {
            "type": "scatterpolar",
            "marker": {
             "colorbar": {
              "outlinewidth": 0,
              "ticks": ""
             }
            }
           }
          ],
          "histogram": [
           {
            "marker": {
             "pattern": {
              "fillmode": "overlay",
              "size": 10,
              "solidity": 0.2
             }
            },
            "type": "histogram"
           }
          ],
          "scattergl": [
           {
            "marker": {
             "line": {
              "color": "#283442"
             }
            },
            "type": "scattergl"
           }
          ],
          "scatter3d": [
           {
            "type": "scatter3d",
            "line": {
             "colorbar": {
              "outlinewidth": 0,
              "ticks": ""
             }
            },
            "marker": {
             "colorbar": {
              "outlinewidth": 0,
              "ticks": ""
             }
            }
           }
          ],
          "scattermapbox": [
           {
            "type": "scattermapbox",
            "marker": {
             "colorbar": {
              "outlinewidth": 0,
              "ticks": ""
             }
            }
           }
          ],
          "scatterternary": [
           {
            "type": "scatterternary",
            "marker": {
             "colorbar": {
              "outlinewidth": 0,
              "ticks": ""
             }
            }
           }
          ],
          "scattercarpet": [
           {
            "type": "scattercarpet",
            "marker": {
             "colorbar": {
              "outlinewidth": 0,
              "ticks": ""
             }
            }
           }
          ],
          "carpet": [
           {
            "aaxis": {
             "endlinecolor": "#A2B1C6",
             "gridcolor": "#506784",
             "linecolor": "#506784",
             "minorgridcolor": "#506784",
             "startlinecolor": "#A2B1C6"
            },
            "baxis": {
             "endlinecolor": "#A2B1C6",
             "gridcolor": "#506784",
             "linecolor": "#506784",
             "minorgridcolor": "#506784",
             "startlinecolor": "#A2B1C6"
            },
            "type": "carpet"
           }
          ],
          "table": [
           {
            "cells": {
             "fill": {
              "color": "#506784"
             },
             "line": {
              "color": "rgb(17,17,17)"
             }
            },
            "header": {
             "fill": {
              "color": "#2a3f5f"
             },
             "line": {
              "color": "rgb(17,17,17)"
             }
            },
            "type": "table"
           }
          ],
          "barpolar": [
           {
            "marker": {
             "line": {
              "color": "rgb(17,17,17)",
              "width": 0.5
             },
             "pattern": {
              "fillmode": "overlay",
              "size": 10,
              "solidity": 0.2
             }
            },
            "type": "barpolar"
           }
          ],
          "pie": [
           {
            "automargin": true,
            "type": "pie"
           }
          ]
         },
         "layout": {
          "autotypenumbers": "strict",
          "colorway": [
           "#636efa",
           "#EF553B",
           "#00cc96",
           "#ab63fa",
           "#FFA15A",
           "#19d3f3",
           "#FF6692",
           "#B6E880",
           "#FF97FF",
           "#FECB52"
          ],
          "font": {
           "color": "#f2f5fa"
          },
          "hovermode": "closest",
          "hoverlabel": {
           "align": "left"
          },
          "paper_bgcolor": "rgb(17,17,17)",
          "plot_bgcolor": "rgb(17,17,17)",
          "polar": {
           "bgcolor": "rgb(17,17,17)",
           "angularaxis": {
            "gridcolor": "#506784",
            "linecolor": "#506784",
            "ticks": ""
           },
           "radialaxis": {
            "gridcolor": "#506784",
            "linecolor": "#506784",
            "ticks": ""
           }
          },
          "ternary": {
           "bgcolor": "rgb(17,17,17)",
           "aaxis": {
            "gridcolor": "#506784",
            "linecolor": "#506784",
            "ticks": ""
           },
           "baxis": {
            "gridcolor": "#506784",
            "linecolor": "#506784",
            "ticks": ""
           },
           "caxis": {
            "gridcolor": "#506784",
            "linecolor": "#506784",
            "ticks": ""
           }
          },
          "coloraxis": {
           "colorbar": {
            "outlinewidth": 0,
            "ticks": ""
           }
          },
          "colorscale": {
           "sequential": [
            [
             0.0,
             "#0d0887"
            ],
            [
             0.1111111111111111,
             "#46039f"
            ],
            [
             0.2222222222222222,
             "#7201a8"
            ],
            [
             0.3333333333333333,
             "#9c179e"
            ],
            [
             0.4444444444444444,
             "#bd3786"
            ],
            [
             0.5555555555555556,
             "#d8576b"
            ],
            [
             0.6666666666666666,
             "#ed7953"
            ],
            [
             0.7777777777777778,
             "#fb9f3a"
            ],
            [
             0.8888888888888888,
             "#fdca26"
            ],
            [
             1.0,
             "#f0f921"
            ]
           ],
           "sequentialminus": [
            [
             0.0,
             "#0d0887"
            ],
            [
             0.1111111111111111,
             "#46039f"
            ],
            [
             0.2222222222222222,
             "#7201a8"
            ],
            [
             0.3333333333333333,
             "#9c179e"
            ],
            [
             0.4444444444444444,
             "#bd3786"
            ],
            [
             0.5555555555555556,
             "#d8576b"
            ],
            [
             0.6666666666666666,
             "#ed7953"
            ],
            [
             0.7777777777777778,
             "#fb9f3a"
            ],
            [
             0.8888888888888888,
             "#fdca26"
            ],
            [
             1.0,
             "#f0f921"
            ]
           ],
           "diverging": [
            [
             0,
             "#8e0152"
            ],
            [
             0.1,
             "#c51b7d"
            ],
            [
             0.2,
             "#de77ae"
            ],
            [
             0.3,
             "#f1b6da"
            ],
            [
             0.4,
             "#fde0ef"
            ],
            [
             0.5,
             "#f7f7f7"
            ],
            [
             0.6,
             "#e6f5d0"
            ],
            [
             0.7,
             "#b8e186"
            ],
            [
             0.8,
             "#7fbc41"
            ],
            [
             0.9,
             "#4d9221"
            ],
            [
             1,
             "#276419"
            ]
           ]
          },
          "xaxis": {
           "gridcolor": "#283442",
           "linecolor": "#506784",
           "ticks": "",
           "title": {
            "standoff": 15
           },
           "zerolinecolor": "#283442",
           "automargin": true,
           "zerolinewidth": 2
          },
          "yaxis": {
           "gridcolor": "#283442",
           "linecolor": "#506784",
           "ticks": "",
           "title": {
            "standoff": 15
           },
           "zerolinecolor": "#283442",
           "automargin": true,
           "zerolinewidth": 2
          },
          "scene": {
           "xaxis": {
            "backgroundcolor": "rgb(17,17,17)",
            "gridcolor": "#506784",
            "linecolor": "#506784",
            "showbackground": true,
            "ticks": "",
            "zerolinecolor": "#C8D4E3",
            "gridwidth": 2
           },
           "yaxis": {
            "backgroundcolor": "rgb(17,17,17)",
            "gridcolor": "#506784",
            "linecolor": "#506784",
            "showbackground": true,
            "ticks": "",
            "zerolinecolor": "#C8D4E3",
            "gridwidth": 2
           },
           "zaxis": {
            "backgroundcolor": "rgb(17,17,17)",
            "gridcolor": "#506784",
            "linecolor": "#506784",
            "showbackground": true,
            "ticks": "",
            "zerolinecolor": "#C8D4E3",
            "gridwidth": 2
           }
          },
          "shapedefaults": {
           "line": {
            "color": "#f2f5fa"
           }
          },
          "annotationdefaults": {
           "arrowcolor": "#f2f5fa",
           "arrowhead": 0,
           "arrowwidth": 1
          },
          "geo": {
           "bgcolor": "rgb(17,17,17)",
           "landcolor": "rgb(17,17,17)",
           "subunitcolor": "#506784",
           "showland": true,
           "showlakes": true,
           "lakecolor": "rgb(17,17,17)"
          },
          "title": {
           "x": 0.05
          },
          "updatemenudefaults": {
           "bgcolor": "#506784",
           "borderwidth": 0
          },
          "sliderdefaults": {
           "bgcolor": "#C8D4E3",
           "borderwidth": 1,
           "bordercolor": "rgb(17,17,17)",
           "tickwidth": 0
          },
          "mapbox": {
           "style": "dark"
          }
         }
        },
        "xaxis": {
         "anchor": "y",
         "domain": [
          0.0,
          1.0
         ],
         "title": {
          "text": "Month"
         },
         "showgrid": false
        },
        "yaxis": {
         "anchor": "x",
         "domain": [
          0.0,
          1.0
         ],
         "title": {
          "text": "value_per_m2"
         }
        },
        "legend": {
         "title": {
          "text": "has_pv"
         },
         "tracegroupgap": 0
        },
        "title": {
         "text": "Gas Consumption per m^2"
        },
        "updatemenus": [
         {
          "buttons": [
           {
            "args": [
             null,
             {
              "frame": {
               "duration": 500,
               "redraw": false
              },
              "mode": "immediate",
              "fromcurrent": true,
              "transition": {
               "duration": 500,
               "easing": "linear"
              }
             }
            ],
            "label": "&#9654;",
            "method": "animate"
           },
           {
            "args": [
             [
              null
             ],
             {
              "frame": {
               "duration": 0,
               "redraw": false
              },
              "mode": "immediate",
              "fromcurrent": true,
              "transition": {
               "duration": 0,
               "easing": "linear"
              }
             }
            ],
            "label": "&#9724;",
            "method": "animate"
           }
          ],
          "direction": "left",
          "pad": {
           "r": 10,
           "t": 70
          },
          "showactive": false,
          "type": "buttons",
          "x": 0.1,
          "xanchor": "right",
          "y": 0,
          "yanchor": "top"
         }
        ],
        "sliders": [
         {
          "active": 0,
          "currentvalue": {
           "prefix": "year="
          },
          "len": 0.9,
          "pad": {
           "b": 10,
           "t": 60
          },
          "steps": [
           {
            "args": [
             [
              "2021"
             ],
             {
              "frame": {
               "duration": 0,
               "redraw": false
              },
              "mode": "immediate",
              "fromcurrent": true,
              "transition": {
               "duration": 0,
               "easing": "linear"
              }
             }
            ],
            "label": "2021",
            "method": "animate"
           },
           {
            "args": [
             [
              "2020"
             ],
             {
              "frame": {
               "duration": 0,
               "redraw": false
              },
              "mode": "immediate",
              "fromcurrent": true,
              "transition": {
               "duration": 0,
               "easing": "linear"
              }
             }
            ],
            "label": "2020",
            "method": "animate"
           }
          ],
          "x": 0.1,
          "xanchor": "left",
          "y": 0,
          "yanchor": "top"
         }
        ]
       },
       "frames": [
        {
         "data": [
          {
           "hovertemplate": "has_pv=False<br>year=2021<br>Month=%{x}<br>value_per_m2=%{y}<extra></extra>",
           "ids": [
            0.8585471845158175,
            0.76124431879079,
            0.5969086978331855,
            0.4785529915476568,
            0.3379310858422246,
            0.10720131957804364,
            0.08635070549410923,
            0.09653653381382606,
            0.11646116350505895,
            0.2911209782663473,
            0.5503646777264753,
            0.6597585580504559
           ],
           "legendgroup": "False",
           "line": {
            "color": "#636efa",
            "dash": "solid"
           },
           "marker": {
            "symbol": "circle"
           },
           "mode": "lines",
           "name": "False",
           "orientation": "v",
           "showlegend": true,
           "x": [
            "Jan",
            "Feb",
            "Mar",
            "Apr",
            "May",
            "Jun",
            "Jul",
            "Aug",
            "Sep",
            "Oct",
            "Nov",
            "Dec"
           ],
           "xaxis": "x",
           "y": [
            0.8585471845158175,
            0.76124431879079,
            0.5969086978331855,
            0.4785529915476568,
            0.3379310858422246,
            0.10720131957804364,
            0.08635070549410923,
            0.09653653381382606,
            0.11646116350505895,
            0.2911209782663473,
            0.5503646777264753,
            0.6597585580504559
           ],
           "yaxis": "y",
           "type": "scatter"
          },
          {
           "hovertemplate": "has_pv=True<br>year=2021<br>Month=%{x}<br>value_per_m2=%{y}<extra></extra>",
           "ids": [
            0.735535736448161,
            0.6513140208609604,
            0.5030521508963354,
            0.40393555622583155,
            0.27490747057659864,
            0.08182184014820955,
            0.06605744097831541,
            0.07506566907539777,
            0.0924473756063511,
            0.2390919382099169,
            0.45341994435372324,
            0.5495975611315496
           ],
           "legendgroup": "True",
           "line": {
            "color": "#EF553B",
            "dash": "solid"
           },
           "marker": {
            "symbol": "circle"
           },
           "mode": "lines",
           "name": "True",
           "orientation": "v",
           "showlegend": true,
           "x": [
            "Jan",
            "Feb",
            "Mar",
            "Apr",
            "May",
            "Jun",
            "Jul",
            "Aug",
            "Sep",
            "Oct",
            "Nov",
            "Dec"
           ],
           "xaxis": "x",
           "y": [
            0.735535736448161,
            0.6513140208609604,
            0.5030521508963354,
            0.40393555622583155,
            0.27490747057659864,
            0.08182184014820955,
            0.06605744097831541,
            0.07506566907539777,
            0.0924473756063511,
            0.2390919382099169,
            0.45341994435372324,
            0.5495975611315496
           ],
           "yaxis": "y",
           "type": "scatter"
          }
         ],
         "name": "2021"
        },
        {
         "data": [
          {
           "hovertemplate": "has_pv=False<br>year=2020<br>Month=%{x}<br>value_per_m2=%{y}<extra></extra>",
           "ids": [
            0.6771074610401512,
            0.683621282285362,
            0.5946842065909486,
            0.30406347276663537,
            0.19692601418119177,
            0.13188359321798437,
            0.10952160230918082,
            0.0978563276608949,
            0.1651764573601727,
            0.40665615737870475,
            0.5302271780599087,
            0.7417134985539245
           ],
           "legendgroup": "False",
           "line": {
            "color": "#636efa",
            "dash": "solid"
           },
           "marker": {
            "symbol": "circle"
           },
           "mode": "lines",
           "name": "False",
           "orientation": "v",
           "showlegend": true,
           "x": [
            "Jan",
            "Feb",
            "Mar",
            "Apr",
            "May",
            "Jun",
            "Jul",
            "Aug",
            "Sep",
            "Oct",
            "Nov",
            "Dec"
           ],
           "xaxis": "x",
           "y": [
            0.6771074610401512,
            0.683621282285362,
            0.5946842065909486,
            0.30406347276663537,
            0.19692601418119177,
            0.13188359321798437,
            0.10952160230918082,
            0.0978563276608949,
            0.1651764573601727,
            0.40665615737870475,
            0.5302271780599087,
            0.7417134985539245
           ],
           "yaxis": "y",
           "type": "scatter"
          },
          {
           "hovertemplate": "has_pv=True<br>year=2020<br>Month=%{x}<br>value_per_m2=%{y}<extra></extra>",
           "ids": [
            0.6114639152924966,
            0.6022991735798278,
            0.5418675275617559,
            0.2730640879930258,
            0.16797389032764212,
            0.1118637591399273,
            0.09130830429291695,
            0.083221767487621,
            0.15112259104950923,
            0.3637463378235972,
            0.4555328781641393,
            0.6417058239041301
           ],
           "legendgroup": "True",
           "line": {
            "color": "#EF553B",
            "dash": "solid"
           },
           "marker": {
            "symbol": "circle"
           },
           "mode": "lines",
           "name": "True",
           "orientation": "v",
           "showlegend": true,
           "x": [
            "Jan",
            "Feb",
            "Mar",
            "Apr",
            "May",
            "Jun",
            "Jul",
            "Aug",
            "Sep",
            "Oct",
            "Nov",
            "Dec"
           ],
           "xaxis": "x",
           "y": [
            0.6114639152924966,
            0.6022991735798278,
            0.5418675275617559,
            0.2730640879930258,
            0.16797389032764212,
            0.1118637591399273,
            0.09130830429291695,
            0.083221767487621,
            0.15112259104950923,
            0.3637463378235972,
            0.4555328781641393,
            0.6417058239041301
           ],
           "yaxis": "y",
           "type": "scatter"
          }
         ],
         "name": "2020"
        }
       ],
       "config": {
        "plotlyServerURL": "https://plot.ly"
       }
      },
      "text/html": "<div>                            <div id=\"0b5ba879-3a41-454e-b5f1-b3f7c92b7172\" class=\"plotly-graph-div\" style=\"height:525px; width:100%;\"></div>            <script type=\"text/javascript\">                require([\"plotly\"], function(Plotly) {                    window.PLOTLYENV=window.PLOTLYENV || {};                                    if (document.getElementById(\"0b5ba879-3a41-454e-b5f1-b3f7c92b7172\")) {                    Plotly.newPlot(                        \"0b5ba879-3a41-454e-b5f1-b3f7c92b7172\",                        [{\"hovertemplate\":\"has_pv=False<br>year=2021<br>Month=%{x}<br>value_per_m2=%{y}<extra></extra>\",\"ids\":[0.8585471845158175,0.76124431879079,0.5969086978331855,0.4785529915476568,0.3379310858422246,0.10720131957804364,0.08635070549410923,0.09653653381382606,0.11646116350505895,0.2911209782663473,0.5503646777264753,0.6597585580504559],\"legendgroup\":\"False\",\"line\":{\"color\":\"#636efa\",\"dash\":\"solid\"},\"marker\":{\"symbol\":\"circle\"},\"mode\":\"lines\",\"name\":\"False\",\"orientation\":\"v\",\"showlegend\":true,\"x\":[\"Jan\",\"Feb\",\"Mar\",\"Apr\",\"May\",\"Jun\",\"Jul\",\"Aug\",\"Sep\",\"Oct\",\"Nov\",\"Dec\"],\"xaxis\":\"x\",\"y\":[0.8585471845158175,0.76124431879079,0.5969086978331855,0.4785529915476568,0.3379310858422246,0.10720131957804364,0.08635070549410923,0.09653653381382606,0.11646116350505895,0.2911209782663473,0.5503646777264753,0.6597585580504559],\"yaxis\":\"y\",\"type\":\"scatter\"},{\"hovertemplate\":\"has_pv=True<br>year=2021<br>Month=%{x}<br>value_per_m2=%{y}<extra></extra>\",\"ids\":[0.735535736448161,0.6513140208609604,0.5030521508963354,0.40393555622583155,0.27490747057659864,0.08182184014820955,0.06605744097831541,0.07506566907539777,0.0924473756063511,0.2390919382099169,0.45341994435372324,0.5495975611315496],\"legendgroup\":\"True\",\"line\":{\"color\":\"#EF553B\",\"dash\":\"solid\"},\"marker\":{\"symbol\":\"circle\"},\"mode\":\"lines\",\"name\":\"True\",\"orientation\":\"v\",\"showlegend\":true,\"x\":[\"Jan\",\"Feb\",\"Mar\",\"Apr\",\"May\",\"Jun\",\"Jul\",\"Aug\",\"Sep\",\"Oct\",\"Nov\",\"Dec\"],\"xaxis\":\"x\",\"y\":[0.735535736448161,0.6513140208609604,0.5030521508963354,0.40393555622583155,0.27490747057659864,0.08182184014820955,0.06605744097831541,0.07506566907539777,0.0924473756063511,0.2390919382099169,0.45341994435372324,0.5495975611315496],\"yaxis\":\"y\",\"type\":\"scatter\"}],                        {\"template\":{\"data\":{\"histogram2dcontour\":[{\"type\":\"histogram2dcontour\",\"colorbar\":{\"outlinewidth\":0,\"ticks\":\"\"},\"colorscale\":[[0.0,\"#0d0887\"],[0.1111111111111111,\"#46039f\"],[0.2222222222222222,\"#7201a8\"],[0.3333333333333333,\"#9c179e\"],[0.4444444444444444,\"#bd3786\"],[0.5555555555555556,\"#d8576b\"],[0.6666666666666666,\"#ed7953\"],[0.7777777777777778,\"#fb9f3a\"],[0.8888888888888888,\"#fdca26\"],[1.0,\"#f0f921\"]]}],\"choropleth\":[{\"type\":\"choropleth\",\"colorbar\":{\"outlinewidth\":0,\"ticks\":\"\"}}],\"histogram2d\":[{\"type\":\"histogram2d\",\"colorbar\":{\"outlinewidth\":0,\"ticks\":\"\"},\"colorscale\":[[0.0,\"#0d0887\"],[0.1111111111111111,\"#46039f\"],[0.2222222222222222,\"#7201a8\"],[0.3333333333333333,\"#9c179e\"],[0.4444444444444444,\"#bd3786\"],[0.5555555555555556,\"#d8576b\"],[0.6666666666666666,\"#ed7953\"],[0.7777777777777778,\"#fb9f3a\"],[0.8888888888888888,\"#fdca26\"],[1.0,\"#f0f921\"]]}],\"heatmap\":[{\"type\":\"heatmap\",\"colorbar\":{\"outlinewidth\":0,\"ticks\":\"\"},\"colorscale\":[[0.0,\"#0d0887\"],[0.1111111111111111,\"#46039f\"],[0.2222222222222222,\"#7201a8\"],[0.3333333333333333,\"#9c179e\"],[0.4444444444444444,\"#bd3786\"],[0.5555555555555556,\"#d8576b\"],[0.6666666666666666,\"#ed7953\"],[0.7777777777777778,\"#fb9f3a\"],[0.8888888888888888,\"#fdca26\"],[1.0,\"#f0f921\"]]}],\"heatmapgl\":[{\"type\":\"heatmapgl\",\"colorbar\":{\"outlinewidth\":0,\"ticks\":\"\"},\"colorscale\":[[0.0,\"#0d0887\"],[0.1111111111111111,\"#46039f\"],[0.2222222222222222,\"#7201a8\"],[0.3333333333333333,\"#9c179e\"],[0.4444444444444444,\"#bd3786\"],[0.5555555555555556,\"#d8576b\"],[0.6666666666666666,\"#ed7953\"],[0.7777777777777778,\"#fb9f3a\"],[0.8888888888888888,\"#fdca26\"],[1.0,\"#f0f921\"]]}],\"contourcarpet\":[{\"type\":\"contourcarpet\",\"colorbar\":{\"outlinewidth\":0,\"ticks\":\"\"}}],\"contour\":[{\"type\":\"contour\",\"colorbar\":{\"outlinewidth\":0,\"ticks\":\"\"},\"colorscale\":[[0.0,\"#0d0887\"],[0.1111111111111111,\"#46039f\"],[0.2222222222222222,\"#7201a8\"],[0.3333333333333333,\"#9c179e\"],[0.4444444444444444,\"#bd3786\"],[0.5555555555555556,\"#d8576b\"],[0.6666666666666666,\"#ed7953\"],[0.7777777777777778,\"#fb9f3a\"],[0.8888888888888888,\"#fdca26\"],[1.0,\"#f0f921\"]]}],\"surface\":[{\"type\":\"surface\",\"colorbar\":{\"outlinewidth\":0,\"ticks\":\"\"},\"colorscale\":[[0.0,\"#0d0887\"],[0.1111111111111111,\"#46039f\"],[0.2222222222222222,\"#7201a8\"],[0.3333333333333333,\"#9c179e\"],[0.4444444444444444,\"#bd3786\"],[0.5555555555555556,\"#d8576b\"],[0.6666666666666666,\"#ed7953\"],[0.7777777777777778,\"#fb9f3a\"],[0.8888888888888888,\"#fdca26\"],[1.0,\"#f0f921\"]]}],\"mesh3d\":[{\"type\":\"mesh3d\",\"colorbar\":{\"outlinewidth\":0,\"ticks\":\"\"}}],\"scatter\":[{\"marker\":{\"line\":{\"color\":\"#283442\"}},\"type\":\"scatter\"}],\"parcoords\":[{\"type\":\"parcoords\",\"line\":{\"colorbar\":{\"outlinewidth\":0,\"ticks\":\"\"}}}],\"scatterpolargl\":[{\"type\":\"scatterpolargl\",\"marker\":{\"colorbar\":{\"outlinewidth\":0,\"ticks\":\"\"}}}],\"bar\":[{\"error_x\":{\"color\":\"#f2f5fa\"},\"error_y\":{\"color\":\"#f2f5fa\"},\"marker\":{\"line\":{\"color\":\"rgb(17,17,17)\",\"width\":0.5},\"pattern\":{\"fillmode\":\"overlay\",\"size\":10,\"solidity\":0.2}},\"type\":\"bar\"}],\"scattergeo\":[{\"type\":\"scattergeo\",\"marker\":{\"colorbar\":{\"outlinewidth\":0,\"ticks\":\"\"}}}],\"scatterpolar\":[{\"type\":\"scatterpolar\",\"marker\":{\"colorbar\":{\"outlinewidth\":0,\"ticks\":\"\"}}}],\"histogram\":[{\"marker\":{\"pattern\":{\"fillmode\":\"overlay\",\"size\":10,\"solidity\":0.2}},\"type\":\"histogram\"}],\"scattergl\":[{\"marker\":{\"line\":{\"color\":\"#283442\"}},\"type\":\"scattergl\"}],\"scatter3d\":[{\"type\":\"scatter3d\",\"line\":{\"colorbar\":{\"outlinewidth\":0,\"ticks\":\"\"}},\"marker\":{\"colorbar\":{\"outlinewidth\":0,\"ticks\":\"\"}}}],\"scattermapbox\":[{\"type\":\"scattermapbox\",\"marker\":{\"colorbar\":{\"outlinewidth\":0,\"ticks\":\"\"}}}],\"scatterternary\":[{\"type\":\"scatterternary\",\"marker\":{\"colorbar\":{\"outlinewidth\":0,\"ticks\":\"\"}}}],\"scattercarpet\":[{\"type\":\"scattercarpet\",\"marker\":{\"colorbar\":{\"outlinewidth\":0,\"ticks\":\"\"}}}],\"carpet\":[{\"aaxis\":{\"endlinecolor\":\"#A2B1C6\",\"gridcolor\":\"#506784\",\"linecolor\":\"#506784\",\"minorgridcolor\":\"#506784\",\"startlinecolor\":\"#A2B1C6\"},\"baxis\":{\"endlinecolor\":\"#A2B1C6\",\"gridcolor\":\"#506784\",\"linecolor\":\"#506784\",\"minorgridcolor\":\"#506784\",\"startlinecolor\":\"#A2B1C6\"},\"type\":\"carpet\"}],\"table\":[{\"cells\":{\"fill\":{\"color\":\"#506784\"},\"line\":{\"color\":\"rgb(17,17,17)\"}},\"header\":{\"fill\":{\"color\":\"#2a3f5f\"},\"line\":{\"color\":\"rgb(17,17,17)\"}},\"type\":\"table\"}],\"barpolar\":[{\"marker\":{\"line\":{\"color\":\"rgb(17,17,17)\",\"width\":0.5},\"pattern\":{\"fillmode\":\"overlay\",\"size\":10,\"solidity\":0.2}},\"type\":\"barpolar\"}],\"pie\":[{\"automargin\":true,\"type\":\"pie\"}]},\"layout\":{\"autotypenumbers\":\"strict\",\"colorway\":[\"#636efa\",\"#EF553B\",\"#00cc96\",\"#ab63fa\",\"#FFA15A\",\"#19d3f3\",\"#FF6692\",\"#B6E880\",\"#FF97FF\",\"#FECB52\"],\"font\":{\"color\":\"#f2f5fa\"},\"hovermode\":\"closest\",\"hoverlabel\":{\"align\":\"left\"},\"paper_bgcolor\":\"rgb(17,17,17)\",\"plot_bgcolor\":\"rgb(17,17,17)\",\"polar\":{\"bgcolor\":\"rgb(17,17,17)\",\"angularaxis\":{\"gridcolor\":\"#506784\",\"linecolor\":\"#506784\",\"ticks\":\"\"},\"radialaxis\":{\"gridcolor\":\"#506784\",\"linecolor\":\"#506784\",\"ticks\":\"\"}},\"ternary\":{\"bgcolor\":\"rgb(17,17,17)\",\"aaxis\":{\"gridcolor\":\"#506784\",\"linecolor\":\"#506784\",\"ticks\":\"\"},\"baxis\":{\"gridcolor\":\"#506784\",\"linecolor\":\"#506784\",\"ticks\":\"\"},\"caxis\":{\"gridcolor\":\"#506784\",\"linecolor\":\"#506784\",\"ticks\":\"\"}},\"coloraxis\":{\"colorbar\":{\"outlinewidth\":0,\"ticks\":\"\"}},\"colorscale\":{\"sequential\":[[0.0,\"#0d0887\"],[0.1111111111111111,\"#46039f\"],[0.2222222222222222,\"#7201a8\"],[0.3333333333333333,\"#9c179e\"],[0.4444444444444444,\"#bd3786\"],[0.5555555555555556,\"#d8576b\"],[0.6666666666666666,\"#ed7953\"],[0.7777777777777778,\"#fb9f3a\"],[0.8888888888888888,\"#fdca26\"],[1.0,\"#f0f921\"]],\"sequentialminus\":[[0.0,\"#0d0887\"],[0.1111111111111111,\"#46039f\"],[0.2222222222222222,\"#7201a8\"],[0.3333333333333333,\"#9c179e\"],[0.4444444444444444,\"#bd3786\"],[0.5555555555555556,\"#d8576b\"],[0.6666666666666666,\"#ed7953\"],[0.7777777777777778,\"#fb9f3a\"],[0.8888888888888888,\"#fdca26\"],[1.0,\"#f0f921\"]],\"diverging\":[[0,\"#8e0152\"],[0.1,\"#c51b7d\"],[0.2,\"#de77ae\"],[0.3,\"#f1b6da\"],[0.4,\"#fde0ef\"],[0.5,\"#f7f7f7\"],[0.6,\"#e6f5d0\"],[0.7,\"#b8e186\"],[0.8,\"#7fbc41\"],[0.9,\"#4d9221\"],[1,\"#276419\"]]},\"xaxis\":{\"gridcolor\":\"#283442\",\"linecolor\":\"#506784\",\"ticks\":\"\",\"title\":{\"standoff\":15},\"zerolinecolor\":\"#283442\",\"automargin\":true,\"zerolinewidth\":2},\"yaxis\":{\"gridcolor\":\"#283442\",\"linecolor\":\"#506784\",\"ticks\":\"\",\"title\":{\"standoff\":15},\"zerolinecolor\":\"#283442\",\"automargin\":true,\"zerolinewidth\":2},\"scene\":{\"xaxis\":{\"backgroundcolor\":\"rgb(17,17,17)\",\"gridcolor\":\"#506784\",\"linecolor\":\"#506784\",\"showbackground\":true,\"ticks\":\"\",\"zerolinecolor\":\"#C8D4E3\",\"gridwidth\":2},\"yaxis\":{\"backgroundcolor\":\"rgb(17,17,17)\",\"gridcolor\":\"#506784\",\"linecolor\":\"#506784\",\"showbackground\":true,\"ticks\":\"\",\"zerolinecolor\":\"#C8D4E3\",\"gridwidth\":2},\"zaxis\":{\"backgroundcolor\":\"rgb(17,17,17)\",\"gridcolor\":\"#506784\",\"linecolor\":\"#506784\",\"showbackground\":true,\"ticks\":\"\",\"zerolinecolor\":\"#C8D4E3\",\"gridwidth\":2}},\"shapedefaults\":{\"line\":{\"color\":\"#f2f5fa\"}},\"annotationdefaults\":{\"arrowcolor\":\"#f2f5fa\",\"arrowhead\":0,\"arrowwidth\":1},\"geo\":{\"bgcolor\":\"rgb(17,17,17)\",\"landcolor\":\"rgb(17,17,17)\",\"subunitcolor\":\"#506784\",\"showland\":true,\"showlakes\":true,\"lakecolor\":\"rgb(17,17,17)\"},\"title\":{\"x\":0.05},\"updatemenudefaults\":{\"bgcolor\":\"#506784\",\"borderwidth\":0},\"sliderdefaults\":{\"bgcolor\":\"#C8D4E3\",\"borderwidth\":1,\"bordercolor\":\"rgb(17,17,17)\",\"tickwidth\":0},\"mapbox\":{\"style\":\"dark\"}}},\"xaxis\":{\"anchor\":\"y\",\"domain\":[0.0,1.0],\"title\":{\"text\":\"Month\"},\"showgrid\":false},\"yaxis\":{\"anchor\":\"x\",\"domain\":[0.0,1.0],\"title\":{\"text\":\"value_per_m2\"}},\"legend\":{\"title\":{\"text\":\"has_pv\"},\"tracegroupgap\":0},\"title\":{\"text\":\"Gas Consumption per m^2\"},\"updatemenus\":[{\"buttons\":[{\"args\":[null,{\"frame\":{\"duration\":500,\"redraw\":false},\"mode\":\"immediate\",\"fromcurrent\":true,\"transition\":{\"duration\":500,\"easing\":\"linear\"}}],\"label\":\"&#9654;\",\"method\":\"animate\"},{\"args\":[[null],{\"frame\":{\"duration\":0,\"redraw\":false},\"mode\":\"immediate\",\"fromcurrent\":true,\"transition\":{\"duration\":0,\"easing\":\"linear\"}}],\"label\":\"&#9724;\",\"method\":\"animate\"}],\"direction\":\"left\",\"pad\":{\"r\":10,\"t\":70},\"showactive\":false,\"type\":\"buttons\",\"x\":0.1,\"xanchor\":\"right\",\"y\":0,\"yanchor\":\"top\"}],\"sliders\":[{\"active\":0,\"currentvalue\":{\"prefix\":\"year=\"},\"len\":0.9,\"pad\":{\"b\":10,\"t\":60},\"steps\":[{\"args\":[[\"2021\"],{\"frame\":{\"duration\":0,\"redraw\":false},\"mode\":\"immediate\",\"fromcurrent\":true,\"transition\":{\"duration\":0,\"easing\":\"linear\"}}],\"label\":\"2021\",\"method\":\"animate\"},{\"args\":[[\"2020\"],{\"frame\":{\"duration\":0,\"redraw\":false},\"mode\":\"immediate\",\"fromcurrent\":true,\"transition\":{\"duration\":0,\"easing\":\"linear\"}}],\"label\":\"2020\",\"method\":\"animate\"}],\"x\":0.1,\"xanchor\":\"left\",\"y\":0,\"yanchor\":\"top\"}]},                        {\"responsive\": true}                    ).then(function(){\n                            Plotly.addFrames('0b5ba879-3a41-454e-b5f1-b3f7c92b7172', [{\"data\":[{\"hovertemplate\":\"has_pv=False<br>year=2021<br>Month=%{x}<br>value_per_m2=%{y}<extra></extra>\",\"ids\":[0.8585471845158175,0.76124431879079,0.5969086978331855,0.4785529915476568,0.3379310858422246,0.10720131957804364,0.08635070549410923,0.09653653381382606,0.11646116350505895,0.2911209782663473,0.5503646777264753,0.6597585580504559],\"legendgroup\":\"False\",\"line\":{\"color\":\"#636efa\",\"dash\":\"solid\"},\"marker\":{\"symbol\":\"circle\"},\"mode\":\"lines\",\"name\":\"False\",\"orientation\":\"v\",\"showlegend\":true,\"x\":[\"Jan\",\"Feb\",\"Mar\",\"Apr\",\"May\",\"Jun\",\"Jul\",\"Aug\",\"Sep\",\"Oct\",\"Nov\",\"Dec\"],\"xaxis\":\"x\",\"y\":[0.8585471845158175,0.76124431879079,0.5969086978331855,0.4785529915476568,0.3379310858422246,0.10720131957804364,0.08635070549410923,0.09653653381382606,0.11646116350505895,0.2911209782663473,0.5503646777264753,0.6597585580504559],\"yaxis\":\"y\",\"type\":\"scatter\"},{\"hovertemplate\":\"has_pv=True<br>year=2021<br>Month=%{x}<br>value_per_m2=%{y}<extra></extra>\",\"ids\":[0.735535736448161,0.6513140208609604,0.5030521508963354,0.40393555622583155,0.27490747057659864,0.08182184014820955,0.06605744097831541,0.07506566907539777,0.0924473756063511,0.2390919382099169,0.45341994435372324,0.5495975611315496],\"legendgroup\":\"True\",\"line\":{\"color\":\"#EF553B\",\"dash\":\"solid\"},\"marker\":{\"symbol\":\"circle\"},\"mode\":\"lines\",\"name\":\"True\",\"orientation\":\"v\",\"showlegend\":true,\"x\":[\"Jan\",\"Feb\",\"Mar\",\"Apr\",\"May\",\"Jun\",\"Jul\",\"Aug\",\"Sep\",\"Oct\",\"Nov\",\"Dec\"],\"xaxis\":\"x\",\"y\":[0.735535736448161,0.6513140208609604,0.5030521508963354,0.40393555622583155,0.27490747057659864,0.08182184014820955,0.06605744097831541,0.07506566907539777,0.0924473756063511,0.2390919382099169,0.45341994435372324,0.5495975611315496],\"yaxis\":\"y\",\"type\":\"scatter\"}],\"name\":\"2021\"},{\"data\":[{\"hovertemplate\":\"has_pv=False<br>year=2020<br>Month=%{x}<br>value_per_m2=%{y}<extra></extra>\",\"ids\":[0.6771074610401512,0.683621282285362,0.5946842065909486,0.30406347276663537,0.19692601418119177,0.13188359321798437,0.10952160230918082,0.0978563276608949,0.1651764573601727,0.40665615737870475,0.5302271780599087,0.7417134985539245],\"legendgroup\":\"False\",\"line\":{\"color\":\"#636efa\",\"dash\":\"solid\"},\"marker\":{\"symbol\":\"circle\"},\"mode\":\"lines\",\"name\":\"False\",\"orientation\":\"v\",\"showlegend\":true,\"x\":[\"Jan\",\"Feb\",\"Mar\",\"Apr\",\"May\",\"Jun\",\"Jul\",\"Aug\",\"Sep\",\"Oct\",\"Nov\",\"Dec\"],\"xaxis\":\"x\",\"y\":[0.6771074610401512,0.683621282285362,0.5946842065909486,0.30406347276663537,0.19692601418119177,0.13188359321798437,0.10952160230918082,0.0978563276608949,0.1651764573601727,0.40665615737870475,0.5302271780599087,0.7417134985539245],\"yaxis\":\"y\",\"type\":\"scatter\"},{\"hovertemplate\":\"has_pv=True<br>year=2020<br>Month=%{x}<br>value_per_m2=%{y}<extra></extra>\",\"ids\":[0.6114639152924966,0.6022991735798278,0.5418675275617559,0.2730640879930258,0.16797389032764212,0.1118637591399273,0.09130830429291695,0.083221767487621,0.15112259104950923,0.3637463378235972,0.4555328781641393,0.6417058239041301],\"legendgroup\":\"True\",\"line\":{\"color\":\"#EF553B\",\"dash\":\"solid\"},\"marker\":{\"symbol\":\"circle\"},\"mode\":\"lines\",\"name\":\"True\",\"orientation\":\"v\",\"showlegend\":true,\"x\":[\"Jan\",\"Feb\",\"Mar\",\"Apr\",\"May\",\"Jun\",\"Jul\",\"Aug\",\"Sep\",\"Oct\",\"Nov\",\"Dec\"],\"xaxis\":\"x\",\"y\":[0.6114639152924966,0.6022991735798278,0.5418675275617559,0.2730640879930258,0.16797389032764212,0.1118637591399273,0.09130830429291695,0.083221767487621,0.15112259104950923,0.3637463378235972,0.4555328781641393,0.6417058239041301],\"yaxis\":\"y\",\"type\":\"scatter\"}],\"name\":\"2020\"}]);\n                        }).then(function(){\n                            \nvar gd = document.getElementById('0b5ba879-3a41-454e-b5f1-b3f7c92b7172');\nvar x = new MutationObserver(function (mutations, observer) {{\n        var display = window.getComputedStyle(gd).display;\n        if (!display || display === 'none') {{\n            console.log([gd, 'removed!']);\n            Plotly.purge(gd);\n            observer.disconnect();\n        }}\n}});\n\n// Listen for the removal of the full notebook cells\nvar notebookContainer = gd.closest('#notebook-container');\nif (notebookContainer) {{\n    x.observe(notebookContainer, {childList: true});\n}}\n\n// Listen for the clearing of the current output cell\nvar outputEl = gd.closest('.output');\nif (outputEl) {{\n    x.observe(outputEl, {childList: true});\n}}\n\n                        })                };                });            </script>        </div>"
     },
     "metadata": {},
     "output_type": "display_data"
    }
   ],
   "source": [
    "fig_pv_monthly_gas_value_per_m2 = px.line(get_value_per_m2_data(pv_monthly_gas_data),\n",
    "               x=\"summary_time\", y=\"value_per_m2\", color=\"segment_1_value\",\n",
    "               title=(pv_monthly_gas_data['fuel'].unique()[0]) + ' Consumption per m^2',\n",
    "               labels={\n",
    "                   'summary_time': 'Month',\n",
    "                   'value': 'Consumption',\n",
    "                   'time_period': 'year',\n",
    "                   'segment_1_value': 'has_pv'\n",
    "               },\n",
    "               animation_frame=\"time_period\", animation_group=\"value_per_m2\")\n",
    "\n",
    "fig_pv_monthly_gas_value_per_m2.update_layout(xaxis=dict(showgrid=False))\n",
    "fig_pv_monthly_gas_value_per_m2.show()"
   ],
   "metadata": {
    "collapsed": false,
    "pycharm": {
     "name": "#%%\n"
    }
   }
  },
  {
   "cell_type": "markdown",
   "source": [
    "Only analyze the value of different types of fuel group by whether has pv or not can cause some bias: we can easily found that, **the households which have pv also have much bigger mean household area (no pv:93.954067,have pv:115.005969), that is very likely because the richer the family, the larger the household area and they are more likely to afford the expense of installation of pv.**\n",
    "And in the relevance analysis, we found area is a highly correlated variable. So we want to eliminate the effect of the area to the fuel value. So we think the **fuel consumption per m2** can be a better way to do deeper explore with the data.\n",
    "Then we found something amazing that: **The average fuel consumption per square metre for households with pv in either gas or electricity is lower in any given month.**\n",
    "That is a good news for all the residents, **pv can help lower their expanse on energy, pay less to energy suppliers and save their money.**"
   ],
   "metadata": {
    "collapsed": false,
    "pycharm": {
     "name": "#%% md\n"
    }
   }
  },
  {
   "cell_type": "code",
   "execution_count": null,
   "outputs": [],
   "source": [],
   "metadata": {
    "collapsed": false,
    "pycharm": {
     "name": "#%%\n"
    }
   }
  }
 ],
 "metadata": {
  "kernelspec": {
   "display_name": "Python 3",
   "language": "python",
   "name": "python3"
  },
  "language_info": {
   "codemirror_mode": {
    "name": "ipython",
    "version": 2
   },
   "file_extension": ".py",
   "mimetype": "text/x-python",
   "name": "python",
   "nbconvert_exporter": "python",
   "pygments_lexer": "ipython2",
   "version": "2.7.6"
  }
 },
 "nbformat": 4,
 "nbformat_minor": 0
}